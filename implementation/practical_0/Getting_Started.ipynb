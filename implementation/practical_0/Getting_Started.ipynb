{
 "cells": [
  {
   "cell_type": "markdown",
   "metadata": {
    "id": "n4fcdzt1L0fL"
   },
   "source": [
    "# Getting Started\n",
    "\n",
    "Prior to the first session make sure you can run the following commands in a [Colab](https://colab.research.google.com/) instance.  \n",
    "\n",
    "You will need to register for a Google Account (Make a throwaway account if you do not want google to have your data).  \n",
    "\n",
    "Register on the Kaggle Platform (required for Mini-Project): [Link](https://www.kaggle.com)\n",
    "\n",
    "## Mounting your google drive\n",
    "\n",
    "You can use google drive to store and access files e.g. storing and loading data from numpy or CSV files.  \n",
    "Use the following command to mount your GDrive and access your files."
   ]
  },
  {
   "cell_type": "code",
   "execution_count": 1,
   "metadata": {
    "colab": {
     "base_uri": "https://localhost:8080/"
    },
    "id": "ydOU6YpVLaow",
    "outputId": "64baee2b-2655-42a6-df1b-853d5e9bb61a"
   },
   "outputs": [
    {
     "name": "stdout",
     "output_type": "stream",
     "text": [
      "Mounted at /content/gdrive/\n"
     ]
    }
   ],
   "source": [
    "from google.colab import drive\n",
    "drive.mount('/content/gdrive/')"
   ]
  },
  {
   "cell_type": "markdown",
   "metadata": {
    "id": "DL-fBcjpMwhd"
   },
   "source": [
    "## Using the GPU\n",
    "\n",
    "Google Colab enables us to obtain free GPU computing resources.  \n",
    "You can switch the runtime of Google Colab from CPU to GPU based via the ```toolbar```:  \n",
    "\n",
    "Commands:\n",
    "```Runtime -> Change Runtime Type -> Hardware Accelerator -> GPU```"
   ]
  },
  {
   "cell_type": "code",
   "execution_count": 1,
   "metadata": {
    "colab": {
     "base_uri": "https://localhost:8080/"
    },
    "id": "0mUJobaLLh-7",
    "outputId": "8339641f-e6c3-4630-fd33-b5dc04db243c"
   },
   "outputs": [
    {
     "name": "stdout",
     "output_type": "stream",
     "text": [
      "Cuda installed! Running on GPU!\n"
     ]
    }
   ],
   "source": [
    "import torch\n",
    "\n",
    "device = 'cpu'\n",
    "if torch.cuda.device_count() > 0 and torch.cuda.is_available():\n",
    "    print(\"Cuda installed! Running on GPU!\")\n",
    "    device = 'cuda'\n",
    "else:\n",
    "    print(\"No GPU available!\")"
   ]
  },
  {
   "cell_type": "markdown",
   "metadata": {
    "id": "6twj4vhbNTUu"
   },
   "source": [
    "## Using Git Repositories\n",
    "\n",
    "You can clone into Git repositories as well!\n",
    "(You can even commit to Git Repositories via ```File -> Save a copy in Github```)\n",
    "Use the ```%cd [directory]``` jupyter cell-magic to access the folder."
   ]
  },
  {
   "cell_type": "code",
   "execution_count": 3,
   "metadata": {
    "colab": {
     "base_uri": "https://localhost:8080/"
    },
    "id": "7kj2vi0tLvf4",
    "outputId": "8025c95d-b22d-459c-843f-7de883b418cd"
   },
   "outputs": [
    {
     "name": "stdout",
     "output_type": "stream",
     "text": [
      "Cloning into 'ACSE-8'...\n",
      "fatal: could not read Username for 'https://github.com': No such device or address\n"
     ]
    }
   ],
   "source": [
    "# cloning a public repo\n",
    "!git clone https://github.com/josephmisiti/awesome-machine-learning\n",
    "%cd awesome-machine-learning"
   ]
  },
  {
   "cell_type": "code",
   "execution_count": null,
   "metadata": {
    "colab": {
     "base_uri": "https://localhost:8080/",
     "height": 53
    },
    "id": "54y12WxZOmpz",
    "outputId": "7e740215-0dfc-49f0-8f63-28606c85d208"
   },
   "outputs": [
    {
     "name": "stdout",
     "output_type": "stream",
     "text": [
      "blogs.md  courses.md  meetups.md\tREADME.md\n",
      "books.md  LICENSE     ml-curriculum.md\tscripts\n"
     ]
    }
   ],
   "source": [
    "!ls"
   ]
  },
  {
   "cell_type": "code",
   "execution_count": null,
   "metadata": {
    "id": "oy3oONKOSADd"
   },
   "outputs": [],
   "source": [
    "# But private repos require a bit more work\n",
    "!git clone https://github.com/acse-2020/ACSE-8"
   ]
  },
  {
   "cell_type": "markdown",
   "metadata": {
    "id": "bNCkxi1mR8iR"
   },
   "source": [
    "Learn how to clone private repos [here](https://techsupportallbugs.wordpress.com/2018/06/05/using-git-with-colab-via-ssh/)"
   ]
  },
  {
   "cell_type": "markdown",
   "metadata": {
    "id": "MSq4G3kpPcBJ"
   },
   "source": [
    "## Saving and Storing Colab Notebooks Locally\n",
    "\n",
    "Google Colab (should) store the notebooks automatically but it can never hurt to save and store - locally - your work.\n",
    "\n",
    "```File -> Save ```\n",
    "\n",
    "### Downloading the .ipynb file\n",
    "\n",
    "```File -> Download .ipynb ```"
   ]
  },
  {
   "cell_type": "markdown",
   "metadata": {
    "id": "ElDDvjGpQmcS"
   },
   "source": [
    "To get access to a private github repo (ACSE-8 is private), follow [this instructions](https://stackoverflow.com/questions/49805960/google-colab-cannot-access-github-private-repositories)"
   ]
  },
  {
   "cell_type": "code",
   "execution_count": null,
   "metadata": {},
   "outputs": [],
   "source": []
  }
 ],
 "metadata": {
  "accelerator": "GPU",
  "colab": {
   "collapsed_sections": [],
   "name": "Getting_Started.ipynb",
   "provenance": []
  },
  "kernelspec": {
   "display_name": "Python 3",
   "language": "python",
   "name": "python3"
  },
  "language_info": {
   "codemirror_mode": {
    "name": "ipython",
    "version": 3
   },
   "file_extension": ".py",
   "mimetype": "text/x-python",
   "name": "python",
   "nbconvert_exporter": "python",
   "pygments_lexer": "ipython3",
   "version": "3.7.4"
  }
 },
 "nbformat": 4,
 "nbformat_minor": 1
}
