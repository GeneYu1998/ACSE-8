{
 "cells": [
  {
   "cell_type": "markdown",
   "metadata": {
    "id": "nUpd5LKQB7jD"
   },
   "source": [
    "#### Notebook modified from the original version by `Lukas Mosser` and `Navjot Kukreja`"
   ]
  },
  {
   "cell_type": "code",
   "execution_count": null,
   "metadata": {
    "id": "E8kCTNLBBeWZ"
   },
   "outputs": [],
   "source": [
    "#Import the standard pylab libraries, matplotlib.pyplot as plt , numpy as np\n",
    "%pylab inline\n",
    "\n",
    "import matplotlib.pyplot as plt"
   ]
  },
  {
   "cell_type": "markdown",
   "metadata": {
    "id": "QIco07fNBeWb"
   },
   "source": [
    "### Breast Cancer example revisited\n",
    "Let's revisit an example we saw on the first day - the breast cancer dataset. "
   ]
  },
  {
   "cell_type": "markdown",
   "metadata": {
    "id": "S1cuzNsmBeWd"
   },
   "source": [
    "A quick recap of what we did then:\n",
    "1. Load the data\n",
    "2. PCA transform\n",
    "3. Train LogisticRegression classifier\n",
    "4. Report performance\n",
    "\n",
    "Today we would like to:\n",
    "- Redo the exercise here (points 1. to 4.), but this time split the data into test/train and report your accuracy on the test set. \n",
    "\n",
    "- The [Logistic Regression classifier](https://scikit-learn.org/stable/modules/generated/sklearn.linear_model.LogisticRegression.html) accepts a _C_ parameter, that is the inverse regularization strength. Find the value of C that gives the best accuracy. \n",
    "\n",
    "- Use a [convenience tool](https://scikit-learn.org/stable/modules/generated/sklearn.model_selection.GridSearchCV.html) to automatically conduct such analyses and find the best value for C. Does PCA improve the results or worsen them? Does scaling improve or worsen them?"
   ]
  },
  {
   "cell_type": "code",
   "execution_count": null,
   "metadata": {
    "id": "IETRzM8LBeWe"
   },
   "outputs": [],
   "source": [
    "from sklearn.datasets import load_breast_cancer\n",
    "from   sklearn.linear_model    import LogisticRegression\n",
    "from sklearn.decomposition import PCA\n",
    "from   sklearn.metrics         import accuracy_score\n",
    "from sklearn.preprocessing import StandardScaler\n",
    "\n",
    "\n",
    "X, y = load_breast_cancer(return_X_y=True)\n",
    "scaler = StandardScaler()\n",
    "Xscaled  = scaler.fit_transform(X)\n",
    "X_pca = PCA(n_components=2).fit_transform(Xscaled)\n",
    "\n",
    "\n",
    "\n",
    "clf     = LogisticRegression(solver='lbfgs')\n",
    "clf.fit(X_pca, y)\n",
    "y_logis = clf.predict(X_pca)\n",
    "coef    = clf.coef_\n",
    "bias    = clf.intercept_\n",
    "\n",
    "xlin     = pylab.linspace(-5, 15, 3000)\n",
    "ylin     = -(bias[0]+coef[0,0]*xlin)/coef[0,1]\n",
    "\n",
    "print('\\n'*2,\"Accuracy obtained with Logistic Regression: %2.1f percent\" % (accuracy_score(y, y_logis)*100),'\\n'*1)\n",
    "plt.figure  (figsize=(6,6))\n",
    "plt.scatter (X_pca[:, 0], X_pca[:, 1], c=y_logis)\n",
    "plt.plot    (xlin, ylin, 'r-', label='DecisionBoundary')\n",
    "plt.xlabel  ('First Component')\n",
    "plt.ylabel  ('Second Component')\n",
    "plt.title   ('RESULTS OF LOGISTIC REGRESSION')\n",
    "plt.legend  ()\n",
    "plt.show    ()"
   ]
  },
  {
   "cell_type": "markdown",
   "metadata": {
    "id": "8E7ppoZWBeWf"
   },
   "source": [
    "What is wrong with the above accuracy score?\n",
    "\n",
    "We are reporting accuracy on the same data that we used to train the classifier! The classifier has seen the labels for all these examples (and still gets ~4% wrong)!\n",
    "\n",
    "Ideally, we should split this data into a train/test/validation split and only report the performance on the test dataset. We will use the StratifiedShuffleSplit to create a 80/20 train/test split:"
   ]
  },
  {
   "cell_type": "code",
   "execution_count": null,
   "metadata": {
    "id": "jp-svMYOBeWf"
   },
   "outputs": [],
   "source": [
    "from   sklearn.preprocessing   import StandardScaler\n",
    "from   sklearn.model_selection import StratifiedShuffleSplit\n"
   ]
  },
  {
   "cell_type": "markdown",
   "metadata": {
    "id": "HJ7qMp_jBeWg"
   },
   "source": [
    "### Plot regularization strength vs. Test and Train Accuracy on a log scale. Which factor of C do you choose?"
   ]
  },
  {
   "cell_type": "code",
   "execution_count": null,
   "metadata": {
    "id": "r2qTFKrYBeWh"
   },
   "outputs": [],
   "source": []
  },
  {
   "cell_type": "markdown",
   "metadata": {
    "id": "a3_6vpx-BeWh"
   },
   "source": [
    "## GridSearch\n",
    "\n",
    "The above hyperparameter search is so common that we often have utilities to automate this for us. "
   ]
  },
  {
   "cell_type": "code",
   "execution_count": null,
   "metadata": {
    "id": "0D88A-znBeWi"
   },
   "outputs": [],
   "source": [
    "# use an automated tool to search the optimal hyperparameter on the dataset after PCA"
   ]
  },
  {
   "cell_type": "code",
   "execution_count": null,
   "metadata": {
    "id": "uaK91n7jBeWj"
   },
   "outputs": [],
   "source": [
    "gspca.best_params_ # gives you best value of C"
   ]
  },
  {
   "cell_type": "code",
   "execution_count": null,
   "metadata": {
    "id": "9nDwxINRBeWk"
   },
   "outputs": [],
   "source": [
    "gspca.best_score_  # reports best score"
   ]
  },
  {
   "cell_type": "markdown",
   "metadata": {
    "id": "0jkgxan9BeWk"
   },
   "source": [
    "#### Without PCA"
   ]
  },
  {
   "cell_type": "code",
   "execution_count": null,
   "metadata": {
    "id": "eAuG_5paBeWl"
   },
   "outputs": [],
   "source": [
    "# use an automated tool to search the optimal hyperparameter on the dataset without PCA"
   ]
  },
  {
   "cell_type": "code",
   "execution_count": null,
   "metadata": {
    "id": "HmljvNnBBeWl"
   },
   "outputs": [],
   "source": [
    "gsnpca.best_params_  # gives you best value of C"
   ]
  },
  {
   "cell_type": "code",
   "execution_count": null,
   "metadata": {
    "id": "hMdw1-EfBeWm"
   },
   "outputs": [],
   "source": [
    "gsnpca.best_score_  # reports best score"
   ]
  },
  {
   "cell_type": "markdown",
   "metadata": {
    "id": "dHthmv8VBeWn"
   },
   "source": [
    "### Bonus Reading Material\n",
    "\n",
    "A major problem in using Deep Neural Networks is the difficulty of understanding _what_ a Neural Network is doing. Read the blog post \n",
    "[here](http://colah.github.io/posts/2014-03-NN-Manifolds-Topology/) by \n",
    "[Chris Olah](https://ai.google/research/people/ChristopherOlah) on the topology of neural networks.\n"
   ]
  },
  {
   "cell_type": "code",
   "execution_count": null,
   "metadata": {
    "id": "1xKBH1hJBeWn"
   },
   "outputs": [],
   "source": []
  }
 ],
 "metadata": {
  "colab": {
   "collapsed_sections": [],
   "name": "Afternoon-Session-3_GridSearch_Exercise.ipynb",
   "provenance": []
  },
  "kernelspec": {
   "display_name": "Python 3",
   "language": "python",
   "name": "python3"
  },
  "language_info": {
   "codemirror_mode": {
    "name": "ipython",
    "version": 3
   },
   "file_extension": ".py",
   "mimetype": "text/x-python",
   "name": "python",
   "nbconvert_exporter": "python",
   "pygments_lexer": "ipython3",
   "version": "3.7.4"
  }
 },
 "nbformat": 4,
 "nbformat_minor": 1
}
