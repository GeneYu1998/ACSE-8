{
 "cells": [
  {
   "cell_type": "markdown",
   "metadata": {
    "id": "OPF4rx2tyweZ"
   },
   "source": [
    "#### Notebook modified from the original version by `Lukas Mosser` and `Navjot Kukreja`"
   ]
  },
  {
   "cell_type": "code",
   "execution_count": 1,
   "metadata": {
    "colab": {
     "base_uri": "https://localhost:8080/"
    },
    "id": "LL3vQPYkhzOy",
    "outputId": "eeb83707-e017-4942-8887-8e37d6c7358c"
   },
   "outputs": [],
   "source": [
    "!pip install pycm livelossplot\n",
    "%pylab inline"
   ]
  },
  {
   "cell_type": "markdown",
   "metadata": {
    "id": "En9dBOn0hzPL"
   },
   "source": [
    "# ACSE Module 8 - Practical - Morning Session 3:\n",
    "----\n",
    "# Training Deep Neural Networks - Cross-Validation\n",
    "\n",
    "###Objectives of today's session:\n",
    "\n",
    "- Design a fully connected feed forward neural network for MNIST\n",
    "- Create a validation split and normalise it\n",
    "- Perform a manual grid search on the momentum parameters\n",
    "- Combine validation and training set once we have optimal momentum parameters and train the model again\n",
    "- Run the test dataset and report accuracy\n",
    "- Generate some of the plots we saw in the theory lectures to analyse performance\n",
    "\n",
    "<br>\n",
    "\n",
    "On Practical 2, we learned how to **train network parameters** using backpropagation. Today we will learn how to choose **hyperparameters**:\n",
    "\n",
    "<img src=\"https://miro.medium.com/max/2140/1*pR6bSQXgC1Y_lYTeLDqVqg.png\" alt=\"network\" width=\"600\"/>"
   ]
  },
  {
   "cell_type": "markdown",
   "metadata": {
    "id": "3l4gJQzshyAZ"
   },
   "source": [
    "#### A few imports before we get started"
   ]
  },
  {
   "cell_type": "code",
   "execution_count": 2,
   "metadata": {
    "colab": {
     "base_uri": "https://localhost:8080/"
    },
    "id": "FcSo96KRhyAa",
    "outputId": "ae62a387-57ae-420f-d366-7ad0623d1726"
   },
   "outputs": [],
   "source": [
    "from sklearn.metrics import accuracy_score\n",
    "from sklearn.model_selection import StratifiedShuffleSplit\n",
    "\n",
    "from livelossplot import PlotLosses\n",
    "from pycm import *\n",
    "\n",
    "import torch\n",
    "import torch.nn as nn\n",
    "import torch.nn.functional as F\n",
    "from torch.utils.data import TensorDataset, DataLoader\n",
    "import torchvision.transforms as transforms\n",
    "from torchvision.datasets import MNIST\n",
    "\n",
    "\n",
    "def set_seed(seed):\n",
    "    \"\"\"\n",
    "    Use this to set ALL the random seeds to a fixed value and take out any randomness from cuda kernels\n",
    "    \"\"\"\n",
    "    random.seed(seed)\n",
    "    np.random.seed(seed)\n",
    "    torch.manual_seed(seed)\n",
    "    torch.cuda.manual_seed_all(seed)\n",
    "\n",
    "    torch.backends.cudnn.benchmark = False  ##uses the inbuilt cudnn auto-tuner to find the fastest convolution algorithms. -\n",
    "    torch.backends.cudnn.enabled   = False\n",
    "\n",
    "    return True\n",
    "\n",
    "device = 'cpu'\n",
    "if torch.cuda.device_count() > 0 and torch.cuda.is_available():\n",
    "    print(\"Cuda installed! Running on GPU!\")\n",
    "    device = 'cuda'\n",
    "else:\n",
    "    print(\"No GPU available!\")"
   ]
  },
  {
   "cell_type": "markdown",
   "metadata": {
    "id": "BLwI-j3wg3XG"
   },
   "source": [
    "# Important concepts from Practicall session 2 revisited:\n",
    "\n",
    "- **Recap 1**: `nn.Module` as a tool to define neural networks\n",
    "\n",
    "We use the `nn.Module` class to define our network:"
   ]
  },
  {
   "cell_type": "code",
   "execution_count": null,
   "metadata": {
    "id": "kx6mV8NihqHP"
   },
   "outputs": [],
   "source": [
    "# pseudo-code, don't try to run it!\n",
    "\n",
    "class DummyNetwork(nn.Module):\n",
    "    def __init__(self):\n",
    "        super(DummyNetwork, self).__init__()\n",
    "        # define your layers and activations\n",
    "        \n",
    "    def forward(self, x):\n",
    "        # define your network forward pass\n",
    "        # return output of the network"
   ]
  },
  {
   "cell_type": "markdown",
   "metadata": {
    "id": "uqL5F7aOimxE"
   },
   "source": [
    "- **Recap 2**: training loop structure\n",
    "\n",
    "Training loop structure is always of the form (with variations, of course):"
   ]
  },
  {
   "cell_type": "code",
   "execution_count": null,
   "metadata": {
    "id": "gHWrxk59i0EC"
   },
   "outputs": [],
   "source": [
    "# pseudo-code, don't try to run it!\n",
    "\n",
    "model = DummyNetwork()                                    # get an instance of your network \n",
    "optimizer = torch.optim.SGD(model.parameters(), lr=1e-3)  # define an optimiser (SGC, Adam, etc)\n",
    "criterion = torch.nn.MSELoss()                            # define your loss function\n",
    "model.train()                                             # tell the model we are going to train\n",
    "    for X, y in data_loader:                              # iterate over epochs\n",
    "        optimizer.zero_grad()                             # reset gradients\n",
    "        output = model(X)          # forward propagtion through the model\n",
    "        loss = criterion(y, output)    # compute loss\n",
    "        loss.backward()            # backpropagate\n",
    "        optimizer.step()           # update model parameters using the gradients"
   ]
  },
  {
   "cell_type": "markdown",
   "metadata": {
    "id": "yiC24RPhkHFu"
   },
   "source": [
    "- **Recap 3**: `Dataset` and `Dataloader`\n",
    "\n",
    "[`Datasets` and `Dataloader`](https://pytorch.org/tutorials/beginner/basics/data_tutorial.html) tutorial.\n",
    "\n",
    "[`Dataset`](https://pytorch.org/docs/stable/data.html#torch.utils.data.Dataset) : an abstract class representing a dataset. <br>\n",
    "[`Dataloader`](https://pytorch.org/docs/stable/data.html#torch.utils.data.DataLoader):  provides an iterable over the given dataset."
   ]
  },
  {
   "cell_type": "markdown",
   "metadata": {
    "id": "g_8LStChnX8c"
   },
   "source": [
    "- **Additional reads**: Computational graphs (**not required**)\n",
    "\n",
    "A good explanation of [computational graphs and autodifferentiation](https://blog.paperspace.com/pytorch-101-understanding-graphs-and-automatic-differentiation/)"
   ]
  },
  {
   "cell_type": "markdown",
   "metadata": {
    "id": "rGURJ5EBhzPO"
   },
   "source": [
    "---\n",
    "\n",
    "## Task 1: Training a deep neural network on MNIST using Pytorch\n",
    "\n",
    "In this exercise we will use cross-validation to estimate the hyperparameters of a deep-neural network trained on the MNIST dataset and create predictions on the MNIST datasets public test set."
   ]
  },
  {
   "cell_type": "markdown",
   "metadata": {
    "id": "6tLRNHc8GOfR"
   },
   "source": [
    "## 1.1: Mounting the google drive for later storage"
   ]
  },
  {
   "cell_type": "code",
   "execution_count": 5,
   "metadata": {
    "colab": {
     "base_uri": "https://localhost:8080/"
    },
    "id": "Dg3oP6GHGOsX",
    "outputId": "993b3b0d-4b7a-4145-b427-fe65394b5917"
   },
   "outputs": [],
   "source": [
    "# from google.colab import drive\n",
    "# drive.mount('/content/gdrive/')"
   ]
  },
  {
   "cell_type": "markdown",
   "metadata": {
    "id": "y_UioFmvFIDw"
   },
   "source": [
    "## 1.2: The MNIST Dataset - Hello World of Deep-Learning"
   ]
  },
  {
   "cell_type": "code",
   "execution_count": 6,
   "metadata": {
    "colab": {
     "base_uri": "https://localhost:8080/",
     "height": 790,
     "referenced_widgets": [
      "d1628191a58b4f339db086cb673b6db3",
      "87f2c7da91d5473e856b603754b59759",
      "0b402331a8604a47934ec7880fd26133",
      "7462695712b74f95a6a29d4d790f2441",
      "7b4e839883974b9e87f03e913bdea9dd",
      "c452a49b79c04d12bd5d111eff3dcb7b",
      "fdcf7488076e48f18f31fcec05546bdd",
      "922fa24e17c54bc3bfcc91da4d417ed8",
      "b974eda70998447e902ae40b99b5929d",
      "251bad0877f6427785905683a64a315f",
      "e96924017acb4cbd9d2a601a03239416",
      "2522db19930f49829ce4c284c402a553",
      "fe08123d020842689a057696d6397d69",
      "25e064d1a3804ec4846df2edff886644",
      "b6e932826d1242c6b95df2eebfdec308",
      "1b7f3e7a80ba46699d3e464eb4de26a2",
      "e8d68c64466b4ccd93f139f0766c6579",
      "6d08752786c648958a13c119be62f188",
      "5c25dda2c40e4fc6a02296568d5e9ca0",
      "e9cbff58c6ba4811aac9a1308bc4fbf0",
      "1b9b376ad3104dfcad9b44e125645281",
      "2eb9e43f7a93410990cab08d3be62c97",
      "b14a02f0789b48a9813d15010e062a76",
      "3882a331f77c4ff289003cdff412d36d",
      "335bcdc81f874b6bab1c5261b969d6ed",
      "83d127ad79e144f38d935e576f3d18c9",
      "ba68b534c8964dc0b8918ef4c92f0824",
      "cc2c5715a1a0413e80aa606d869600e1",
      "712065ee34254e81aea32bb31f6b7056",
      "b1645e0e771c44f790014a6aabc2d57a",
      "673efa7e349f41a79af44129946ef33a",
      "aeed03dbd38f4260a30bbd60a9ad4f28"
     ]
    },
    "id": "3K-yVuQvhzPs",
    "outputId": "d007901f-0431-457c-95a3-7b8c7141545a"
   },
   "outputs": [],
   "source": [
    "# mnist_train = MNIST(\"./\", download=True, train=True)\n",
    "# mnist_test = MNIST(\"./\", download=True, train=False)"
   ]
  },
  {
   "cell_type": "markdown",
   "metadata": {
    "id": "ZIKWFh11AK_Y"
   },
   "source": [
    "## 1.3: Instantiate and create a ```StratifiedShuffleSplit``` generator using sklearn.\n",
    "1. Create a ```sklearn.model_selection.StratifiedShuffleSplit``` object with 1-split and a test-size of 10%.\n",
    "2. Get the training and validation indices from the shuffel-split\n",
    "\n",
    "[`StratifiedShuffleSplit` documentation](https://scikit-learn.org/stable/modules/generated/sklearn.model_selection.StratifiedShuffleSplit.html) (+ a trick to embed a website in notebooks for easy access while coding)"
   ]
  },
  {
   "cell_type": "code",
   "execution_count": null,
   "metadata": {
    "id": "IJy4mNnZkWN9"
   },
   "outputs": [],
   "source": [
    "%%html\n",
    "<iframe src=\"https://scikit-learn.org/stable/modules/generated/sklearn.model_selection.StratifiedShuffleSplit.html\" width=\"1200\" height=\"300\">\n",
    "</iframe>"
   ]
  },
  {
   "cell_type": "code",
   "execution_count": 7,
   "metadata": {
    "colab": {
     "base_uri": "https://localhost:8080/"
    },
    "id": "sGqFAwD-GhQp",
    "outputId": "feb71ced-35a5-4346-cc16-a0e6613a5854"
   },
   "outputs": [],
   "source": [
    "# shuffler = StratifiedShuffleSplit(n_splits=1, test_size=0.1, random_state=42).split(mnist_train.data, mnist_train.targets)\n",
    "# indices = [(train_idx, validation_idx) for train_idx, validation_idx in shuffler][0]\n",
    "# print('indices type: ', type(indices))\n",
    "# print('indices: ', indices)\n",
    "# print('mnist_train type: ', type(mnist_train))\n",
    "# print('mnist_train.data type: ', type(mnist_train.data))\n",
    "# print('mnist_train.targets type: ', type(mnist_train.targets))\n",
    "# print('mnist_train.targets size: ', mnist_train.targets.size())\n",
    "# print('mnist_train targets: ', mnist_train.targets)\n",
    "# print('pixel value of one mnist_train image: ', mnist_train.data[0][14][14].item())"
   ]
  },
  {
   "cell_type": "markdown",
   "metadata": {
    "id": "euZacTUtALq7"
   },
   "source": [
    "## 1.4 `code along`: Split and standardise the data\n",
    "The original mnist data is given in gray-scale values between 0 and 255.\n",
    "You will need to write a normalisation method that takes in a ```torch.Tensor``` and performs normalisation.\n",
    "The mean of MNIST is 0.1307 and it's standard deviation is 0.3081 (after division by 255). We could have computed these values using the [StandardScaler](https://scikit-learn.org/stable/modules/generated/sklearn.preprocessing.StandardScaler.html) function in sklearn, but since they are provided here, use them directly.\n"
   ]
  },
  {
   "cell_type": "code",
   "execution_count": null,
   "metadata": {
    "id": "ZRFencWQGhQr"
   },
   "outputs": [],
   "source": [
    "def apply_normalization(X):\n",
    "  # normalize pixel values to the range 0 to 1. Pixel values are often unsigned integers in the range between 0 and 255.\n",
    "  # mean of the pixel values in this data set is 0.1307\n",
    "  # variance of the pixel values in this dataset is 0.3081\n",
    "  return X"
   ]
  },
  {
   "cell_type": "markdown",
   "metadata": {
    "id": "WSbjCTLu2a_W"
   },
   "source": [
    "Use the indices computed above and normalise the data:"
   ]
  },
  {
   "cell_type": "code",
   "execution_count": null,
   "metadata": {
    "id": "wc4wNDNZHyBI"
   },
   "outputs": [],
   "source": [
    "X_train, y_train = apply_normalization(mnist_train.data[indices[0]].float()), mnist_train.targets[indices[0]] # index is 0 because that's how we defined the indices above\n",
    "X_val, y_val = apply_normalization(mnist_train.data[indices[1]].float()), mnist_train.targets[indices[1]]     # index is 1 because that's how we defined the indices above\n",
    "X_test, y_test =  apply_normalization(mnist_test.data.float()), mnist_test.targets                            # test dataset"
   ]
  },
  {
   "cell_type": "markdown",
   "metadata": {
    "id": "RM9owG-yAMLv"
   },
   "source": [
    "## 1.5: Instantiate a ```torch.utils.data.TensorDataset``` for training, validation and test data\n",
    "\n",
    "Remember from last session, we use `TensorDataset` to reduce the memory footprint and have a convenient way to access large datasets stored on disk."
   ]
  },
  {
   "cell_type": "code",
   "execution_count": null,
   "metadata": {
    "id": "P1pHG7qoGhQr"
   },
   "outputs": [],
   "source": [
    "mnist_train = TensorDataset(X_train, y_train.long())    # PyTorch wants longs for categorical data\n",
    "mnist_validate = TensorDataset(X_val, y_val.long())\n",
    "mnist_test = TensorDataset(X_test, y_test.long())"
   ]
  },
  {
   "cell_type": "markdown",
   "metadata": {
    "id": "LZ2qMRUGAEUA"
   },
   "source": [
    "Let's visualise an example of the images and check whether the data is normalised properly (compute .mean() and .std() on the training set.)"
   ]
  },
  {
   "cell_type": "code",
   "execution_count": null,
   "metadata": {
    "colab": {
     "base_uri": "https://localhost:8080/",
     "height": 282
    },
    "id": "MmexzozbIO2S",
    "outputId": "1a10994c-c2d8-4af7-a72a-0f4adbdd035d"
   },
   "outputs": [
    {
     "name": "stdout",
     "output_type": "stream",
     "text": [
      "0.00011968147737206891 1.000293493270874\n"
     ]
    },
    {
     "data": {
      "image/png": "[encoded data removed]",
      "text/plain": [
       "<Figure size 432x288 with 2 Axes>"
      ]
     },
     "metadata": {
      "needs_background": "light",
      "tags": []
     },
     "output_type": "display_data"
    }
   ],
   "source": [
    "plt.imshow(X_train[0], cmap=cm.gray)\n",
    "plt.colorbar()\n",
    "print(X_train.mean().item(), X_train.std().item())"
   ]
  },
  {
   "cell_type": "markdown",
   "metadata": {
    "id": "-pmRo9eE73IU"
   },
   "source": [
    "And let's plot a few more:"
   ]
  },
  {
   "cell_type": "code",
   "execution_count": null,
   "metadata": {
    "colab": {
     "base_uri": "https://localhost:8080/",
     "height": 702
    },
    "id": "KX6n6BOE5eCY",
    "outputId": "2ea8d88f-cdfe-4b61-e3bd-f1eddf511214"
   },
   "outputs": [
    {
     "data": {
      "image/png": "[encoded data removed]",
      "text/plain": [
       "<Figure size 864x864 with 25 Axes>"
      ]
     },
     "metadata": {
      "needs_background": "light",
      "tags": []
     },
     "output_type": "display_data"
    }
   ],
   "source": [
    "fig=plt.figure(figsize=(12, 12))\n",
    "columns = 5\n",
    "rows = 5\n",
    "for i in range(1, columns*rows +1):\n",
    "    fig.add_subplot(rows, columns, i)\n",
    "    plt.imshow(X_train[i], cmap=cm.gray)\n",
    "plt.show()"
   ]
  },
  {
   "cell_type": "markdown",
   "metadata": {
    "id": "pQScGYoWSZtj"
   },
   "source": [
    "## 1.6 `code along`: Create a SimpleNet as a ```nn.Module```\n",
    "Create a simple feed-forward neural network with the following architecture:\n",
    "- Input Layer: 28*28 neurons\n",
    "- Hidden Layer: 25 neurons\n",
    "- Output Layer: 10 neurons\n",
    "- Hidden Layer Activation: ReLU\n",
    "- Output Layer Activation: None\n",
    "\n",
    "Which ones of these parameters are dictated by the nature of the dataset? <br>\n",
    "What are these values we defined above?\n"
   ]
  },
  {
   "cell_type": "code",
   "execution_count": null,
   "metadata": {
    "id": "y8tRv89qGhQr"
   },
   "outputs": [],
   "source": [
    "class SimpleNet(nn.Module):\n",
    "    def __init__(self):\n",
    "        super(SimpleNet, self).__init__()\n",
    "        # use nn.Linear and nn.Relu to define your layers and activations\n",
    "        \n",
    "        \n",
    "    def forward(self, x):\n",
    "        # code your forward pass using the layers and activations above\n",
    "\n",
    "        return z2   # return z2 (not a2, we will see this later)"
   ]
  },
  {
   "cell_type": "markdown",
   "metadata": {
    "id": "g-xq9eRlASan"
   },
   "source": [
    "[`nn.Linear` documentation](https://pytorch.org/docs/stable/generated/torch.nn.Linear.html) <br>\n",
    "[`nn.ReLu` documentation](https://pytorch.org/docs/stable/generated/torch.nn.ReLU.html)"
   ]
  },
  {
   "cell_type": "markdown",
   "metadata": {
    "id": "RPH2bB7hECQf"
   },
   "source": [
    "Let's check the input, hidden, and output sizes.\n",
    "\n",
    "What happens if we comment out parts or of all the forward function?"
   ]
  },
  {
   "cell_type": "code",
   "execution_count": 9,
   "metadata": {
    "colab": {
     "base_uri": "https://localhost:8080/"
    },
    "id": "eGR26yBcDnED",
    "outputId": "a86cbacd-e9dd-4f88-b261-06dd87d99210"
   },
   "outputs": [],
   "source": [
    "set_seed(42) # what does the setting the seed does here?\n",
    "model = SimpleNet()\n",
    "X_ = X_train[0].view(-1,28*28)\n",
    "y_ = model(X_)\n",
    "print(y_.shape,y_.max())#.item())"
   ]
  },
  {
   "cell_type": "markdown",
   "metadata": {
    "id": "uuh9vYwiE6IJ"
   },
   "source": [
    "The `torch.view` function is similar to `torch.reshape` in PyTorch. But since `torch.reshape` behaves a bit erratically in terms of copying or providing a view of the tensor, we will always use `torch.view`. You can find a good explanation of the differences [here](https://stackoverflow.com/questions/49643225/whats-the-difference-between-reshape-and-view-in-pytorch)"
   ]
  },
  {
   "cell_type": "markdown",
   "metadata": {
    "id": "3TYLEVrsANtX"
   },
   "source": [
    "## 1.7: Sanity checks on our SimpleNet\n"
   ]
  },
  {
   "cell_type": "code",
   "execution_count": 8,
   "metadata": {
    "colab": {
     "base_uri": "https://localhost:8080/"
    },
    "id": "cPxBHE2MhzQA",
    "outputId": "41ef0706-474c-4c0a-9723-e8f2bda5da87"
   },
   "outputs": [],
   "source": [
    "set_seed(42) # what does the setting the seed does here?\n",
    "model = SimpleNet().to(device) ## .to(device) loads the model on the device, i.e GPUs in this example\n",
    "criterion = nn.CrossEntropyLoss() # change to NLLLoss if you want to keep the softmax in the module (network)\n",
    "\n",
    "X_ = X_train[0].view(-1, 28*28).to(device)  ## get 1 sample only. Also .view(-1,28*28) reshapes the tensor to get it ready for the first fully connected layer. \n",
    "## the dimension of -1 implies that the actual value for this dimension will be inferred so that the number of elements in the view matches the original number of elements.\n",
    "\n",
    "y_ = torch.zeros((1)).to(device).long().to(device) # loads the tensor to the current device in use, i.e the GPUs\n",
    "a2 = model(X_) ## a2 = z2 in this case since SimpleNet is returning z2\n",
    "loss = criterion(a2, y_) ## the loss criterion CrossEntropyLoss(), combines nn.LogSoftMax and nn.NLLLoss so it is essentially computing the loss between the non_linear transform of z2 and the label y_\n",
    "y_pred = F.log_softmax(a2, dim=1).max(1)[1] ## gives the predicted value as the maximum probability value index based on the log_softmax operation on a2\n",
    "\n",
    "print(F.log_softmax(a2, dim=1))\n",
    "print('prediction:                                 ', y_pred.item())\n",
    "print('true value (we force it to be zero above!): ', y_.item())"
   ]
  },
  {
   "cell_type": "markdown",
   "metadata": {
    "id": "OJgoukKlPb_6"
   },
   "source": [
    "Note that we have left the last activation out of our network. This is because PyTorch's [`CrossEntropyLoos`](https://pytorch.org/docs/stable/generated/torch.nn.CrossEntropyLoss.html) already includes a [`LogSoftmax`](https://pytorch.org/docs/stable/generated/torch.nn.LogSoftmax.html#torch.nn.LogSoftmax) operation."
   ]
  },
  {
   "cell_type": "markdown",
   "metadata": {
    "id": "bcFPI8XKAOtl"
   },
   "source": [
    "## 1.8 `code along`: Create simple train function\n",
    "\n",
    "The function should perform the following tasks:\n",
    "1. Set the model into training mode\n",
    "2. Iterate over all the mini-batches\n",
    "3. Send the batches to the GPU / CPU\n",
    "4. Zero all the gradients\n",
    "5. Perform the forward-pass\n",
    "6. Compute the loss\n",
    "7. Perform the backward-pass\n",
    "8. Keep a running measure of training loss and accuracy\n",
    "9. Perform a step of gradient-descent\n",
    "10. Once done with all batches, return average training loss and accuracy"
   ]
  },
  {
   "cell_type": "code",
   "execution_count": null,
   "metadata": {
    "id": "FRrehKxjhzQQ"
   },
   "outputs": [],
   "source": [
    "def train(model, optimizer, criterion, data_loader):\n",
    "    # set the model in training mode so the parameters(weights)to be optimised will be updated\n",
    "    train_loss, train_accuracy = 0, 0 # initialise loss and accuracy to 0 for training\n",
    "    for X, y in data_loader:              # iterate over the mini-batches defined in the data loader\n",
    "        X, y = X.to(device), y.to(device) # send data to the device (GPU in our case)\n",
    "        # resetting optimiser info\n",
    "        # forward pass\n",
    "        # compute loss\n",
    "        # backpropagation to calculate the gradients\n",
    "        train_loss += loss*X.size(0)  # add it up for different mini-batches and undo loss normalisation\n",
    "        # get y_pred (predictions)\n",
    "        train_accuracy += accuracy_score(y.cpu().numpy(), y_pred.detach().cpu().numpy())*X.size(0) # compute accuracy\n",
    "        # perform a step of gradient descent\n",
    "        \n",
    "    return train_loss/len(data_loader.dataset), train_accuracy/len(data_loader.dataset)  # here we can average over the whole dataset"
   ]
  },
  {
   "cell_type": "markdown",
   "metadata": {
    "id": "9ZyumfW0AQDE"
   },
   "source": [
    "## 1.9 `code along`: Create simple validate function\n",
    "\n",
    "The function should perform the following tasks:\n",
    "1. Set the model into evaluation mode\n",
    "2. Iterate over all the mini-batches\n",
    "3. Send the batches to the GPU / CPU\n",
    "5. Perform the forward-pass\n",
    "6. Compute the loss\n",
    "8. Keep a running measure of validation loss and accuracy\n",
    "10. Once done with all batches, return average validation loss and accuracy"
   ]
  },
  {
   "cell_type": "code",
   "execution_count": null,
   "metadata": {
    "id": "Br0jvB7-hzQZ",
    "scrolled": false
   },
   "outputs": [],
   "source": [
    "def validate(model, criterion, data_loader):      # does not need optimiser\n",
    "    # set model to evaluation mode so no dropout or any other funny stuff happens here\n",
    "    validation_loss, validation_accuracy = 0., 0. # initialise loss and accuracy to 0 for training\n",
    "    for X, y in data_loader:                      # iterate over the mini-batches defined in the data loader\n",
    "        with torch.no_grad():                     # deactivates autograd engine\n",
    "            X, y = X.to(device), y.to(device)     # send data to the device (GPU in our case)\n",
    "            # forward pass\n",
    "            # evaluate loss\n",
    "            validation_loss += loss*X.size(0)     # add it up for different mini-batches and undo loss normalisation\n",
    "            # get y_pred (predictions)\n",
    "            validation_accuracy += accuracy_score(y.cpu().numpy(), y_pred.cpu().numpy())*X.size(0) # compute accuracy\n",
    "            \n",
    "    return validation_loss/len(data_loader.dataset), validation_accuracy/len(data_loader.dataset)  # here we can average over the whole dataset"
   ]
  },
  {
   "cell_type": "markdown",
   "metadata": {
    "id": "i_pehihNAQ9E"
   },
   "source": [
    " ## 1.10: Set the hyperparameters of your model\n",
    "- Seed: 42\n",
    "- learning rate: 1e-2\n",
    "- Optimizer: SGD\n",
    "- momentum: 0.9\n",
    "- Number of Epochs: 30\n",
    "- Batchsize: 64\n",
    "- Test Batch Size (no effect on training, but affects validation times): 1000\n",
    "- Shuffle the training set every epoch: Yes"
   ]
  },
  {
   "cell_type": "code",
   "execution_count": null,
   "metadata": {
    "id": "Zvp3L6IGhzQj"
   },
   "outputs": [],
   "source": [
    "seed = 42\n",
    "lr = 1e-2\n",
    "momentum = 0.9\n",
    "batch_size = 64\n",
    "test_batch_size = 1000\n",
    "n_epochs = 30"
   ]
  },
  {
   "cell_type": "markdown",
   "metadata": {
    "id": "-QgnLf8fJ8nG"
   },
   "source": [
    "## 1.11 `code along`: Instantiate our model, optimizer and loss function\n",
    "1. Set the random number generator seed using ```set_seed``` to make everything reproducible.\n",
    "2. get an instance of the model and send it to the GPU with `.to(device)`\n",
    "3. use an SGD optimiser with the lr and momentum defined above\n",
    "4. use a sensible loss criterion for our multi-class classification problem"
   ]
  },
  {
   "cell_type": "code",
   "execution_count": null,
   "metadata": {
    "id": "a4v1l2QEGhQu"
   },
   "outputs": [],
   "source": [
    "set_seed(seed)\n",
    "model =     # instantiate model and send it to the GPU\n",
    "optimizer = # instantiate the optimizer\n",
    "criterion = # define the loss"
   ]
  },
  {
   "cell_type": "markdown",
   "metadata": {
    "id": "ZfBaeCSiASt7"
   },
   "source": [
    "## 1.12: Create dataloaders for the training, validation and test data"
   ]
  },
  {
   "cell_type": "code",
   "execution_count": null,
   "metadata": {
    "id": "rH5U5pDnGhQu"
   },
   "outputs": [],
   "source": [
    "train_loader = DataLoader(mnist_train, batch_size=batch_size, shuffle=True, num_workers=0) ## num_workers=0 means that the main process will retrieve the data.\n",
    "validation_loader = DataLoader(mnist_validate, batch_size=test_batch_size, shuffle=False, num_workers=0)\n",
    "test_loader = DataLoader(mnist_test, batch_size=test_batch_size, shuffle=False, num_workers=0)"
   ]
  },
  {
   "cell_type": "markdown",
   "metadata": {
    "id": "spMsm72msau2"
   },
   "source": [
    "Do you know what `shuffle` do? Why do we use it here?\n",
    "\n",
    "If num_workers=2 for example, 2 other workers will put data into the RAM instead of the main process. Good discussion about how to choose it [here](https://discuss.pytorch.org/t/guidelines-for-assigning-num-workers-to-dataloader/813/5) (**not required**)"
   ]
  },
  {
   "cell_type": "markdown",
   "metadata": {
    "id": "NMEpCuC1EEFw"
   },
   "source": [
    "## 1.13: Perform the training of the network and validation\n",
    "Here we provide you with a method to visualize both training and validation loss while training your networks using [livelossplot](https://github.com/stared/livelossplot).\n",
    "\n",
    "As the repo says: *Don't train deep learning models blindfolded! Be impatient and look at each epoch of your training!*\n",
    "\n",
    "With this method we will be able to generate the plots Olivier shoed in his slides:\n",
    "\n",
    "<img src=\"https://raw.githubusercontent.com/acse-2020/ACSE-8/main/implementation/practical_3/Figs/UsingValidationDuringTraining.png?token=ABNZJPZVFB6UI7ZOUPR5BB3ATFFSW\" width=600/>"
   ]
  },
  {
   "cell_type": "code",
   "execution_count": 10,
   "metadata": {
    "colab": {
     "base_uri": "https://localhost:8080/",
     "height": 707
    },
    "id": "w9txG8N2hzQt",
    "outputId": "604c1b29-d8b7-467f-d756-e3354018bdfd"
   },
   "outputs": [],
   "source": [
    "set_seed(seed)\n",
    "liveloss = PlotLosses()    # plots evolution of loss and accuracy\n",
    "for epoch in range(30):\n",
    "    logs = {}\n",
    "    train_loss, train_accuracy = train(model, optimizer, criterion, train_loader)\n",
    "\n",
    "    logs['' + 'log loss'] = train_loss.item()\n",
    "    logs['' + 'accuracy'] = train_accuracy.item()\n",
    "    \n",
    "    validation_loss, validation_accuracy = validate(model, criterion, validation_loader)\n",
    "    logs['val_' + 'log loss'] = validation_loss.item()\n",
    "    logs['val_' + 'accuracy'] = validation_accuracy.item()\n",
    "    \n",
    "    liveloss.update(logs)\n",
    "    liveloss.draw()\n",
    "    print(validation_loss.item())"
   ]
  },
  {
   "cell_type": "markdown",
   "metadata": {
    "id": "5kPt1sm8Mm_q"
   },
   "source": [
    "It seems the model isn't doing very well. Let's optimise a hyperparameter to see if we can do any better.\n",
    "\n",
    "## 1.14 `code along`: Running a grid-search\n",
    "We will run a grid search over the momentum value using the following: `momentum = [0.1, 0.5, 0.9]`\n",
    "to figure out the 'best' value of momentum."
   ]
  },
  {
   "cell_type": "code",
   "execution_count": 11,
   "metadata": {
    "id": "cVIuIJuTM2Ro"
   },
   "outputs": [],
   "source": [
    "def train_model(momentum):          # define function train_momentum which accepts one argument (momentum)\n",
    "  # set seed\n",
    "  # instantiate model and send it to the GPU\n",
    "  # define an optimiser\n",
    "  # define the loss function\n",
    "  \n",
    "  # train_loader\n",
    "  # validation_loader\n",
    "  # test_loader\n",
    "  \n",
    "  liveloss = PlotLosses()\n",
    "  for epoch in range(30):\n",
    "      logs = {}\n",
    "      train_loss, train_accuracy = train(model, optimizer, criterion, train_loader)\n",
    "\n",
    "      logs['log loss'] = train_loss.item()\n",
    "      logs['accuracy'] = train_accuracy.item()\n",
    "\n",
    "      validation_loss, validation_accuracy = validate(model, criterion, validation_loader)\n",
    "      logs['val_log loss'] = validation_loss.item()\n",
    "      logs['val_accuracy'] = validation_accuracy.item()\n",
    "\n",
    "      liveloss.update(logs)\n",
    "      liveloss.draw()\n",
    "      \n",
    "  return True"
   ]
  },
  {
   "cell_type": "code",
   "execution_count": 12,
   "metadata": {
    "colab": {
     "base_uri": "https://localhost:8080/",
     "height": 707
    },
    "id": "0G3oP1vPNE2O",
    "outputId": "05cd6e4a-be14-422a-a69a-ced448b66c0a"
   },
   "outputs": [],
   "source": [
    "# train model with momentum 0.1"
   ]
  },
  {
   "cell_type": "code",
   "execution_count": 13,
   "metadata": {
    "colab": {
     "base_uri": "https://localhost:8080/",
     "height": 707
    },
    "id": "EA9rn-x3NFEP",
    "outputId": "67ce953d-2069-431e-c49f-c3c1947cb211"
   },
   "outputs": [],
   "source": [
    "# train model with momentum 0.5"
   ]
  },
  {
   "cell_type": "code",
   "execution_count": 14,
   "metadata": {
    "colab": {
     "base_uri": "https://localhost:8080/",
     "height": 707
    },
    "id": "82leJRKPNFOk",
    "outputId": "6ccbe913-33fd-4952-8c54-c201c8535f6c"
   },
   "outputs": [],
   "source": [
    "# train model with momentum 0.9"
   ]
  },
  {
   "cell_type": "code",
   "execution_count": null,
   "metadata": {
    "id": "5vmj6Vb7L_Kd"
   },
   "outputs": [],
   "source": [
    "best_momentum = # ??"
   ]
  },
  {
   "cell_type": "markdown",
   "metadata": {
    "id": "biyWFx8tAW9G"
   },
   "source": [
    "## 1.15: Implement an evaluate method\n",
    "This method performs the same as validate but doesn't report losses, but simply returns all predictions on a given dataset (training, validation, test-set)"
   ]
  },
  {
   "cell_type": "code",
   "execution_count": 15,
   "metadata": {
    "colab": {
     "base_uri": "https://localhost:8080/"
    },
    "id": "1-MaI8F1hzQ7",
    "outputId": "fab3f641-c828-481f-f82b-935e05d238f9"
   },
   "outputs": [],
   "source": [
    "def evaluate(model, data_loader):\n",
    "    model.eval()\n",
    "    ys, y_preds = [], []\n",
    "    for X, y in data_loader:\n",
    "        with torch.no_grad():\n",
    "            X, y = X.to(device), y.to(device)\n",
    "            a2 = model(X.view(-1, 28*28))\n",
    "            y_pred = F.log_softmax(a2, dim=1).max(1)[1]\n",
    "            ys.append(y.cpu().numpy())\n",
    "            y_preds.append(y_pred.cpu().numpy())\n",
    "    \n",
    "    return np.concatenate(y_preds, 0),  np.concatenate(ys, 0) ## concatenate the labels of each batch into a single list\n",
    "\n",
    "y_pred, y_gt = evaluate(model, validation_loader)\n",
    "print(y_pred, y_gt)"
   ]
  },
  {
   "cell_type": "markdown",
   "metadata": {
    "id": "keGazNqkAXw9"
   },
   "source": [
    "## 1.17: Plotting a confusion matrix\n",
    "\n",
    "We can use a confusion matrix to diagnose problems in our models.\n",
    "What numbers are missclassified more often?\n",
    "\n",
    "(To generate the confusion matrix we use the [PyCM library](https://www.pycm.ir/doc/index.html))"
   ]
  },
  {
   "cell_type": "code",
   "execution_count": 16,
   "metadata": {
    "colab": {
     "base_uri": "https://localhost:8080/"
    },
    "id": "SWtJhZnDhzRE",
    "outputId": "ff941958-a8b7-43ec-dfc8-41b1415b981e",
    "scrolled": false
   },
   "outputs": [],
   "source": [
    "cm = ConfusionMatrix(actual_vector=y_gt, predict_vector=y_pred) ## Create the confusion matrix from Data. ConfusionMatrix is a class derived from the pycm library\n",
    "print(cm)\n",
    "## the rows of the confusion matrix give the number of the instances in the actual class that were wrongly predicted."
   ]
  },
  {
   "cell_type": "code",
   "execution_count": 17,
   "metadata": {
    "colab": {
     "base_uri": "https://localhost:8080/",
     "height": 286
    },
    "id": "42n2oKEdMUjd",
    "outputId": "37cdaa55-6044-4602-96a7-e66bb92f6143"
   },
   "outputs": [],
   "source": [
    "import seaborn as sns\n",
    "\n",
    "def to_raw_matrix(cm):\n",
    "    plt_cm = []\n",
    "    for i in cm.classes :\n",
    "        row=[]\n",
    "        for j in cm.classes:\n",
    "            row.append(cm.table[i][j])\n",
    "        plt_cm.append(row)\n",
    "    plt_cm = np.array(plt_cm)\n",
    "    return plt_cm\n",
    "\n",
    "rcm = to_raw_matrix(cm) #store the confusion matrix values\n",
    "\n",
    "sns.heatmap(rcm, cmap=\"Blues\", vmin=0, vmax=25)"
   ]
  },
  {
   "cell_type": "markdown",
   "metadata": {
    "id": "2-OG3gAcE2mr"
   },
   "source": [
    "## 1.18: Given that you estimated your hyperparameters, train your model on the full dataset and evaluate on the test set"
   ]
  },
  {
   "cell_type": "code",
   "execution_count": 18,
   "metadata": {
    "colab": {
     "base_uri": "https://localhost:8080/",
     "height": 690
    },
    "id": "90DUV2nWGhQy",
    "outputId": "be7fa08c-adf6-491f-df71-80fb5b100378"
   },
   "outputs": [],
   "source": [
    "mnist_train = MNIST(\"./\", download=True, train=True)\n",
    "\n",
    "X_train, y_train = apply_normalization(mnist_train.train_data.float()), mnist_train.train_labels\n",
    "mnist_train = TensorDataset(X_train, y_train)\n",
    "train_loader = DataLoader(mnist_train, batch_size=batch_size, shuffle=True, num_workers=4)  # now we define 4 workers to load the mini-batches\n",
    "\n",
    "set_seed(seed)\n",
    "model = SimpleNet().to(device)\n",
    "optimizer = torch.optim.SGD(model.parameters(), lr=lr, momentum=best_momentum)\n",
    "criterion = nn.CrossEntropyLoss()\n",
    "\n",
    "liveloss = PlotLosses()\n",
    "for epoch in range(n_epochs):\n",
    "    logs = {}\n",
    "    train_loss, train_accuracy = train(model, optimizer, criterion, train_loader)\n",
    "\n",
    "    logs['log loss'] = train_loss.item()\n",
    "    logs['accuracy'] = train_accuracy.item()\n",
    "\n",
    "    # test_loss, test_accuracy = validate(model, criterion, test_loader)\n",
    "    # logs['val_' + 'log loss'] = test_loss.item()\n",
    "    # logs['val_' + 'accuracy'] = test_accuracy.item()\n",
    "\n",
    "    liveloss.update(logs)\n",
    "    liveloss.draw()\n",
    "\n",
    "test_loss, test_accuracy = validate(model, criterion, test_loader)    # first time we use the test dataset!\n",
    "print(\"Avg. Test Loss: %1.3f\" % test_loss.item(), \" Avg. Test Accuracy: %1.3f\" % test_accuracy.item())\n",
    "print(\"\")"
   ]
  },
  {
   "cell_type": "markdown",
   "metadata": {
    "id": "QefvYkcIAaWH"
   },
   "source": [
    "## 2.1: Storing and loading models - Pytorch State-Dicts"
   ]
  },
  {
   "cell_type": "markdown",
   "metadata": {
    "id": "6db2OqwdAb7V"
   },
   "source": [
    "Pytorch stores all the parameters of models and optimizers, their weights and biases in an easy to read dictionary called a \"state-dict\".\n",
    "When we store models and optimizers, we store the state-dict.  \n",
    "Together with the model definition we can then restore the model to it's state when we stored it to disk.\n",
    "Let's look at the contents of the state-dict of both our optimizer and our model:"
   ]
  },
  {
   "cell_type": "code",
   "execution_count": 19,
   "metadata": {
    "colab": {
     "base_uri": "https://localhost:8080/"
    },
    "id": "YzY_uubq_uqM",
    "outputId": "73fcce4c-321f-4f9c-ca67-ffa2908b57b5"
   },
   "outputs": [],
   "source": [
    "# Print model's state_dict\n",
    "print(\"Model's state_dict:\")\n",
    "for param_tensor in model.state_dict():\n",
    "    print(param_tensor, \"\\t\", model.state_dict()[param_tensor].size())\n",
    "\n",
    "# Print optimizer's state_dict\n",
    "print(\"Optimizer's state_dict:\")\n",
    "for var_name in optimizer.state_dict():\n",
    "    print(var_name, \"\\t\", optimizer.state_dict()[var_name])\n",
    "\n",
    "## print(model) can also be used to print-out the layers of the model sequentially. However, this does not produce a visualization."
   ]
  },
  {
   "cell_type": "markdown",
   "metadata": {
    "id": "EjiWkU_TGJgK"
   },
   "source": [
    "## 2.2: Storing models to disk\n",
    "From colab (and locally) we can store models to disk using ```torch.save``` and passing both a models state_dict() and a path where to store it."
   ]
  },
  {
   "cell_type": "code",
   "execution_count": null,
   "metadata": {
    "id": "gjOcO8oxGJt0"
   },
   "outputs": [],
   "source": [
    "#!mkdir '/content/gdrive/My Drive/models'  ## create the director for storing the model\n",
    "\n",
    "model_save_name = 'simplenet_mnist_classifier.pt' ## .pt and .pth are common file extensions for saving models in pytorch\n",
    "path = F\"/content/gdrive/My Drive/models/{model_save_name}\" \n",
    "torch.save(model.state_dict(), path)\n",
    "\n",
    "optimiser_save_name = 'simplenet_mnist_classifier_optimiser.pt' ## .pt and .pth are common file extensions for saving models in pytorch\n",
    "path = F\"/content/gdrive/My Drive/models/{optimiser_save_name}\" \n",
    "torch.save(model.state_dict(), path)"
   ]
  },
  {
   "cell_type": "markdown",
   "metadata": {
    "id": "_OiqJ0HOF6hq"
   },
   "source": [
    "## 2.3: Loading models from checkpoints\n",
    "Finally, we can restore models from the saved ```state_dict```'s and do a number of things such as:\n",
    "1. Continue training (given we stored the optimizer as well)\n",
    "2. Make predictions from our model\n",
    "3. Perform inspections of our model\n",
    "4. Use our model in ensembles \n",
    "5. ...\n",
    "\n",
    "By default a loaded model is put into ```.train()``` mode. So be careful when using networks that behave different depending on training and test time e.g. dropout regularized networks or batch-normalized networks."
   ]
  },
  {
   "cell_type": "code",
   "execution_count": 20,
   "metadata": {
    "colab": {
     "base_uri": "https://localhost:8080/"
    },
    "id": "8t4FzhqVF6vh",
    "outputId": "04ebc275-55b1-415b-8458-b41fc50e87d2"
   },
   "outputs": [],
   "source": [
    "model = SimpleNet().to(device) ## creates an instance of the model\n",
    "model.load_state_dict(torch.load(path)) ## loads the parameters of the model in path. state_dict is a dictionary object that maps each layer in the model to its trainable parameters (weights and biases).\n",
    "model.eval()\n",
    "\n",
    "test_loss, test_accuracy = validate(model, criterion, test_loader)    \n",
    "print(\"Avg. Test Loss: %1.3f\" % test_loss.item(), \" Avg. Test Accuracy: %1.3f\" % test_accuracy.item())\n",
    "print(\"\")"
   ]
  },
  {
   "cell_type": "markdown",
   "metadata": {
    "id": "uhSLXauWHmZ2"
   },
   "source": [
    "We had this before: Avg. Test Loss: 0.112  Avg. Test Accuracy: 0.967\n",
    "\n",
    "Our model performs exactly the same as before storing it to disk."
   ]
  },
  {
   "cell_type": "markdown",
   "metadata": {
    "id": "-L76-AvQ1eq9"
   },
   "source": [
    "[Here](https://pytorch.org/tutorials/beginner/saving_loading_models.html) you can find a document with a more in-depth description on how to save and load PyTorch models"
   ]
  },
  {
   "cell_type": "markdown",
   "metadata": {
    "id": "drtNC55y1vPe"
   },
   "source": [
    "---\n",
    "\n",
    "#Summary of the day:\n",
    "\n",
    "- First network designed to work on MNIST.\n",
    "- `StratifiedShuffleSplit` class generates a validation set.\n",
    "- Hyperparameter optimisation (momentum in today's lecture, but the same concept can be extended to any hyperparameter) with a manual grid search.\n",
    "- Improve performance by retraining full dataset (training + validation) with optimal hyperparameter derived from cross-validation.\n",
    "- Confusion matrix as a tool to better understand the limitations of our models.\n",
    "- Save and load Pytorch models."
   ]
  }
 ],
 "metadata": {
  "accelerator": "GPU",
  "colab": {
   "collapsed_sections": [],
   "name": "Morning-Session-3-MNIST-Neural-Networks-Regularization-Cross-Validation.ipynb",
   "provenance": []
  },
  "kernelspec": {
   "display_name": "Python 3",
   "language": "python",
   "name": "python3"
  },
  "language_info": {
   "codemirror_mode": {
    "name": "ipython",
    "version": 3
   },
   "file_extension": ".py",
   "mimetype": "text/x-python",
   "name": "python",
   "nbconvert_exporter": "python",
   "pygments_lexer": "ipython3",
   "version": "3.7.4"
  },
  "widgets": {
   "application/vnd.jupyter.widget-state+json": {
    "0b402331a8604a47934ec7880fd26133": {
     "model_module": "@jupyter-widgets/controls",
     "model_name": "FloatProgressModel",
     "state": {
      "_dom_classes": [],
      "_model_module": "@jupyter-widgets/controls",
      "_model_module_version": "1.5.0",
      "_model_name": "FloatProgressModel",
      "_view_count": null,
      "_view_module": "@jupyter-widgets/controls",
      "_view_module_version": "1.5.0",
      "_view_name": "ProgressView",
      "bar_style": "success",
      "description": "",
      "description_tooltip": null,
      "layout": "IPY_MODEL_c452a49b79c04d12bd5d111eff3dcb7b",
      "max": 9912422,
      "min": 0,
      "orientation": "horizontal",
      "style": "IPY_MODEL_7b4e839883974b9e87f03e913bdea9dd",
      "value": 9912422
     }
    },
    "1b7f3e7a80ba46699d3e464eb4de26a2": {
     "model_module": "@jupyter-widgets/base",
     "model_name": "LayoutModel",
     "state": {
      "_model_module": "@jupyter-widgets/base",
      "_model_module_version": "1.2.0",
      "_model_name": "LayoutModel",
      "_view_count": null,
      "_view_module": "@jupyter-widgets/base",
      "_view_module_version": "1.2.0",
      "_view_name": "LayoutView",
      "align_content": null,
      "align_items": null,
      "align_self": null,
      "border": null,
      "bottom": null,
      "display": null,
      "flex": null,
      "flex_flow": null,
      "grid_area": null,
      "grid_auto_columns": null,
      "grid_auto_flow": null,
      "grid_auto_rows": null,
      "grid_column": null,
      "grid_gap": null,
      "grid_row": null,
      "grid_template_areas": null,
      "grid_template_columns": null,
      "grid_template_rows": null,
      "height": null,
      "justify_content": null,
      "justify_items": null,
      "left": null,
      "margin": null,
      "max_height": null,
      "max_width": null,
      "min_height": null,
      "min_width": null,
      "object_fit": null,
      "object_position": null,
      "order": null,
      "overflow": null,
      "overflow_x": null,
      "overflow_y": null,
      "padding": null,
      "right": null,
      "top": null,
      "visibility": null,
      "width": null
     }
    },
    "1b9b376ad3104dfcad9b44e125645281": {
     "model_module": "@jupyter-widgets/controls",
     "model_name": "ProgressStyleModel",
     "state": {
      "_model_module": "@jupyter-widgets/controls",
      "_model_module_version": "1.5.0",
      "_model_name": "ProgressStyleModel",
      "_view_count": null,
      "_view_module": "@jupyter-widgets/base",
      "_view_module_version": "1.2.0",
      "_view_name": "StyleView",
      "bar_color": null,
      "description_width": "initial"
     }
    },
    "251bad0877f6427785905683a64a315f": {
     "model_module": "@jupyter-widgets/base",
     "model_name": "LayoutModel",
     "state": {
      "_model_module": "@jupyter-widgets/base",
      "_model_module_version": "1.2.0",
      "_model_name": "LayoutModel",
      "_view_count": null,
      "_view_module": "@jupyter-widgets/base",
      "_view_module_version": "1.2.0",
      "_view_name": "LayoutView",
      "align_content": null,
      "align_items": null,
      "align_self": null,
      "border": null,
      "bottom": null,
      "display": null,
      "flex": null,
      "flex_flow": null,
      "grid_area": null,
      "grid_auto_columns": null,
      "grid_auto_flow": null,
      "grid_auto_rows": null,
      "grid_column": null,
      "grid_gap": null,
      "grid_row": null,
      "grid_template_areas": null,
      "grid_template_columns": null,
      "grid_template_rows": null,
      "height": null,
      "justify_content": null,
      "justify_items": null,
      "left": null,
      "margin": null,
      "max_height": null,
      "max_width": null,
      "min_height": null,
      "min_width": null,
      "object_fit": null,
      "object_position": null,
      "order": null,
      "overflow": null,
      "overflow_x": null,
      "overflow_y": null,
      "padding": null,
      "right": null,
      "top": null,
      "visibility": null,
      "width": null
     }
    },
    "2522db19930f49829ce4c284c402a553": {
     "model_module": "@jupyter-widgets/controls",
     "model_name": "HTMLModel",
     "state": {
      "_dom_classes": [],
      "_model_module": "@jupyter-widgets/controls",
      "_model_module_version": "1.5.0",
      "_model_name": "HTMLModel",
      "_view_count": null,
      "_view_module": "@jupyter-widgets/controls",
      "_view_module_version": "1.5.0",
      "_view_name": "HTMLView",
      "description": "",
      "description_tooltip": null,
      "layout": "IPY_MODEL_1b7f3e7a80ba46699d3e464eb4de26a2",
      "placeholder": "​",
      "style": "IPY_MODEL_b6e932826d1242c6b95df2eebfdec308",
      "value": " 29696/? [07:43&lt;00:00, 64.11it/s]"
     }
    },
    "25e064d1a3804ec4846df2edff886644": {
     "model_module": "@jupyter-widgets/base",
     "model_name": "LayoutModel",
     "state": {
      "_model_module": "@jupyter-widgets/base",
      "_model_module_version": "1.2.0",
      "_model_name": "LayoutModel",
      "_view_count": null,
      "_view_module": "@jupyter-widgets/base",
      "_view_module_version": "1.2.0",
      "_view_name": "LayoutView",
      "align_content": null,
      "align_items": null,
      "align_self": null,
      "border": null,
      "bottom": null,
      "display": null,
      "flex": null,
      "flex_flow": null,
      "grid_area": null,
      "grid_auto_columns": null,
      "grid_auto_flow": null,
      "grid_auto_rows": null,
      "grid_column": null,
      "grid_gap": null,
      "grid_row": null,
      "grid_template_areas": null,
      "grid_template_columns": null,
      "grid_template_rows": null,
      "height": null,
      "justify_content": null,
      "justify_items": null,
      "left": null,
      "margin": null,
      "max_height": null,
      "max_width": null,
      "min_height": null,
      "min_width": null,
      "object_fit": null,
      "object_position": null,
      "order": null,
      "overflow": null,
      "overflow_x": null,
      "overflow_y": null,
      "padding": null,
      "right": null,
      "top": null,
      "visibility": null,
      "width": null
     }
    },
    "2eb9e43f7a93410990cab08d3be62c97": {
     "model_module": "@jupyter-widgets/base",
     "model_name": "LayoutModel",
     "state": {
      "_model_module": "@jupyter-widgets/base",
      "_model_module_version": "1.2.0",
      "_model_name": "LayoutModel",
      "_view_count": null,
      "_view_module": "@jupyter-widgets/base",
      "_view_module_version": "1.2.0",
      "_view_name": "LayoutView",
      "align_content": null,
      "align_items": null,
      "align_self": null,
      "border": null,
      "bottom": null,
      "display": null,
      "flex": null,
      "flex_flow": null,
      "grid_area": null,
      "grid_auto_columns": null,
      "grid_auto_flow": null,
      "grid_auto_rows": null,
      "grid_column": null,
      "grid_gap": null,
      "grid_row": null,
      "grid_template_areas": null,
      "grid_template_columns": null,
      "grid_template_rows": null,
      "height": null,
      "justify_content": null,
      "justify_items": null,
      "left": null,
      "margin": null,
      "max_height": null,
      "max_width": null,
      "min_height": null,
      "min_width": null,
      "object_fit": null,
      "object_position": null,
      "order": null,
      "overflow": null,
      "overflow_x": null,
      "overflow_y": null,
      "padding": null,
      "right": null,
      "top": null,
      "visibility": null,
      "width": null
     }
    },
    "335bcdc81f874b6bab1c5261b969d6ed": {
     "model_module": "@jupyter-widgets/controls",
     "model_name": "HBoxModel",
     "state": {
      "_dom_classes": [],
      "_model_module": "@jupyter-widgets/controls",
      "_model_module_version": "1.5.0",
      "_model_name": "HBoxModel",
      "_view_count": null,
      "_view_module": "@jupyter-widgets/controls",
      "_view_module_version": "1.5.0",
      "_view_name": "HBoxView",
      "box_style": "",
      "children": [
       "IPY_MODEL_ba68b534c8964dc0b8918ef4c92f0824",
       "IPY_MODEL_cc2c5715a1a0413e80aa606d869600e1"
      ],
      "layout": "IPY_MODEL_83d127ad79e144f38d935e576f3d18c9"
     }
    },
    "3882a331f77c4ff289003cdff412d36d": {
     "model_module": "@jupyter-widgets/base",
     "model_name": "LayoutModel",
     "state": {
      "_model_module": "@jupyter-widgets/base",
      "_model_module_version": "1.2.0",
      "_model_name": "LayoutModel",
      "_view_count": null,
      "_view_module": "@jupyter-widgets/base",
      "_view_module_version": "1.2.0",
      "_view_name": "LayoutView",
      "align_content": null,
      "align_items": null,
      "align_self": null,
      "border": null,
      "bottom": null,
      "display": null,
      "flex": null,
      "flex_flow": null,
      "grid_area": null,
      "grid_auto_columns": null,
      "grid_auto_flow": null,
      "grid_auto_rows": null,
      "grid_column": null,
      "grid_gap": null,
      "grid_row": null,
      "grid_template_areas": null,
      "grid_template_columns": null,
      "grid_template_rows": null,
      "height": null,
      "justify_content": null,
      "justify_items": null,
      "left": null,
      "margin": null,
      "max_height": null,
      "max_width": null,
      "min_height": null,
      "min_width": null,
      "object_fit": null,
      "object_position": null,
      "order": null,
      "overflow": null,
      "overflow_x": null,
      "overflow_y": null,
      "padding": null,
      "right": null,
      "top": null,
      "visibility": null,
      "width": null
     }
    },
    "5c25dda2c40e4fc6a02296568d5e9ca0": {
     "model_module": "@jupyter-widgets/controls",
     "model_name": "FloatProgressModel",
     "state": {
      "_dom_classes": [],
      "_model_module": "@jupyter-widgets/controls",
      "_model_module_version": "1.5.0",
      "_model_name": "FloatProgressModel",
      "_view_count": null,
      "_view_module": "@jupyter-widgets/controls",
      "_view_module_version": "1.5.0",
      "_view_name": "ProgressView",
      "bar_style": "success",
      "description": "",
      "description_tooltip": null,
      "layout": "IPY_MODEL_2eb9e43f7a93410990cab08d3be62c97",
      "max": 1648877,
      "min": 0,
      "orientation": "horizontal",
      "style": "IPY_MODEL_1b9b376ad3104dfcad9b44e125645281",
      "value": 1648877
     }
    },
    "673efa7e349f41a79af44129946ef33a": {
     "model_module": "@jupyter-widgets/controls",
     "model_name": "DescriptionStyleModel",
     "state": {
      "_model_module": "@jupyter-widgets/controls",
      "_model_module_version": "1.5.0",
      "_model_name": "DescriptionStyleModel",
      "_view_count": null,
      "_view_module": "@jupyter-widgets/base",
      "_view_module_version": "1.2.0",
      "_view_name": "StyleView",
      "description_width": ""
     }
    },
    "6d08752786c648958a13c119be62f188": {
     "model_module": "@jupyter-widgets/base",
     "model_name": "LayoutModel",
     "state": {
      "_model_module": "@jupyter-widgets/base",
      "_model_module_version": "1.2.0",
      "_model_name": "LayoutModel",
      "_view_count": null,
      "_view_module": "@jupyter-widgets/base",
      "_view_module_version": "1.2.0",
      "_view_name": "LayoutView",
      "align_content": null,
      "align_items": null,
      "align_self": null,
      "border": null,
      "bottom": null,
      "display": null,
      "flex": null,
      "flex_flow": null,
      "grid_area": null,
      "grid_auto_columns": null,
      "grid_auto_flow": null,
      "grid_auto_rows": null,
      "grid_column": null,
      "grid_gap": null,
      "grid_row": null,
      "grid_template_areas": null,
      "grid_template_columns": null,
      "grid_template_rows": null,
      "height": null,
      "justify_content": null,
      "justify_items": null,
      "left": null,
      "margin": null,
      "max_height": null,
      "max_width": null,
      "min_height": null,
      "min_width": null,
      "object_fit": null,
      "object_position": null,
      "order": null,
      "overflow": null,
      "overflow_x": null,
      "overflow_y": null,
      "padding": null,
      "right": null,
      "top": null,
      "visibility": null,
      "width": null
     }
    },
    "712065ee34254e81aea32bb31f6b7056": {
     "model_module": "@jupyter-widgets/controls",
     "model_name": "ProgressStyleModel",
     "state": {
      "_model_module": "@jupyter-widgets/controls",
      "_model_module_version": "1.5.0",
      "_model_name": "ProgressStyleModel",
      "_view_count": null,
      "_view_module": "@jupyter-widgets/base",
      "_view_module_version": "1.2.0",
      "_view_name": "StyleView",
      "bar_color": null,
      "description_width": "initial"
     }
    },
    "7462695712b74f95a6a29d4d790f2441": {
     "model_module": "@jupyter-widgets/controls",
     "model_name": "HTMLModel",
     "state": {
      "_dom_classes": [],
      "_model_module": "@jupyter-widgets/controls",
      "_model_module_version": "1.5.0",
      "_model_name": "HTMLModel",
      "_view_count": null,
      "_view_module": "@jupyter-widgets/controls",
      "_view_module_version": "1.5.0",
      "_view_name": "HTMLView",
      "description": "",
      "description_tooltip": null,
      "layout": "IPY_MODEL_922fa24e17c54bc3bfcc91da4d417ed8",
      "placeholder": "​",
      "style": "IPY_MODEL_fdcf7488076e48f18f31fcec05546bdd",
      "value": " 9913344/? [00:02&lt;00:00, 4444892.54it/s]"
     }
    },
    "7b4e839883974b9e87f03e913bdea9dd": {
     "model_module": "@jupyter-widgets/controls",
     "model_name": "ProgressStyleModel",
     "state": {
      "_model_module": "@jupyter-widgets/controls",
      "_model_module_version": "1.5.0",
      "_model_name": "ProgressStyleModel",
      "_view_count": null,
      "_view_module": "@jupyter-widgets/base",
      "_view_module_version": "1.2.0",
      "_view_name": "StyleView",
      "bar_color": null,
      "description_width": "initial"
     }
    },
    "83d127ad79e144f38d935e576f3d18c9": {
     "model_module": "@jupyter-widgets/base",
     "model_name": "LayoutModel",
     "state": {
      "_model_module": "@jupyter-widgets/base",
      "_model_module_version": "1.2.0",
      "_model_name": "LayoutModel",
      "_view_count": null,
      "_view_module": "@jupyter-widgets/base",
      "_view_module_version": "1.2.0",
      "_view_name": "LayoutView",
      "align_content": null,
      "align_items": null,
      "align_self": null,
      "border": null,
      "bottom": null,
      "display": null,
      "flex": null,
      "flex_flow": null,
      "grid_area": null,
      "grid_auto_columns": null,
      "grid_auto_flow": null,
      "grid_auto_rows": null,
      "grid_column": null,
      "grid_gap": null,
      "grid_row": null,
      "grid_template_areas": null,
      "grid_template_columns": null,
      "grid_template_rows": null,
      "height": null,
      "justify_content": null,
      "justify_items": null,
      "left": null,
      "margin": null,
      "max_height": null,
      "max_width": null,
      "min_height": null,
      "min_width": null,
      "object_fit": null,
      "object_position": null,
      "order": null,
      "overflow": null,
      "overflow_x": null,
      "overflow_y": null,
      "padding": null,
      "right": null,
      "top": null,
      "visibility": null,
      "width": null
     }
    },
    "87f2c7da91d5473e856b603754b59759": {
     "model_module": "@jupyter-widgets/base",
     "model_name": "LayoutModel",
     "state": {
      "_model_module": "@jupyter-widgets/base",
      "_model_module_version": "1.2.0",
      "_model_name": "LayoutModel",
      "_view_count": null,
      "_view_module": "@jupyter-widgets/base",
      "_view_module_version": "1.2.0",
      "_view_name": "LayoutView",
      "align_content": null,
      "align_items": null,
      "align_self": null,
      "border": null,
      "bottom": null,
      "display": null,
      "flex": null,
      "flex_flow": null,
      "grid_area": null,
      "grid_auto_columns": null,
      "grid_auto_flow": null,
      "grid_auto_rows": null,
      "grid_column": null,
      "grid_gap": null,
      "grid_row": null,
      "grid_template_areas": null,
      "grid_template_columns": null,
      "grid_template_rows": null,
      "height": null,
      "justify_content": null,
      "justify_items": null,
      "left": null,
      "margin": null,
      "max_height": null,
      "max_width": null,
      "min_height": null,
      "min_width": null,
      "object_fit": null,
      "object_position": null,
      "order": null,
      "overflow": null,
      "overflow_x": null,
      "overflow_y": null,
      "padding": null,
      "right": null,
      "top": null,
      "visibility": null,
      "width": null
     }
    },
    "922fa24e17c54bc3bfcc91da4d417ed8": {
     "model_module": "@jupyter-widgets/base",
     "model_name": "LayoutModel",
     "state": {
      "_model_module": "@jupyter-widgets/base",
      "_model_module_version": "1.2.0",
      "_model_name": "LayoutModel",
      "_view_count": null,
      "_view_module": "@jupyter-widgets/base",
      "_view_module_version": "1.2.0",
      "_view_name": "LayoutView",
      "align_content": null,
      "align_items": null,
      "align_self": null,
      "border": null,
      "bottom": null,
      "display": null,
      "flex": null,
      "flex_flow": null,
      "grid_area": null,
      "grid_auto_columns": null,
      "grid_auto_flow": null,
      "grid_auto_rows": null,
      "grid_column": null,
      "grid_gap": null,
      "grid_row": null,
      "grid_template_areas": null,
      "grid_template_columns": null,
      "grid_template_rows": null,
      "height": null,
      "justify_content": null,
      "justify_items": null,
      "left": null,
      "margin": null,
      "max_height": null,
      "max_width": null,
      "min_height": null,
      "min_width": null,
      "object_fit": null,
      "object_position": null,
      "order": null,
      "overflow": null,
      "overflow_x": null,
      "overflow_y": null,
      "padding": null,
      "right": null,
      "top": null,
      "visibility": null,
      "width": null
     }
    },
    "aeed03dbd38f4260a30bbd60a9ad4f28": {
     "model_module": "@jupyter-widgets/base",
     "model_name": "LayoutModel",
     "state": {
      "_model_module": "@jupyter-widgets/base",
      "_model_module_version": "1.2.0",
      "_model_name": "LayoutModel",
      "_view_count": null,
      "_view_module": "@jupyter-widgets/base",
      "_view_module_version": "1.2.0",
      "_view_name": "LayoutView",
      "align_content": null,
      "align_items": null,
      "align_self": null,
      "border": null,
      "bottom": null,
      "display": null,
      "flex": null,
      "flex_flow": null,
      "grid_area": null,
      "grid_auto_columns": null,
      "grid_auto_flow": null,
      "grid_auto_rows": null,
      "grid_column": null,
      "grid_gap": null,
      "grid_row": null,
      "grid_template_areas": null,
      "grid_template_columns": null,
      "grid_template_rows": null,
      "height": null,
      "justify_content": null,
      "justify_items": null,
      "left": null,
      "margin": null,
      "max_height": null,
      "max_width": null,
      "min_height": null,
      "min_width": null,
      "object_fit": null,
      "object_position": null,
      "order": null,
      "overflow": null,
      "overflow_x": null,
      "overflow_y": null,
      "padding": null,
      "right": null,
      "top": null,
      "visibility": null,
      "width": null
     }
    },
    "b14a02f0789b48a9813d15010e062a76": {
     "model_module": "@jupyter-widgets/controls",
     "model_name": "DescriptionStyleModel",
     "state": {
      "_model_module": "@jupyter-widgets/controls",
      "_model_module_version": "1.5.0",
      "_model_name": "DescriptionStyleModel",
      "_view_count": null,
      "_view_module": "@jupyter-widgets/base",
      "_view_module_version": "1.2.0",
      "_view_name": "StyleView",
      "description_width": ""
     }
    },
    "b1645e0e771c44f790014a6aabc2d57a": {
     "model_module": "@jupyter-widgets/base",
     "model_name": "LayoutModel",
     "state": {
      "_model_module": "@jupyter-widgets/base",
      "_model_module_version": "1.2.0",
      "_model_name": "LayoutModel",
      "_view_count": null,
      "_view_module": "@jupyter-widgets/base",
      "_view_module_version": "1.2.0",
      "_view_name": "LayoutView",
      "align_content": null,
      "align_items": null,
      "align_self": null,
      "border": null,
      "bottom": null,
      "display": null,
      "flex": null,
      "flex_flow": null,
      "grid_area": null,
      "grid_auto_columns": null,
      "grid_auto_flow": null,
      "grid_auto_rows": null,
      "grid_column": null,
      "grid_gap": null,
      "grid_row": null,
      "grid_template_areas": null,
      "grid_template_columns": null,
      "grid_template_rows": null,
      "height": null,
      "justify_content": null,
      "justify_items": null,
      "left": null,
      "margin": null,
      "max_height": null,
      "max_width": null,
      "min_height": null,
      "min_width": null,
      "object_fit": null,
      "object_position": null,
      "order": null,
      "overflow": null,
      "overflow_x": null,
      "overflow_y": null,
      "padding": null,
      "right": null,
      "top": null,
      "visibility": null,
      "width": null
     }
    },
    "b6e932826d1242c6b95df2eebfdec308": {
     "model_module": "@jupyter-widgets/controls",
     "model_name": "DescriptionStyleModel",
     "state": {
      "_model_module": "@jupyter-widgets/controls",
      "_model_module_version": "1.5.0",
      "_model_name": "DescriptionStyleModel",
      "_view_count": null,
      "_view_module": "@jupyter-widgets/base",
      "_view_module_version": "1.2.0",
      "_view_name": "StyleView",
      "description_width": ""
     }
    },
    "b974eda70998447e902ae40b99b5929d": {
     "model_module": "@jupyter-widgets/controls",
     "model_name": "HBoxModel",
     "state": {
      "_dom_classes": [],
      "_model_module": "@jupyter-widgets/controls",
      "_model_module_version": "1.5.0",
      "_model_name": "HBoxModel",
      "_view_count": null,
      "_view_module": "@jupyter-widgets/controls",
      "_view_module_version": "1.5.0",
      "_view_name": "HBoxView",
      "box_style": "",
      "children": [
       "IPY_MODEL_e96924017acb4cbd9d2a601a03239416",
       "IPY_MODEL_2522db19930f49829ce4c284c402a553"
      ],
      "layout": "IPY_MODEL_251bad0877f6427785905683a64a315f"
     }
    },
    "ba68b534c8964dc0b8918ef4c92f0824": {
     "model_module": "@jupyter-widgets/controls",
     "model_name": "FloatProgressModel",
     "state": {
      "_dom_classes": [],
      "_model_module": "@jupyter-widgets/controls",
      "_model_module_version": "1.5.0",
      "_model_name": "FloatProgressModel",
      "_view_count": null,
      "_view_module": "@jupyter-widgets/controls",
      "_view_module_version": "1.5.0",
      "_view_name": "ProgressView",
      "bar_style": "success",
      "description": "",
      "description_tooltip": null,
      "layout": "IPY_MODEL_b1645e0e771c44f790014a6aabc2d57a",
      "max": 4542,
      "min": 0,
      "orientation": "horizontal",
      "style": "IPY_MODEL_712065ee34254e81aea32bb31f6b7056",
      "value": 4542
     }
    },
    "c452a49b79c04d12bd5d111eff3dcb7b": {
     "model_module": "@jupyter-widgets/base",
     "model_name": "LayoutModel",
     "state": {
      "_model_module": "@jupyter-widgets/base",
      "_model_module_version": "1.2.0",
      "_model_name": "LayoutModel",
      "_view_count": null,
      "_view_module": "@jupyter-widgets/base",
      "_view_module_version": "1.2.0",
      "_view_name": "LayoutView",
      "align_content": null,
      "align_items": null,
      "align_self": null,
      "border": null,
      "bottom": null,
      "display": null,
      "flex": null,
      "flex_flow": null,
      "grid_area": null,
      "grid_auto_columns": null,
      "grid_auto_flow": null,
      "grid_auto_rows": null,
      "grid_column": null,
      "grid_gap": null,
      "grid_row": null,
      "grid_template_areas": null,
      "grid_template_columns": null,
      "grid_template_rows": null,
      "height": null,
      "justify_content": null,
      "justify_items": null,
      "left": null,
      "margin": null,
      "max_height": null,
      "max_width": null,
      "min_height": null,
      "min_width": null,
      "object_fit": null,
      "object_position": null,
      "order": null,
      "overflow": null,
      "overflow_x": null,
      "overflow_y": null,
      "padding": null,
      "right": null,
      "top": null,
      "visibility": null,
      "width": null
     }
    },
    "cc2c5715a1a0413e80aa606d869600e1": {
     "model_module": "@jupyter-widgets/controls",
     "model_name": "HTMLModel",
     "state": {
      "_dom_classes": [],
      "_model_module": "@jupyter-widgets/controls",
      "_model_module_version": "1.5.0",
      "_model_name": "HTMLModel",
      "_view_count": null,
      "_view_module": "@jupyter-widgets/controls",
      "_view_module_version": "1.5.0",
      "_view_name": "HTMLView",
      "description": "",
      "description_tooltip": null,
      "layout": "IPY_MODEL_aeed03dbd38f4260a30bbd60a9ad4f28",
      "placeholder": "​",
      "style": "IPY_MODEL_673efa7e349f41a79af44129946ef33a",
      "value": " 5120/? [01:05&lt;00:00, 77.75it/s]"
     }
    },
    "d1628191a58b4f339db086cb673b6db3": {
     "model_module": "@jupyter-widgets/controls",
     "model_name": "HBoxModel",
     "state": {
      "_dom_classes": [],
      "_model_module": "@jupyter-widgets/controls",
      "_model_module_version": "1.5.0",
      "_model_name": "HBoxModel",
      "_view_count": null,
      "_view_module": "@jupyter-widgets/controls",
      "_view_module_version": "1.5.0",
      "_view_name": "HBoxView",
      "box_style": "",
      "children": [
       "IPY_MODEL_0b402331a8604a47934ec7880fd26133",
       "IPY_MODEL_7462695712b74f95a6a29d4d790f2441"
      ],
      "layout": "IPY_MODEL_87f2c7da91d5473e856b603754b59759"
     }
    },
    "e8d68c64466b4ccd93f139f0766c6579": {
     "model_module": "@jupyter-widgets/controls",
     "model_name": "HBoxModel",
     "state": {
      "_dom_classes": [],
      "_model_module": "@jupyter-widgets/controls",
      "_model_module_version": "1.5.0",
      "_model_name": "HBoxModel",
      "_view_count": null,
      "_view_module": "@jupyter-widgets/controls",
      "_view_module_version": "1.5.0",
      "_view_name": "HBoxView",
      "box_style": "",
      "children": [
       "IPY_MODEL_5c25dda2c40e4fc6a02296568d5e9ca0",
       "IPY_MODEL_e9cbff58c6ba4811aac9a1308bc4fbf0"
      ],
      "layout": "IPY_MODEL_6d08752786c648958a13c119be62f188"
     }
    },
    "e96924017acb4cbd9d2a601a03239416": {
     "model_module": "@jupyter-widgets/controls",
     "model_name": "FloatProgressModel",
     "state": {
      "_dom_classes": [],
      "_model_module": "@jupyter-widgets/controls",
      "_model_module_version": "1.5.0",
      "_model_name": "FloatProgressModel",
      "_view_count": null,
      "_view_module": "@jupyter-widgets/controls",
      "_view_module_version": "1.5.0",
      "_view_name": "ProgressView",
      "bar_style": "success",
      "description": "",
      "description_tooltip": null,
      "layout": "IPY_MODEL_25e064d1a3804ec4846df2edff886644",
      "max": 28881,
      "min": 0,
      "orientation": "horizontal",
      "style": "IPY_MODEL_fe08123d020842689a057696d6397d69",
      "value": 28881
     }
    },
    "e9cbff58c6ba4811aac9a1308bc4fbf0": {
     "model_module": "@jupyter-widgets/controls",
     "model_name": "HTMLModel",
     "state": {
      "_dom_classes": [],
      "_model_module": "@jupyter-widgets/controls",
      "_model_module_version": "1.5.0",
      "_model_name": "HTMLModel",
      "_view_count": null,
      "_view_module": "@jupyter-widgets/controls",
      "_view_module_version": "1.5.0",
      "_view_name": "HTMLView",
      "description": "",
      "description_tooltip": null,
      "layout": "IPY_MODEL_3882a331f77c4ff289003cdff412d36d",
      "placeholder": "​",
      "style": "IPY_MODEL_b14a02f0789b48a9813d15010e062a76",
      "value": " 1649664/? [01:06&lt;00:00, 24647.40it/s]"
     }
    },
    "fdcf7488076e48f18f31fcec05546bdd": {
     "model_module": "@jupyter-widgets/controls",
     "model_name": "DescriptionStyleModel",
     "state": {
      "_model_module": "@jupyter-widgets/controls",
      "_model_module_version": "1.5.0",
      "_model_name": "DescriptionStyleModel",
      "_view_count": null,
      "_view_module": "@jupyter-widgets/base",
      "_view_module_version": "1.2.0",
      "_view_name": "StyleView",
      "description_width": ""
     }
    },
    "fe08123d020842689a057696d6397d69": {
     "model_module": "@jupyter-widgets/controls",
     "model_name": "ProgressStyleModel",
     "state": {
      "_model_module": "@jupyter-widgets/controls",
      "_model_module_version": "1.5.0",
      "_model_name": "ProgressStyleModel",
      "_view_count": null,
      "_view_module": "@jupyter-widgets/base",
      "_view_module_version": "1.2.0",
      "_view_name": "StyleView",
      "bar_color": null,
      "description_width": "initial"
     }
    }
   }
  }
 },
 "nbformat": 4,
 "nbformat_minor": 1
}
