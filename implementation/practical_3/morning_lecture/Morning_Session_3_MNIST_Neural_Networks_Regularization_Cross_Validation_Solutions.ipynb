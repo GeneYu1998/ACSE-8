{
 "cells": [
  {
   "cell_type": "markdown",
   "metadata": {
    "id": "OPF4rx2tyweZ"
   },
   "source": [
    "#### Notebook modified from the original version by `Lukas Mosser` and `Navjot Kukreja`"
   ]
  },
  {
   "cell_type": "code",
   "execution_count": null,
   "metadata": {
    "colab": {
     "base_uri": "https://localhost:8080/"
    },
    "executionInfo": {
     "elapsed": 3658,
     "status": "ok",
     "timestamp": 1620052194705,
     "user": {
      "displayName": "Lluis Guasch",
      "photoUrl": "https://lh3.googleusercontent.com/a-/AOh14GgixAK3O--_q3YyU7UAGgU4O9_TVZ2sRmOJ0jGj=s64",
      "userId": "08850588352998994016"
     },
     "user_tz": -60
    },
    "id": "LL3vQPYkhzOy",
    "outputId": "eeb83707-e017-4942-8887-8e37d6c7358c"
   },
   "outputs": [
    {
     "name": "stdout",
     "output_type": "stream",
     "text": [
      "Requirement already satisfied: pycm in /usr/local/lib/python3.7/dist-packages (3.1)\n",
      "Requirement already satisfied: livelossplot in /usr/local/lib/python3.7/dist-packages (0.5.4)\n",
      "Requirement already satisfied: numpy>=1.9.0 in /usr/local/lib/python3.7/dist-packages (from pycm) (1.19.5)\n",
      "Requirement already satisfied: art>=1.8 in /usr/local/lib/python3.7/dist-packages (from pycm) (5.1)\n",
      "Requirement already satisfied: ipython in /usr/local/lib/python3.7/dist-packages (from livelossplot) (5.5.0)\n",
      "Requirement already satisfied: matplotlib in /usr/local/lib/python3.7/dist-packages (from livelossplot) (3.2.2)\n",
      "Requirement already satisfied: bokeh in /usr/local/lib/python3.7/dist-packages (from livelossplot) (2.3.1)\n",
      "Requirement already satisfied: simplegeneric>0.8 in /usr/local/lib/python3.7/dist-packages (from ipython->livelossplot) (0.8.1)\n",
      "Requirement already satisfied: pexpect; sys_platform != \"win32\" in /usr/local/lib/python3.7/dist-packages (from ipython->livelossplot) (4.8.0)\n",
      "Requirement already satisfied: traitlets>=4.2 in /usr/local/lib/python3.7/dist-packages (from ipython->livelossplot) (5.0.5)\n",
      "Requirement already satisfied: setuptools>=18.5 in /usr/local/lib/python3.7/dist-packages (from ipython->livelossplot) (56.0.0)\n",
      "Requirement already satisfied: prompt-toolkit<2.0.0,>=1.0.4 in /usr/local/lib/python3.7/dist-packages (from ipython->livelossplot) (1.0.18)\n",
      "Requirement already satisfied: pickleshare in /usr/local/lib/python3.7/dist-packages (from ipython->livelossplot) (0.7.5)\n",
      "Requirement already satisfied: decorator in /usr/local/lib/python3.7/dist-packages (from ipython->livelossplot) (4.4.2)\n",
      "Requirement already satisfied: pygments in /usr/local/lib/python3.7/dist-packages (from ipython->livelossplot) (2.6.1)\n",
      "Requirement already satisfied: kiwisolver>=1.0.1 in /usr/local/lib/python3.7/dist-packages (from matplotlib->livelossplot) (1.3.1)\n",
      "Requirement already satisfied: pyparsing!=2.0.4,!=2.1.2,!=2.1.6,>=2.0.1 in /usr/local/lib/python3.7/dist-packages (from matplotlib->livelossplot) (2.4.7)\n",
      "Requirement already satisfied: python-dateutil>=2.1 in /usr/local/lib/python3.7/dist-packages (from matplotlib->livelossplot) (2.8.1)\n",
      "Requirement already satisfied: cycler>=0.10 in /usr/local/lib/python3.7/dist-packages (from matplotlib->livelossplot) (0.10.0)\n",
      "Requirement already satisfied: Jinja2>=2.7 in /usr/local/lib/python3.7/dist-packages (from bokeh->livelossplot) (2.11.3)\n",
      "Requirement already satisfied: tornado>=5.1 in /usr/local/lib/python3.7/dist-packages (from bokeh->livelossplot) (5.1.1)\n",
      "Requirement already satisfied: pillow>=7.1.0 in /usr/local/lib/python3.7/dist-packages (from bokeh->livelossplot) (7.1.2)\n",
      "Requirement already satisfied: typing-extensions>=3.7.4 in /usr/local/lib/python3.7/dist-packages (from bokeh->livelossplot) (3.7.4.3)\n",
      "Requirement already satisfied: packaging>=16.8 in /usr/local/lib/python3.7/dist-packages (from bokeh->livelossplot) (20.9)\n",
      "Requirement already satisfied: PyYAML>=3.10 in /usr/local/lib/python3.7/dist-packages (from bokeh->livelossplot) (3.13)\n",
      "Requirement already satisfied: ptyprocess>=0.5 in /usr/local/lib/python3.7/dist-packages (from pexpect; sys_platform != \"win32\"->ipython->livelossplot) (0.7.0)\n",
      "Requirement already satisfied: ipython-genutils in /usr/local/lib/python3.7/dist-packages (from traitlets>=4.2->ipython->livelossplot) (0.2.0)\n",
      "Requirement already satisfied: six>=1.9.0 in /usr/local/lib/python3.7/dist-packages (from prompt-toolkit<2.0.0,>=1.0.4->ipython->livelossplot) (1.15.0)\n",
      "Requirement already satisfied: wcwidth in /usr/local/lib/python3.7/dist-packages (from prompt-toolkit<2.0.0,>=1.0.4->ipython->livelossplot) (0.2.5)\n",
      "Requirement already satisfied: MarkupSafe>=0.23 in /usr/local/lib/python3.7/dist-packages (from Jinja2>=2.7->bokeh->livelossplot) (1.1.1)\n",
      "Populating the interactive namespace from numpy and matplotlib\n"
     ]
    }
   ],
   "source": [
    "!pip install pycm livelossplot\n",
    "%pylab inline"
   ]
  },
  {
   "cell_type": "markdown",
   "metadata": {
    "id": "En9dBOn0hzPL"
   },
   "source": [
    "# ACSE Module 8 - Practical - Morning Session 3:\n",
    "----\n",
    "# Training Deep Neural Networks - Cross-Validation\n",
    "\n",
    "###Objectives of today's session:\n",
    "\n",
    "- Design a fully connected feed forward neural network for MNIST\n",
    "- Create a validation split and normalise it\n",
    "- Perform a manual grid search on the momentum parameters\n",
    "- Combine validation and training set once we have optimal momentum parameters and train the model again\n",
    "- Run the test dataset and report accuracy\n",
    "- Generate some of the plots we saw in the theory lectures to analyse performance\n",
    "\n",
    "<br>\n",
    "\n",
    "On Practical 2, we learned how to **train network parameters** using backpropagation. Today we will learn how to choose **hyperparameters**:\n",
    "\n",
    "<img src=\"https://miro.medium.com/max/2140/1*pR6bSQXgC1Y_lYTeLDqVqg.png\" alt=\"network\" width=\"600\"/>"
   ]
  },
  {
   "cell_type": "markdown",
   "metadata": {
    "id": "3l4gJQzshyAZ"
   },
   "source": [
    "#### A few imports before we get started"
   ]
  },
  {
   "cell_type": "code",
   "execution_count": null,
   "metadata": {
    "colab": {
     "base_uri": "https://localhost:8080/"
    },
    "executionInfo": {
     "elapsed": 7484,
     "status": "ok",
     "timestamp": 1620052199383,
     "user": {
      "displayName": "Lluis Guasch",
      "photoUrl": "https://lh3.googleusercontent.com/a-/AOh14GgixAK3O--_q3YyU7UAGgU4O9_TVZ2sRmOJ0jGj=s64",
      "userId": "08850588352998994016"
     },
     "user_tz": -60
    },
    "id": "FcSo96KRhyAa",
    "outputId": "ae62a387-57ae-420f-d366-7ad0623d1726"
   },
   "outputs": [
    {
     "name": "stdout",
     "output_type": "stream",
     "text": [
      "Cuda installed! Running on GPU!\n"
     ]
    }
   ],
   "source": [
    "from sklearn.metrics import accuracy_score\n",
    "from sklearn.model_selection import StratifiedShuffleSplit\n",
    "\n",
    "from livelossplot import PlotLosses\n",
    "from pycm import *\n",
    "\n",
    "import torch\n",
    "import torch.nn as nn\n",
    "import torch.nn.functional as F\n",
    "from torch.utils.data import TensorDataset, DataLoader\n",
    "import torchvision.transforms as transforms\n",
    "from torchvision.datasets import MNIST\n",
    "\n",
    "\n",
    "def set_seed(seed):\n",
    "    \"\"\"\n",
    "    Use this to set ALL the random seeds to a fixed value and take out any randomness from cuda kernels\n",
    "    \"\"\"\n",
    "    random.seed(seed)\n",
    "    np.random.seed(seed)\n",
    "    torch.manual_seed(seed)\n",
    "    torch.cuda.manual_seed_all(seed)\n",
    "\n",
    "    torch.backends.cudnn.benchmark = False  ##uses the inbuilt cudnn auto-tuner to find the fastest convolution algorithms. -\n",
    "    torch.backends.cudnn.enabled   = False\n",
    "\n",
    "    return True\n",
    "\n",
    "device = 'cpu'\n",
    "if torch.cuda.device_count() > 0 and torch.cuda.is_available():\n",
    "    print(\"Cuda installed! Running on GPU!\")\n",
    "    device = 'cuda'\n",
    "else:\n",
    "    print(\"No GPU available!\")"
   ]
  },
  {
   "cell_type": "markdown",
   "metadata": {
    "id": "BLwI-j3wg3XG"
   },
   "source": [
    "# Important concepts from Practicall session 2 revisited:\n",
    "\n",
    "- **Recap 1**: `nn.Module` as a tool to define neural networks\n",
    "\n",
    "We use the `nn.Module` class to define our network:"
   ]
  },
  {
   "cell_type": "code",
   "execution_count": null,
   "metadata": {
    "id": "kx6mV8NihqHP"
   },
   "outputs": [],
   "source": [
    "# pseudo-code, don't try to run it!\n",
    "\n",
    "class DummyNetwork(nn.Module):\n",
    "    def __init__(self):\n",
    "        super(DummyNetwork, self).__init__()\n",
    "        # define your layers and activations\n",
    "        \n",
    "    def forward(self, x):\n",
    "        # define your network forward pass\n",
    "        # return output of the network"
   ]
  },
  {
   "cell_type": "markdown",
   "metadata": {
    "id": "uqL5F7aOimxE"
   },
   "source": [
    "- **Recap 2**: training loop structure\n",
    "\n",
    "Training loop structure is always of the form (with variations, of course):"
   ]
  },
  {
   "cell_type": "code",
   "execution_count": null,
   "metadata": {
    "id": "gHWrxk59i0EC"
   },
   "outputs": [],
   "source": [
    "# pseudo-code, don't try to run it!\n",
    "\n",
    "model = DummyNetwork()                                    # get an instance of your network \n",
    "optimizer = torch.optim.SGD(model.parameters(), lr=1e-3)  # define an optimiser (SGC, Adam, etc)\n",
    "criterion = torch.nn.MSELoss()                            # define your loss function\n",
    "model.train()                                             # tell the model we are going to train\n",
    "    for X, y in data_loader:                              # iterate over epochs\n",
    "        optimizer.zero_grad()                             # reset gradients\n",
    "        output = model(X)          # forward propagtion through the model\n",
    "        loss = criterion(y, output)    # compute loss\n",
    "        loss.backward()            # backpropagate\n",
    "        optimizer.step()           # update model parameters using the gradients"
   ]
  },
  {
   "cell_type": "markdown",
   "metadata": {
    "id": "yiC24RPhkHFu"
   },
   "source": [
    "- **Recap 3**: `Dataset` and `Dataloader`\n",
    "\n",
    "[`Datasets` and `Dataloader`](https://pytorch.org/tutorials/beginner/basics/data_tutorial.html) tutorial.\n",
    "\n",
    "[`Dataset`](https://pytorch.org/docs/stable/data.html#torch.utils.data.Dataset) : an abstract class representing a dataset. <br>\n",
    "[`Dataloader`](https://pytorch.org/docs/stable/data.html#torch.utils.data.DataLoader):  provides an iterable over the given dataset."
   ]
  },
  {
   "cell_type": "markdown",
   "metadata": {
    "id": "g_8LStChnX8c"
   },
   "source": [
    "- **Additional reads**: Computational graphs (**not required**)\n",
    "\n",
    "A good explanation of [computational graphs and autodifferentiation](https://blog.paperspace.com/pytorch-101-understanding-graphs-and-automatic-differentiation/)"
   ]
  },
  {
   "cell_type": "markdown",
   "metadata": {
    "id": "rGURJ5EBhzPO"
   },
   "source": [
    "---\n",
    "\n",
    "## Task 1: Training a deep neural network on MNIST using Pytorch\n",
    "\n",
    "In this exercise we will use cross-validation to estimate the hyperparameters of a deep-neural network trained on the MNIST dataset and create predictions on the MNIST datasets public test set."
   ]
  },
  {
   "cell_type": "markdown",
   "metadata": {
    "id": "6tLRNHc8GOfR"
   },
   "source": [
    "## 1.1: Mounting the google drive for later storage"
   ]
  },
  {
   "cell_type": "code",
   "execution_count": null,
   "metadata": {
    "colab": {
     "base_uri": "https://localhost:8080/"
    },
    "executionInfo": {
     "elapsed": 18846,
     "status": "ok",
     "timestamp": 1620052258240,
     "user": {
      "displayName": "Lluis Guasch",
      "photoUrl": "https://lh3.googleusercontent.com/a-/AOh14GgixAK3O--_q3YyU7UAGgU4O9_TVZ2sRmOJ0jGj=s64",
      "userId": "08850588352998994016"
     },
     "user_tz": -60
    },
    "id": "Dg3oP6GHGOsX",
    "outputId": "993b3b0d-4b7a-4145-b427-fe65394b5917"
   },
   "outputs": [
    {
     "name": "stdout",
     "output_type": "stream",
     "text": [
      "Mounted at /content/gdrive/\n"
     ]
    }
   ],
   "source": [
    "from google.colab import drive\n",
    "drive.mount('/content/gdrive/')"
   ]
  },
  {
   "cell_type": "markdown",
   "metadata": {
    "id": "y_UioFmvFIDw"
   },
   "source": [
    "## 1.2: The MNIST Dataset - Hello World of Deep-Learning"
   ]
  },
  {
   "cell_type": "code",
   "execution_count": null,
   "metadata": {
    "colab": {
     "base_uri": "https://localhost:8080/",
     "height": 790,
     "referenced_widgets": [
      "d1628191a58b4f339db086cb673b6db3",
      "87f2c7da91d5473e856b603754b59759",
      "0b402331a8604a47934ec7880fd26133",
      "7462695712b74f95a6a29d4d790f2441",
      "7b4e839883974b9e87f03e913bdea9dd",
      "c452a49b79c04d12bd5d111eff3dcb7b",
      "fdcf7488076e48f18f31fcec05546bdd",
      "922fa24e17c54bc3bfcc91da4d417ed8",
      "b974eda70998447e902ae40b99b5929d",
      "251bad0877f6427785905683a64a315f",
      "e96924017acb4cbd9d2a601a03239416",
      "2522db19930f49829ce4c284c402a553",
      "fe08123d020842689a057696d6397d69",
      "25e064d1a3804ec4846df2edff886644",
      "b6e932826d1242c6b95df2eebfdec308",
      "1b7f3e7a80ba46699d3e464eb4de26a2",
      "e8d68c64466b4ccd93f139f0766c6579",
      "6d08752786c648958a13c119be62f188",
      "5c25dda2c40e4fc6a02296568d5e9ca0",
      "e9cbff58c6ba4811aac9a1308bc4fbf0",
      "1b9b376ad3104dfcad9b44e125645281",
      "2eb9e43f7a93410990cab08d3be62c97",
      "b14a02f0789b48a9813d15010e062a76",
      "3882a331f77c4ff289003cdff412d36d",
      "335bcdc81f874b6bab1c5261b969d6ed",
      "83d127ad79e144f38d935e576f3d18c9",
      "ba68b534c8964dc0b8918ef4c92f0824",
      "cc2c5715a1a0413e80aa606d869600e1",
      "712065ee34254e81aea32bb31f6b7056",
      "b1645e0e771c44f790014a6aabc2d57a",
      "673efa7e349f41a79af44129946ef33a",
      "aeed03dbd38f4260a30bbd60a9ad4f28"
     ]
    },
    "executionInfo": {
     "elapsed": 6187,
     "status": "ok",
     "timestamp": 1620052272100,
     "user": {
      "displayName": "Lluis Guasch",
      "photoUrl": "https://lh3.googleusercontent.com/a-/AOh14GgixAK3O--_q3YyU7UAGgU4O9_TVZ2sRmOJ0jGj=s64",
      "userId": "08850588352998994016"
     },
     "user_tz": -60
    },
    "id": "3K-yVuQvhzPs",
    "outputId": "d007901f-0431-457c-95a3-7b8c7141545a"
   },
   "outputs": [
    {
     "name": "stdout",
     "output_type": "stream",
     "text": [
      "Downloading http://yann.lecun.com/exdb/mnist/train-images-idx3-ubyte.gz\n",
      "Failed to download (trying next):\n",
      "HTTP Error 503: Service Unavailable\n",
      "\n",
      "Downloading https://ossci-datasets.s3.amazonaws.com/mnist/train-images-idx3-ubyte.gz\n",
      "Downloading https://ossci-datasets.s3.amazonaws.com/mnist/train-images-idx3-ubyte.gz to ./MNIST/raw/train-images-idx3-ubyte.gz\n"
     ]
    },
    {
     "data": {
      "application/vnd.jupyter.widget-view+json": {
       "model_id": "d1628191a58b4f339db086cb673b6db3",
       "version_major": 2,
       "version_minor": 0
      },
      "text/plain": [
       "HBox(children=(FloatProgress(value=0.0, max=9912422.0), HTML(value='')))"
      ]
     },
     "metadata": {
      "tags": []
     },
     "output_type": "display_data"
    },
    {
     "name": "stdout",
     "output_type": "stream",
     "text": [
      "\n",
      "Extracting ./MNIST/raw/train-images-idx3-ubyte.gz to ./MNIST/raw\n",
      "\n",
      "Downloading http://yann.lecun.com/exdb/mnist/train-labels-idx1-ubyte.gz\n",
      "Failed to download (trying next):\n",
      "HTTP Error 503: Service Unavailable\n",
      "\n",
      "Downloading https://ossci-datasets.s3.amazonaws.com/mnist/train-labels-idx1-ubyte.gz\n",
      "Downloading https://ossci-datasets.s3.amazonaws.com/mnist/train-labels-idx1-ubyte.gz to ./MNIST/raw/train-labels-idx1-ubyte.gz\n"
     ]
    },
    {
     "data": {
      "application/vnd.jupyter.widget-view+json": {
       "model_id": "b974eda70998447e902ae40b99b5929d",
       "version_major": 2,
       "version_minor": 0
      },
      "text/plain": [
       "HBox(children=(FloatProgress(value=0.0, max=28881.0), HTML(value='')))"
      ]
     },
     "metadata": {
      "tags": []
     },
     "output_type": "display_data"
    },
    {
     "name": "stdout",
     "output_type": "stream",
     "text": [
      "\n",
      "Extracting ./MNIST/raw/train-labels-idx1-ubyte.gz to ./MNIST/raw\n",
      "\n",
      "Downloading http://yann.lecun.com/exdb/mnist/t10k-images-idx3-ubyte.gz\n",
      "Failed to download (trying next):\n",
      "HTTP Error 503: Service Unavailable\n",
      "\n",
      "Downloading https://ossci-datasets.s3.amazonaws.com/mnist/t10k-images-idx3-ubyte.gz\n",
      "Downloading https://ossci-datasets.s3.amazonaws.com/mnist/t10k-images-idx3-ubyte.gz to ./MNIST/raw/t10k-images-idx3-ubyte.gz\n"
     ]
    },
    {
     "data": {
      "application/vnd.jupyter.widget-view+json": {
       "model_id": "e8d68c64466b4ccd93f139f0766c6579",
       "version_major": 2,
       "version_minor": 0
      },
      "text/plain": [
       "HBox(children=(FloatProgress(value=0.0, max=1648877.0), HTML(value='')))"
      ]
     },
     "metadata": {
      "tags": []
     },
     "output_type": "display_data"
    },
    {
     "name": "stdout",
     "output_type": "stream",
     "text": [
      "\n",
      "Extracting ./MNIST/raw/t10k-images-idx3-ubyte.gz to ./MNIST/raw\n",
      "\n",
      "Downloading http://yann.lecun.com/exdb/mnist/t10k-labels-idx1-ubyte.gz\n",
      "Downloading http://yann.lecun.com/exdb/mnist/t10k-labels-idx1-ubyte.gz to ./MNIST/raw/t10k-labels-idx1-ubyte.gz\n"
     ]
    },
    {
     "data": {
      "application/vnd.jupyter.widget-view+json": {
       "model_id": "335bcdc81f874b6bab1c5261b969d6ed",
       "version_major": 2,
       "version_minor": 0
      },
      "text/plain": [
       "HBox(children=(FloatProgress(value=0.0, max=4542.0), HTML(value='')))"
      ]
     },
     "metadata": {
      "tags": []
     },
     "output_type": "display_data"
    },
    {
     "name": "stdout",
     "output_type": "stream",
     "text": [
      "\n",
      "Extracting ./MNIST/raw/t10k-labels-idx1-ubyte.gz to ./MNIST/raw\n",
      "\n",
      "Processing...\n"
     ]
    },
    {
     "name": "stderr",
     "output_type": "stream",
     "text": [
      "/usr/local/lib/python3.7/dist-packages/torchvision/datasets/mnist.py:502: UserWarning: The given NumPy array is not writeable, and PyTorch does not support non-writeable tensors. This means you can write to the underlying (supposedly non-writeable) NumPy array using the tensor. You may want to copy the array to protect its data or make it writeable before converting it to a tensor. This type of warning will be suppressed for the rest of this program. (Triggered internally at  /pytorch/torch/csrc/utils/tensor_numpy.cpp:143.)\n",
      "  return torch.from_numpy(parsed.astype(m[2], copy=False)).view(*s)\n"
     ]
    },
    {
     "name": "stdout",
     "output_type": "stream",
     "text": [
      "Done!\n"
     ]
    }
   ],
   "source": [
    "mnist_train = MNIST(\"./\", download=True, train=True)\n",
    "mnist_test = MNIST(\"./\", download=True, train=False)"
   ]
  },
  {
   "cell_type": "markdown",
   "metadata": {
    "id": "ZIKWFh11AK_Y"
   },
   "source": [
    "## 1.3: Instantiate and create a ```StratifiedShuffleSplit``` generator using sklearn.\n",
    "1. Create a ```sklearn.model_selection.StratifiedShuffleSplit``` object with 1-split and a test-size of 10%.\n",
    "2. Get the training and validation indices from the shuffel-split\n",
    "\n",
    "[`StratifiedShuffleSplit` documentation](https://scikit-learn.org/stable/modules/generated/sklearn.model_selection.StratifiedShuffleSplit.html) (+ a trick to embed a website in notebooks for easy access while coding)"
   ]
  },
  {
   "cell_type": "code",
   "execution_count": null,
   "metadata": {
    "id": "IJy4mNnZkWN9"
   },
   "outputs": [],
   "source": [
    "%%html\n",
    "<iframe src=\"https://scikit-learn.org/stable/modules/generated/sklearn.model_selection.StratifiedShuffleSplit.html\" width=\"1200\" height=\"300\">\n",
    "</iframe>"
   ]
  },
  {
   "cell_type": "code",
   "execution_count": null,
   "metadata": {
    "colab": {
     "base_uri": "https://localhost:8080/"
    },
    "executionInfo": {
     "elapsed": 859,
     "status": "ok",
     "timestamp": 1620052468152,
     "user": {
      "displayName": "Lluis Guasch",
      "photoUrl": "https://lh3.googleusercontent.com/a-/AOh14GgixAK3O--_q3YyU7UAGgU4O9_TVZ2sRmOJ0jGj=s64",
      "userId": "08850588352998994016"
     },
     "user_tz": -60
    },
    "id": "sGqFAwD-GhQp",
    "outputId": "feb71ced-35a5-4346-cc16-a0e6613a5854"
   },
   "outputs": [
    {
     "name": "stdout",
     "output_type": "stream",
     "text": [
      "indices type:  <class 'tuple'>\n",
      "indices:  (array([50700, 15345,  2527, ...,  4176, 14834, 39484]), array([58886, 22875, 48551, ..., 13829, 40340, 38131]))\n",
      "mnist_train type:  <class 'torchvision.datasets.mnist.MNIST'>\n",
      "mnist_train.data type:  <class 'torch.Tensor'>\n",
      "mnist_train.targets type:  <class 'torch.Tensor'>\n",
      "mnist_train.targets size:  torch.Size([60000])\n",
      "mnist_train targets:  tensor([5, 0, 4,  ..., 5, 6, 8])\n",
      "pixel value of one mnist_train image:  240\n"
     ]
    }
   ],
   "source": [
    "shuffler = StratifiedShuffleSplit(n_splits=1, test_size=0.1, random_state=42).split(mnist_train.data, mnist_train.targets)\n",
    "indices = [(train_idx, validation_idx) for train_idx, validation_idx in shuffler][0]\n",
    "print('indices type: ', type(indices))\n",
    "print('indices: ', indices)\n",
    "print('mnist_train type: ', type(mnist_train))\n",
    "print('mnist_train.data type: ', type(mnist_train.data))\n",
    "print('mnist_train.targets type: ', type(mnist_train.targets))\n",
    "print('mnist_train.targets size: ', mnist_train.targets.size())\n",
    "print('mnist_train targets: ', mnist_train.targets)\n",
    "print('pixel value of one mnist_train image: ', mnist_train.data[0][14][14].item())"
   ]
  },
  {
   "cell_type": "markdown",
   "metadata": {
    "id": "euZacTUtALq7"
   },
   "source": [
    "## 1.4 `code along`: Split and standardise the data\n",
    "The original mnist data is given in gray-scale values between 0 and 255.\n",
    "You will need to write a normalisation method that takes in a ```torch.Tensor``` and performs normalisation.\n",
    "The mean of MNIST is 0.1307 and it's standard deviation is 0.3081 (after division by 255). We could have computed these values using the [StandardScaler](https://scikit-learn.org/stable/modules/generated/sklearn.preprocessing.StandardScaler.html) function in sklearn, but since they are provided here, use them directly.\n"
   ]
  },
  {
   "cell_type": "code",
   "execution_count": null,
   "metadata": {
    "id": "ZRFencWQGhQr"
   },
   "outputs": [],
   "source": [
    "def apply_normalization(X):\n",
    "  X /= 255. ## normalize pixel values to the range 0 to 1. Pixel values are often unsigned integers in the range between 0 and 255.\n",
    "  X -= 0.1307 ## mean of the pixel values in this data set is 0.1307\n",
    "  X /= 0.3081 ## variance of the pixel values in this dataset is 0.3081\n",
    "  return X"
   ]
  },
  {
   "cell_type": "markdown",
   "metadata": {
    "id": "WSbjCTLu2a_W"
   },
   "source": [
    "Use the indices computed above and normalise the data:"
   ]
  },
  {
   "cell_type": "code",
   "execution_count": null,
   "metadata": {
    "id": "wc4wNDNZHyBI"
   },
   "outputs": [],
   "source": [
    "X_train, y_train = apply_normalization(mnist_train.data[indices[0]].float()), mnist_train.targets[indices[0]] # index is 0 because that's how we defined the indices above\n",
    "X_val, y_val = apply_normalization(mnist_train.data[indices[1]].float()), mnist_train.targets[indices[1]]     # index is 1 because that's how we defined the indices above\n",
    "X_test, y_test =  apply_normalization(mnist_test.data.float()), mnist_test.targets                            # test dataset"
   ]
  },
  {
   "cell_type": "markdown",
   "metadata": {
    "id": "RM9owG-yAMLv"
   },
   "source": [
    "## 1.5: Instantiate a ```torch.utils.data.TensorDataset``` for training, validation and test data\n",
    "\n",
    "Remember from last session, we use `TensorDataset` to reduce the memory footprint and have a convenient way to access large datasets stored on disk."
   ]
  },
  {
   "cell_type": "code",
   "execution_count": null,
   "metadata": {
    "id": "P1pHG7qoGhQr"
   },
   "outputs": [],
   "source": [
    "mnist_train = TensorDataset(X_train, y_train.long())    # PyTorch wants longs for categorical data\n",
    "mnist_validate = TensorDataset(X_val, y_val.long())\n",
    "mnist_test = TensorDataset(X_test, y_test.long())"
   ]
  },
  {
   "cell_type": "markdown",
   "metadata": {
    "id": "LZ2qMRUGAEUA"
   },
   "source": [
    "Let's visualise an example of the images and check whether the data is normalised properly (compute .mean() and .std() on the training set.)"
   ]
  },
  {
   "cell_type": "code",
   "execution_count": null,
   "metadata": {
    "colab": {
     "base_uri": "https://localhost:8080/",
     "height": 282
    },
    "executionInfo": {
     "elapsed": 1222,
     "status": "ok",
     "timestamp": 1620052733312,
     "user": {
      "displayName": "Lluis Guasch",
      "photoUrl": "https://lh3.googleusercontent.com/a-/AOh14GgixAK3O--_q3YyU7UAGgU4O9_TVZ2sRmOJ0jGj=s64",
      "userId": "08850588352998994016"
     },
     "user_tz": -60
    },
    "id": "MmexzozbIO2S",
    "outputId": "1a10994c-c2d8-4af7-a72a-0f4adbdd035d"
   },
   "outputs": [
    {
     "name": "stdout",
     "output_type": "stream",
     "text": [
      "0.00011968147737206891 1.000293493270874\n"
     ]
    },
    {
     "data": {
      "image/png": "[encoded data removed]",
      "text/plain": [
       "<Figure size 432x288 with 2 Axes>"
      ]
     },
     "metadata": {
      "needs_background": "light",
      "tags": []
     },
     "output_type": "display_data"
    }
   ],
   "source": [
    "plt.imshow(X_train[0], cmap=cm.gray)\n",
    "plt.colorbar()\n",
    "print(X_train.mean().item(), X_train.std().item())"
   ]
  },
  {
   "cell_type": "markdown",
   "metadata": {
    "id": "-pmRo9eE73IU"
   },
   "source": [
    "And let's plot a few more:"
   ]
  },
  {
   "cell_type": "code",
   "execution_count": null,
   "metadata": {
    "colab": {
     "base_uri": "https://localhost:8080/",
     "height": 702
    },
    "executionInfo": {
     "elapsed": 4111,
     "status": "ok",
     "timestamp": 1620052737245,
     "user": {
      "displayName": "Lluis Guasch",
      "photoUrl": "https://lh3.googleusercontent.com/a-/AOh14GgixAK3O--_q3YyU7UAGgU4O9_TVZ2sRmOJ0jGj=s64",
      "userId": "08850588352998994016"
     },
     "user_tz": -60
    },
    "id": "KX6n6BOE5eCY",
    "outputId": "2ea8d88f-cdfe-4b61-e3bd-f1eddf511214"
   },
   "outputs": [
    {
     "data": {
      "image/png": "[encoded data removed]",
      "text/plain": [
       "<Figure size 864x864 with 25 Axes>"
      ]
     },
     "metadata": {
      "needs_background": "light",
      "tags": []
     },
     "output_type": "display_data"
    }
   ],
   "source": [
    "fig=plt.figure(figsize=(12, 12))\n",
    "columns = 5\n",
    "rows = 5\n",
    "for i in range(1, columns*rows +1):\n",
    "    fig.add_subplot(rows, columns, i)\n",
    "    plt.imshow(X_train[i], cmap=cm.gray)\n",
    "plt.show()"
   ]
  },
  {
   "cell_type": "markdown",
   "metadata": {
    "id": "pQScGYoWSZtj"
   },
   "source": [
    "## 1.6 `code along`: Create a SimpleNet as a ```nn.Module```\n",
    "Create a simple feed-forward neural network with the following architecture:\n",
    "- Input Layer: 28*28 neurons\n",
    "- Hidden Layer: 25 neurons\n",
    "- Output Layer: 10 neurons\n",
    "- Hidden Layer Activation: ReLU\n",
    "- Output Layer Activation: None\n",
    "\n",
    "Which ones of these parameters are dictated by the nature of the dataset? <br>\n",
    "What are these values we defined above?\n"
   ]
  },
  {
   "cell_type": "code",
   "execution_count": null,
   "metadata": {
    "id": "y8tRv89qGhQr"
   },
   "outputs": [],
   "source": [
    "class SimpleNet(nn.Module):\n",
    "    def __init__(self):\n",
    "        super(SimpleNet, self).__init__()\n",
    "        self.linear_1 = nn.Linear(28*28, 25) # use nn.Linear and nn.Relu to define your layers and activations\n",
    "        self.linear_2 = nn.Linear(25, 10)    \n",
    "        self.activation = nn.ReLU()          \n",
    "        \n",
    "    def forward(self, x):\n",
    "        z1 = self.linear_1(x)               # code your forward pass using the layers and activations above\n",
    "        a1 = self.activation(z1)\n",
    "        z2 = self.linear_2(a1)\n",
    "        return z2                          # return z2 (not a2, we will see this later)\n",
    "        # return x\n",
    "        # return z1\n",
    "        # return a1"
   ]
  },
  {
   "cell_type": "markdown",
   "metadata": {
    "id": "g-xq9eRlASan"
   },
   "source": [
    "[`nn.Linear` documentation](https://pytorch.org/docs/stable/generated/torch.nn.Linear.html) <br>\n",
    "[`nn.ReLu` documentation](https://pytorch.org/docs/stable/generated/torch.nn.ReLU.html)"
   ]
  },
  {
   "cell_type": "markdown",
   "metadata": {
    "id": "RPH2bB7hECQf"
   },
   "source": [
    "Let's check the input, hidden, and output sizes.\n",
    "\n",
    "What happens if we comment out parts or of all the forward function?"
   ]
  },
  {
   "cell_type": "code",
   "execution_count": null,
   "metadata": {
    "colab": {
     "base_uri": "https://localhost:8080/"
    },
    "executionInfo": {
     "elapsed": 577,
     "status": "ok",
     "timestamp": 1620052833200,
     "user": {
      "displayName": "Lluis Guasch",
      "photoUrl": "https://lh3.googleusercontent.com/a-/AOh14GgixAK3O--_q3YyU7UAGgU4O9_TVZ2sRmOJ0jGj=s64",
      "userId": "08850588352998994016"
     },
     "user_tz": -60
    },
    "id": "eGR26yBcDnED",
    "outputId": "a86cbacd-e9dd-4f88-b261-06dd87d99210"
   },
   "outputs": [
    {
     "name": "stdout",
     "output_type": "stream",
     "text": [
      "torch.Size([1, 10]) tensor(0.3337, grad_fn=<MaxBackward1>)\n"
     ]
    }
   ],
   "source": [
    "set_seed(42) # what does the setting the seed does here?\n",
    "model = SimpleNet()\n",
    "X_ = X_train[0].view(-1,28*28)\n",
    "y_ = model(X_)\n",
    "print(y_.shape,y_.max())#.item())"
   ]
  },
  {
   "cell_type": "markdown",
   "metadata": {
    "id": "uuh9vYwiE6IJ"
   },
   "source": [
    "The `torch.view` function is similar to `torch.reshape` in PyTorch. But since `torch.reshape` behaves a bit erratically in terms of copying or providing a view of the tensor, we will always use `torch.view`. You can find a good explanation of the differences [here](https://stackoverflow.com/questions/49643225/whats-the-difference-between-reshape-and-view-in-pytorch)"
   ]
  },
  {
   "cell_type": "markdown",
   "metadata": {
    "id": "3TYLEVrsANtX"
   },
   "source": [
    "## 1.7: Sanity checks on our SimpleNet\n"
   ]
  },
  {
   "cell_type": "code",
   "execution_count": null,
   "metadata": {
    "colab": {
     "base_uri": "https://localhost:8080/"
    },
    "executionInfo": {
     "elapsed": 635,
     "status": "ok",
     "timestamp": 1620052928353,
     "user": {
      "displayName": "Lluis Guasch",
      "photoUrl": "https://lh3.googleusercontent.com/a-/AOh14GgixAK3O--_q3YyU7UAGgU4O9_TVZ2sRmOJ0jGj=s64",
      "userId": "08850588352998994016"
     },
     "user_tz": -60
    },
    "id": "cPxBHE2MhzQA",
    "outputId": "41ef0706-474c-4c0a-9723-e8f2bda5da87"
   },
   "outputs": [
    {
     "name": "stdout",
     "output_type": "stream",
     "text": [
      "tensor([[-2.3002, -2.2015, -2.3132, -2.7334, -2.3650, -2.3482, -2.2407, -2.1243,\n",
      "         -2.6117, -1.9923]], device='cuda:0', grad_fn=<LogSoftmaxBackward>)\n",
      "prediction:                                  9\n",
      "true value (we force it to be zero above!):  0\n"
     ]
    }
   ],
   "source": [
    "set_seed(42) # what does the setting the seed does here?\n",
    "model = SimpleNet().to(device) ## .to(device) loads the model on the device, i.e GPUs in this example\n",
    "criterion = nn.CrossEntropyLoss() # change to NLLLoss if you want to keep the softmax in the module (network)\n",
    "\n",
    "X_ = X_train[0].view(-1, 28*28).to(device)  ## get 1 sample only. Also .view(-1,28*28) reshapes the tensor to get it ready for the first fully connected layer. \n",
    "## the dimension of -1 implies that the actual value for this dimension will be inferred so that the number of elements in the view matches the original number of elements.\n",
    "\n",
    "y_ = torch.zeros((1)).to(device).long().to(device) # loads the tensor to the current device in use, i.e the GPUs\n",
    "a2 = model(X_) ## a2 = z2 in this case since SimpleNet is returning z2\n",
    "loss = criterion(a2, y_) ## the loss criterion CrossEntropyLoss(), combines nn.LogSoftMax and nn.NLLLoss so it is essentially computing the loss between the non_linear transform of z2 and the label y_\n",
    "y_pred = F.log_softmax(a2, dim=1).max(1)[1] ## gives the predicted value as the maximum probability value index based on the log_softmax operation on a2\n",
    "\n",
    "print(F.log_softmax(a2, dim=1))\n",
    "print('prediction:                                 ', y_pred.item())\n",
    "print('true value (we force it to be zero above!): ', y_.item())"
   ]
  },
  {
   "cell_type": "markdown",
   "metadata": {
    "id": "OJgoukKlPb_6"
   },
   "source": [
    "Note that we have left the last activation out of our network. This is because PyTorch's [`CrossEntropyLoos`](https://pytorch.org/docs/stable/generated/torch.nn.CrossEntropyLoss.html) already includes a [`LogSoftmax`](https://pytorch.org/docs/stable/generated/torch.nn.LogSoftmax.html#torch.nn.LogSoftmax) operation."
   ]
  },
  {
   "cell_type": "markdown",
   "metadata": {
    "id": "bcFPI8XKAOtl"
   },
   "source": [
    "## 1.8 `code along`: Create simple train function\n",
    "\n",
    "The function should perform the following tasks:\n",
    "1. Set the model into training mode\n",
    "2. Iterate over all the mini-batches\n",
    "3. Send the batches to the GPU / CPU\n",
    "4. Zero all the gradients\n",
    "5. Perform the forward-pass\n",
    "6. Compute the loss\n",
    "7. Perform the backward-pass\n",
    "8. Keep a running measure of training loss and accuracy\n",
    "9. Perform a step of gradient-descent\n",
    "10. Once done with all batches, return average training loss and accuracy"
   ]
  },
  {
   "cell_type": "code",
   "execution_count": null,
   "metadata": {
    "id": "FRrehKxjhzQQ"
   },
   "outputs": [],
   "source": [
    "def train(model, optimizer, criterion, data_loader):\n",
    "    model.train()                         # the model is in the training mode so the parameters(weights)to be optimised will be updated\n",
    "    train_loss, train_accuracy = 0, 0     # initialise loss and accuracy to 0 for training\n",
    "    for X, y in data_loader:              # iterate over the mini-batches defined in the data loader\n",
    "        X, y = X.to(device), y.to(device) # send data to the device (GPU in our case)\n",
    "        optimizer.zero_grad()             # resetting optimiser info\n",
    "        a2 = model(X.view(-1, 28*28))     # forward pass\n",
    "        loss = criterion(a2, y)           # compute loss\n",
    "        loss.backward()                   # backpropagation to calculate the gradients\n",
    "        train_loss += loss*X.size(0)      # # add it up for different mini-batches and undo loss normalisation\n",
    "        y_pred = F.log_softmax(a2, dim=1).max(1)[1]  # get predictions\n",
    "        train_accuracy += accuracy_score(y.cpu().numpy(), y_pred.detach().cpu().numpy())*X.size(0) # compute accuracy\n",
    "        optimizer.step()                  # perform a step of gradient descent\n",
    "        \n",
    "    return train_loss/len(data_loader.dataset), train_accuracy/len(data_loader.dataset)  # here we can average over the whole dataset"
   ]
  },
  {
   "cell_type": "markdown",
   "metadata": {
    "id": "9ZyumfW0AQDE"
   },
   "source": [
    "## 1.9 `code along`: Create simple validate function\n",
    "\n",
    "The function should perform the following tasks:\n",
    "1. Set the model into evaluation mode\n",
    "2. Iterate over all the mini-batches\n",
    "3. Send the batches to the GPU / CPU\n",
    "5. Perform the forward-pass\n",
    "6. Compute the loss\n",
    "8. Keep a running measure of validation loss and accuracy\n",
    "10. Once done with all batches, return average validation loss and accuracy"
   ]
  },
  {
   "cell_type": "code",
   "execution_count": null,
   "metadata": {
    "id": "Br0jvB7-hzQZ",
    "scrolled": false
   },
   "outputs": [],
   "source": [
    "def validate(model, criterion, data_loader):      # does not need optimiser\n",
    "    model.eval()                                  # model is set to evaluation mode so no dropout or any other funny stuff here\n",
    "    validation_loss, validation_accuracy = 0., 0. # initialise loss and accuracy to 0 for training\n",
    "    for X, y in data_loader:                      # iterate over the mini-batches defined in the data loader\n",
    "        with torch.no_grad():                     # deactivates autograd engine\n",
    "            X, y = X.to(device), y.to(device)     # send data to the device (GPU in our case)\n",
    "            a2 = model(X.view(-1, 28*28))         # forward pass\n",
    "            loss = criterion(a2, y)               # evaluate loss\n",
    "            validation_loss += loss*X.size(0)     # add it up for different mini-batches and undo loss normalisation\n",
    "            y_pred = F.log_softmax(a2, dim=1).max(1)[1]  # get predictions\n",
    "            validation_accuracy += accuracy_score(y.cpu().numpy(), y_pred.cpu().numpy())*X.size(0) # compute accuracy\n",
    "            \n",
    "    return validation_loss/len(data_loader.dataset), validation_accuracy/len(data_loader.dataset)  # here we can average over the whole dataset"
   ]
  },
  {
   "cell_type": "markdown",
   "metadata": {
    "id": "i_pehihNAQ9E"
   },
   "source": [
    " ## 1.10: Set the hyperparameters of your model\n",
    "- Seed: 42\n",
    "- learning rate: 1e-2\n",
    "- Optimizer: SGD\n",
    "- momentum: 0.9\n",
    "- Number of Epochs: 30\n",
    "- Batchsize: 64\n",
    "- Test Batch Size (no effect on training, but affects validation times): 1000\n",
    "- Shuffle the training set every epoch: Yes"
   ]
  },
  {
   "cell_type": "code",
   "execution_count": null,
   "metadata": {
    "id": "Zvp3L6IGhzQj"
   },
   "outputs": [],
   "source": [
    "seed = 42\n",
    "lr = 1e-2\n",
    "momentum = 0.9\n",
    "batch_size = 64\n",
    "test_batch_size = 1000\n",
    "n_epochs = 30"
   ]
  },
  {
   "cell_type": "markdown",
   "metadata": {
    "id": "-QgnLf8fJ8nG"
   },
   "source": [
    "## 1.11 `code along`: Instantiate our model, optimizer and loss function\n",
    "Set the random number generator seed using ```set_seed``` to make everything reproducible.\n",
    "As a criterion use a sensible loss for the multi-class classification problem."
   ]
  },
  {
   "cell_type": "code",
   "execution_count": null,
   "metadata": {
    "id": "a4v1l2QEGhQu"
   },
   "outputs": [],
   "source": [
    "set_seed(seed)\n",
    "model = SimpleNet().to(device)                                              # instantiate model and send it to the GPU\n",
    "optimizer = torch.optim.SGD(model.parameters(), lr=lr, momentum=momentum)   # instantiate the optimizer\n",
    "criterion = nn.CrossEntropyLoss()                                           # define the loss"
   ]
  },
  {
   "cell_type": "markdown",
   "metadata": {
    "id": "ZfBaeCSiASt7"
   },
   "source": [
    "## 1.12: Create dataloaders for the training, validation and test data"
   ]
  },
  {
   "cell_type": "code",
   "execution_count": null,
   "metadata": {
    "id": "rH5U5pDnGhQu"
   },
   "outputs": [],
   "source": [
    "train_loader = DataLoader(mnist_train, batch_size=batch_size, shuffle=True, num_workers=0) ## num_workers=0 means that the main process will retrieve the data.\n",
    "validation_loader = DataLoader(mnist_validate, batch_size=test_batch_size, shuffle=False, num_workers=0)\n",
    "test_loader = DataLoader(mnist_test, batch_size=test_batch_size, shuffle=False, num_workers=0)"
   ]
  },
  {
   "cell_type": "markdown",
   "metadata": {
    "id": "spMsm72msau2"
   },
   "source": [
    "Do you know what `shuffle` do? Why do we use it here?\n",
    "\n",
    "If num_workers=2 for example, 2 other workers will put data into the RAM instead of the main process. Good discussion about how to choose it [here](https://discuss.pytorch.org/t/guidelines-for-assigning-num-workers-to-dataloader/813/5) (**not required**)"
   ]
  },
  {
   "cell_type": "markdown",
   "metadata": {
    "id": "NMEpCuC1EEFw"
   },
   "source": [
    "## 1.13: Perform the training of the network and validation\n",
    "Here we provide you with a method to visualize both training and validation loss while training your networks using [livelossplot](https://github.com/stared/livelossplot).\n",
    "\n",
    "As the repo says: *Don't train deep learning models blindfolded! Be impatient and look at each epoch of your training!*\n",
    "\n",
    "With this method we will be able to generate the plots Olivier shoed in his slides:\n",
    "\n",
    "<img src=\"https://raw.githubusercontent.com/acse-2020/ACSE-8/main/implementation/practical_3/Figs/UsingValidationDuringTraining.png?token=ABNZJPZVFB6UI7ZOUPR5BB3ATFFSW\" width=600/>"
   ]
  },
  {
   "cell_type": "code",
   "execution_count": null,
   "metadata": {
    "colab": {
     "base_uri": "https://localhost:8080/",
     "height": 707
    },
    "executionInfo": {
     "elapsed": 76738,
     "status": "ok",
     "timestamp": 1620053550846,
     "user": {
      "displayName": "Lluis Guasch",
      "photoUrl": "https://lh3.googleusercontent.com/a-/AOh14GgixAK3O--_q3YyU7UAGgU4O9_TVZ2sRmOJ0jGj=s64",
      "userId": "08850588352998994016"
     },
     "user_tz": -60
    },
    "id": "w9txG8N2hzQt",
    "outputId": "604c1b29-d8b7-467f-d756-e3354018bdfd"
   },
   "outputs": [
    {
     "data": {
      "image/png": "[encoded data removed]",
      "text/plain": [
       "<Figure size 864x576 with 2 Axes>"
      ]
     },
     "metadata": {
      "needs_background": "light",
      "tags": []
     },
     "output_type": "display_data"
    },
    {
     "name": "stdout",
     "output_type": "stream",
     "text": [
      "accuracy\n",
      "\ttraining         \t (min:    0.903, max:    0.988, cur:    0.988)\n",
      "\tvalidation       \t (min:    0.938, max:    0.961, cur:    0.959)\n",
      "log loss\n",
      "\ttraining         \t (min:    0.037, max:    0.326, cur:    0.037)\n",
      "\tvalidation       \t (min:    0.145, max:    0.212, cur:    0.198)\n",
      "0.19750984013080597\n"
     ]
    }
   ],
   "source": [
    "set_seed(seed)\n",
    "liveloss = PlotLosses()    # plots evolution of loss and accuracy\n",
    "for epoch in range(30):\n",
    "    logs = {}\n",
    "    train_loss, train_accuracy = train(model, optimizer, criterion, train_loader)\n",
    "\n",
    "    logs['' + 'log loss'] = train_loss.item()\n",
    "    logs['' + 'accuracy'] = train_accuracy.item()\n",
    "    \n",
    "    validation_loss, validation_accuracy = validate(model, criterion, validation_loader)\n",
    "    logs['val_' + 'log loss'] = validation_loss.item()\n",
    "    logs['val_' + 'accuracy'] = validation_accuracy.item()\n",
    "    \n",
    "    liveloss.update(logs)\n",
    "    liveloss.draw()\n",
    "    print(validation_loss.item())"
   ]
  },
  {
   "cell_type": "markdown",
   "metadata": {
    "id": "5kPt1sm8Mm_q"
   },
   "source": [
    "It seems the model isn't doing very well. Let's optimise a hyperparameter to see if we can do any better.\n",
    "\n",
    "## 1.14 `code along`: Running a grid-search\n",
    "We will run a grid search over the momentum value using the following: `momentum = [0.1, 0.5, 0.9]`\n",
    "to figure out the 'best' value of momentum."
   ]
  },
  {
   "cell_type": "code",
   "execution_count": null,
   "metadata": {
    "id": "cVIuIJuTM2Ro"
   },
   "outputs": [],
   "source": [
    "def train_model(momentum):          # define function train_momentum which accepts one argument (momentum)\n",
    "  set_seed(seed)                    # set seed\n",
    "  model = SimpleNet().to(device)    # instantiate model and send it to the GPU\n",
    "  optimizer = torch.optim.SGD(model.parameters(), lr=lr, momentum=momentum)  # define an optimiser\n",
    "  criterion = nn.CrossEntropyLoss() # define the loss function\n",
    "  \n",
    "  train_loader = DataLoader(mnist_train, batch_size=batch_size, shuffle=True, num_workers=0)               # train_loader\n",
    "  validation_loader = DataLoader(mnist_validate, batch_size=test_batch_size, shuffle=False, num_workers=0) # validation_loader\n",
    "  test_loader = DataLoader(mnist_test, batch_size=test_batch_size, shuffle=False, num_workers=0)           # test_loader\n",
    "  \n",
    "  liveloss = PlotLosses()\n",
    "  for epoch in range(30):\n",
    "      logs = {}\n",
    "      train_loss, train_accuracy = train(model, optimizer, criterion, train_loader)\n",
    "\n",
    "      logs['log loss'] = train_loss.item()\n",
    "      logs['accuracy'] = train_accuracy.item()\n",
    "\n",
    "      validation_loss, validation_accuracy = validate(model, criterion, validation_loader)\n",
    "      logs['val_log loss'] = validation_loss.item()\n",
    "      logs['val_accuracy'] = validation_accuracy.item()\n",
    "\n",
    "      liveloss.update(logs)\n",
    "      liveloss.draw()\n",
    "      \n",
    "  return True"
   ]
  },
  {
   "cell_type": "code",
   "execution_count": null,
   "metadata": {
    "colab": {
     "base_uri": "https://localhost:8080/",
     "height": 707
    },
    "executionInfo": {
     "elapsed": 73699,
     "status": "ok",
     "timestamp": 1620055246074,
     "user": {
      "displayName": "Lluis Guasch",
      "photoUrl": "https://lh3.googleusercontent.com/a-/AOh14GgixAK3O--_q3YyU7UAGgU4O9_TVZ2sRmOJ0jGj=s64",
      "userId": "08850588352998994016"
     },
     "user_tz": -60
    },
    "id": "0G3oP1vPNE2O",
    "outputId": "05cd6e4a-be14-422a-a69a-ced448b66c0a"
   },
   "outputs": [
    {
     "data": {
      "image/png": "[encoded data removed]",
      "text/plain": [
       "<Figure size 864x576 with 2 Axes>"
      ]
     },
     "metadata": {
      "needs_background": "light",
      "tags": []
     },
     "output_type": "display_data"
    },
    {
     "name": "stdout",
     "output_type": "stream",
     "text": [
      "accuracy\n",
      "\ttraining         \t (min:    0.844, max:    0.974, cur:    0.974)\n",
      "\tvalidation       \t (min:    0.904, max:    0.960, cur:    0.960)\n",
      "log loss\n",
      "\ttraining         \t (min:    0.091, max:    0.608, cur:    0.091)\n",
      "\tvalidation       \t (min:    0.144, max:    0.353, cur:    0.144)\n"
     ]
    },
    {
     "data": {
      "text/plain": [
       "True"
      ]
     },
     "execution_count": 39,
     "metadata": {
      "tags": []
     },
     "output_type": "execute_result"
    }
   ],
   "source": [
    "train_model(0.1)"
   ]
  },
  {
   "cell_type": "code",
   "execution_count": null,
   "metadata": {
    "colab": {
     "base_uri": "https://localhost:8080/",
     "height": 707
    },
    "executionInfo": {
     "elapsed": 146204,
     "status": "ok",
     "timestamp": 1620055319084,
     "user": {
      "displayName": "Lluis Guasch",
      "photoUrl": "https://lh3.googleusercontent.com/a-/AOh14GgixAK3O--_q3YyU7UAGgU4O9_TVZ2sRmOJ0jGj=s64",
      "userId": "08850588352998994016"
     },
     "user_tz": -60
    },
    "id": "EA9rn-x3NFEP",
    "outputId": "67ce953d-2069-431e-c49f-c3c1947cb211"
   },
   "outputs": [
    {
     "data": {
      "image/png": "[encoded data removed]",
      "text/plain": [
       "<Figure size 864x576 with 2 Axes>"
      ]
     },
     "metadata": {
      "needs_background": "light",
      "tags": []
     },
     "output_type": "display_data"
    },
    {
     "name": "stdout",
     "output_type": "stream",
     "text": [
      "accuracy\n",
      "\ttraining         \t (min:    0.867, max:    0.980, cur:    0.980)\n",
      "\tvalidation       \t (min:    0.916, max:    0.964, cur:    0.962)\n",
      "log loss\n",
      "\ttraining         \t (min:    0.067, max:    0.489, cur:    0.067)\n",
      "\tvalidation       \t (min:    0.134, max:    0.306, cur:    0.139)\n"
     ]
    },
    {
     "data": {
      "text/plain": [
       "True"
      ]
     },
     "execution_count": 40,
     "metadata": {
      "tags": []
     },
     "output_type": "execute_result"
    }
   ],
   "source": [
    "train_model(0.5)"
   ]
  },
  {
   "cell_type": "code",
   "execution_count": null,
   "metadata": {
    "colab": {
     "base_uri": "https://localhost:8080/",
     "height": 707
    },
    "executionInfo": {
     "elapsed": 218215,
     "status": "ok",
     "timestamp": 1620055391492,
     "user": {
      "displayName": "Lluis Guasch",
      "photoUrl": "https://lh3.googleusercontent.com/a-/AOh14GgixAK3O--_q3YyU7UAGgU4O9_TVZ2sRmOJ0jGj=s64",
      "userId": "08850588352998994016"
     },
     "user_tz": -60
    },
    "id": "82leJRKPNFOk",
    "outputId": "6ccbe913-33fd-4952-8c54-c201c8535f6c"
   },
   "outputs": [
    {
     "data": {
      "image/png": "[encoded data removed]",
      "text/plain": [
       "<Figure size 864x576 with 2 Axes>"
      ]
     },
     "metadata": {
      "needs_background": "light",
      "tags": []
     },
     "output_type": "display_data"
    },
    {
     "name": "stdout",
     "output_type": "stream",
     "text": [
      "accuracy\n",
      "\ttraining         \t (min:    0.906, max:    0.987, cur:    0.986)\n",
      "\tvalidation       \t (min:    0.932, max:    0.962, cur:    0.957)\n",
      "log loss\n",
      "\ttraining         \t (min:    0.041, max:    0.320, cur:    0.041)\n",
      "\tvalidation       \t (min:    0.134, max:    0.221, cur:    0.192)\n"
     ]
    },
    {
     "data": {
      "text/plain": [
       "True"
      ]
     },
     "execution_count": 41,
     "metadata": {
      "tags": []
     },
     "output_type": "execute_result"
    }
   ],
   "source": [
    "train_model(0.9)"
   ]
  },
  {
   "cell_type": "code",
   "execution_count": null,
   "metadata": {
    "id": "5vmj6Vb7L_Kd"
   },
   "outputs": [],
   "source": [
    "best_momentum = 0.5"
   ]
  },
  {
   "cell_type": "markdown",
   "metadata": {
    "id": "biyWFx8tAW9G"
   },
   "source": [
    "## 1.15: Implement an evaluate method\n",
    "This method performs the same as validate but doesn't report losses, but simply returns all predictions on a given dataset (training, validation, test-set)"
   ]
  },
  {
   "cell_type": "code",
   "execution_count": null,
   "metadata": {
    "colab": {
     "base_uri": "https://localhost:8080/"
    },
    "executionInfo": {
     "elapsed": 217831,
     "status": "ok",
     "timestamp": 1620055392316,
     "user": {
      "displayName": "Lluis Guasch",
      "photoUrl": "https://lh3.googleusercontent.com/a-/AOh14GgixAK3O--_q3YyU7UAGgU4O9_TVZ2sRmOJ0jGj=s64",
      "userId": "08850588352998994016"
     },
     "user_tz": -60
    },
    "id": "1-MaI8F1hzQ7",
    "outputId": "fab3f641-c828-481f-f82b-935e05d238f9"
   },
   "outputs": [
    {
     "name": "stdout",
     "output_type": "stream",
     "text": [
      "[1 9 3 ... 5 0 4] [1 9 3 ... 5 0 4]\n"
     ]
    }
   ],
   "source": [
    "def evaluate(model, data_loader):\n",
    "    model.eval()\n",
    "    ys, y_preds = [], []\n",
    "    for X, y in data_loader:\n",
    "        with torch.no_grad():\n",
    "            X, y = X.to(device), y.to(device)\n",
    "            a2 = model(X.view(-1, 28*28))\n",
    "            y_pred = F.log_softmax(a2, dim=1).max(1)[1]\n",
    "            ys.append(y.cpu().numpy())\n",
    "            y_preds.append(y_pred.cpu().numpy())\n",
    "    \n",
    "    return np.concatenate(y_preds, 0),  np.concatenate(ys, 0) ## concatenate the labels of each batch into a single list\n",
    "\n",
    "y_pred, y_gt = evaluate(model, validation_loader)\n",
    "print(y_pred, y_gt)"
   ]
  },
  {
   "cell_type": "markdown",
   "metadata": {
    "id": "keGazNqkAXw9"
   },
   "source": [
    "## 1.17: Plotting a confusion matrix\n",
    "\n",
    "We can use a confusion matrix to diagnose problems in our models.\n",
    "What numbers are missclassified more often?\n",
    "\n",
    "(To generate the confusion matrix we use the [PyCM library](https://www.pycm.ir/doc/index.html))"
   ]
  },
  {
   "cell_type": "code",
   "execution_count": null,
   "metadata": {
    "colab": {
     "base_uri": "https://localhost:8080/"
    },
    "executionInfo": {
     "elapsed": 216236,
     "status": "ok",
     "timestamp": 1620055392317,
     "user": {
      "displayName": "Lluis Guasch",
      "photoUrl": "https://lh3.googleusercontent.com/a-/AOh14GgixAK3O--_q3YyU7UAGgU4O9_TVZ2sRmOJ0jGj=s64",
      "userId": "08850588352998994016"
     },
     "user_tz": -60
    },
    "id": "SWtJhZnDhzRE",
    "outputId": "ff941958-a8b7-43ec-dfc8-41b1415b981e",
    "scrolled": false
   },
   "outputs": [
    {
     "name": "stdout",
     "output_type": "stream",
     "text": [
      "Predict   0         1         2         3         4         5         6         7         8         9         \n",
      "Actual\n",
      "0         569       1         0         0         4         8         2         1         6         1         \n",
      "\n",
      "1         0         667       4         1         0         0         0         0         1         1         \n",
      "\n",
      "2         1         11        557       9         2         0         4         6         5         1         \n",
      "\n",
      "3         0         1         7         580       1         7         0         2         9         6         \n",
      "\n",
      "4         1         1         2         0         568       1         2         3         0         6         \n",
      "\n",
      "5         1         1         0         3         2         523       4         0         6         2         \n",
      "\n",
      "6         3         0         0         1         8         3         574       1         2         0         \n",
      "\n",
      "7         0         6         4         2         4         1         0         600       0         10        \n",
      "\n",
      "8         1         6         2         4         2         5         2         0         555       8         \n",
      "\n",
      "9         1         0         0         0         14        2         0         11        7         560       \n",
      "\n",
      "\n",
      "\n",
      "\n",
      "\n",
      "Overall Statistics : \n",
      "\n",
      "95% CI                                                            (0.95381,0.96386)\n",
      "ACC Macro                                                         0.99177\n",
      "ARI                                                               0.91132\n",
      "AUNP                                                              0.97713\n",
      "AUNU                                                              0.97699\n",
      "Bangdiwala B                                                      0.92013\n",
      "Bennett S                                                         0.95426\n",
      "CBA                                                               0.94995\n",
      "CSI                                                               0.91741\n",
      "Chi-Squared                                                       49174.20959\n",
      "Chi-Squared DF                                                    81\n",
      "Conditional Entropy                                               0.34027\n",
      "Cramer V                                                          0.95427\n",
      "Cross Entropy                                                     3.32022\n",
      "F1 Macro                                                          0.95859\n",
      "F1 Micro                                                          0.95883\n",
      "FNR Macro                                                         0.04145\n",
      "FNR Micro                                                         0.04117\n",
      "FPR Macro                                                         0.00457\n",
      "FPR Micro                                                         0.00457\n",
      "Gwet AC1                                                          0.95426\n",
      "Hamming Loss                                                      0.04117\n",
      "Joint Entropy                                                     3.66014\n",
      "KL Divergence                                                     0.00035\n",
      "Kappa                                                             0.95424\n",
      "Kappa 95% CI                                                      (0.94866,0.95983)\n",
      "Kappa No Prevalence                                               0.91767\n",
      "Kappa Standard Error                                              0.00285\n",
      "Kappa Unbiased                                                    0.95424\n",
      "Krippendorff Alpha                                                0.95425\n",
      "Lambda A                                                          0.95362\n",
      "Lambda B                                                          0.95345\n",
      "Mutual Information                                                2.97906\n",
      "NIR                                                               0.11233\n",
      "Overall ACC                                                       0.95883\n",
      "Overall CEN                                                       0.0776\n",
      "Overall J                                                         (9.20707,0.92071)\n",
      "Overall MCC                                                       0.95427\n",
      "Overall MCEN                                                      0.13128\n",
      "Overall RACC                                                      0.1003\n",
      "Overall RACCU                                                     0.10032\n",
      "P-Value                                                           None\n",
      "PPV Macro                                                         0.95887\n",
      "PPV Micro                                                         0.95883\n",
      "Pearson C                                                         0.94406\n",
      "Phi-Squared                                                       8.1957\n",
      "RCI                                                               0.89734\n",
      "RR                                                                600.0\n",
      "Reference Entropy                                                 3.31987\n",
      "Response Entropy                                                  3.31933\n",
      "SOA1(Landis & Koch)                                               Almost Perfect\n",
      "SOA2(Fleiss)                                                      Excellent\n",
      "SOA3(Altman)                                                      Very Good\n",
      "SOA4(Cicchetti)                                                   Excellent\n",
      "SOA5(Cramer)                                                      Very Strong\n",
      "SOA6(Matthews)                                                    Very Strong\n",
      "Scott PI                                                          0.95424\n",
      "Standard Error                                                    0.00256\n",
      "TNR Macro                                                         0.99543\n",
      "TNR Micro                                                         0.99543\n",
      "TPR Macro                                                         0.95855\n",
      "TPR Micro                                                         0.95883\n",
      "Zero-one Loss                                                     247\n",
      "\n",
      "Class Statistics :\n",
      "\n",
      "Classes                                                           0             1             2             3             4             5             6             7             8             9             \n",
      "ACC(Accuracy)                                                     0.99483       0.99433       0.99033       0.99117       0.99117       0.99233       0.99467       0.9915        0.989         0.98833       \n",
      "AGF(Adjusted F-score)                                             0.98106       0.99083       0.96685       0.97203       0.98084       0.97901       0.98378       0.97629       0.97021       0.967         \n",
      "AGM(Adjusted geometric mean)                                      0.9886        0.99352       0.97993       0.98291       0.98774       0.98711       0.99004       0.98525       0.98149       0.97957       \n",
      "AM(Difference between automatic and manual classification)        -15           20            -20           -13           21            8             -4            -3            6             0             \n",
      "AUC(Area under the ROC curve)                                     0.97983       0.99227       0.96552       0.97123       0.98289       0.98          0.9835        0.97624       0.97103       0.96735       \n",
      "AUCI(AUC value interpretation)                                    Excellent     Excellent     Excellent     Excellent     Excellent     Excellent     Excellent     Excellent     Excellent     Excellent     \n",
      "AUPR(Area under the PR curve)                                     0.97364       0.97535       0.95079       0.95642       0.95572       0.95793       0.97289       0.95924       0.9439        0.94118       \n",
      "BCD(Bray-Curtis dissimilarity)                                    0.00125       0.00167       0.00167       0.00108       0.00175       0.00067       0.00033       0.00025       0.0005        0.0           \n",
      "BM(Informedness or bookmaker informedness)                        0.95967       0.98454       0.93105       0.94245       0.96577       0.96          0.96701       0.95247       0.94207       0.9347        \n",
      "CEN(Confusion entropy)                                            0.05368       0.04858       0.09166       0.08191       0.08428       0.08125       0.05468       0.07623       0.10507       0.10316       \n",
      "DOR(Diagnostic odds ratio)                                        16698.91304   18700.7037    4047.83401    4716.45455    5160.93243    5536.86745    12286.33333   4952.77778    2764.20833    2454.85714    \n",
      "DP(Discriminant power)                                            2.32809       2.3552        1.98877       2.02537       2.04693       2.06377       2.25462       2.03708       1.89744       1.86902       \n",
      "DPI(Discriminant power interpretation)                            Fair          Fair          Limited       Fair          Fair          Fair          Fair          Fair          Limited       Limited       \n",
      "ERR(Error rate)                                                   0.00517       0.00567       0.00967       0.00883       0.00883       0.00767       0.00533       0.0085        0.011         0.01167       \n",
      "F0.5(F0.5 score)                                                  0.98103       0.96667       0.96034       0.9625        0.94541       0.95368       0.97486       0.96061       0.941         0.94118       \n",
      "F1(F1 score - harmonic mean of precision and sensitivity)         0.97348       0.97515       0.95051       0.95631       0.95542       0.95788       0.97288       0.95923       0.94388       0.94118       \n",
      "F2(F2 score)                                                      0.96604       0.98378       0.94088       0.9502        0.96566       0.9621        0.97091       0.95785       0.94678       0.94118       \n",
      "FDR(False discovery rate)                                         0.01386       0.0389        0.03299       0.03333       0.06116       0.04909       0.02381       0.03846       0.06091       0.05882       \n",
      "FN(False negative/miss/type 2 error)                              23            7             39            33            16            19            18            27            30            35            \n",
      "FNR(Miss rate or false negative rate)                             0.03885       0.01039       0.06544       0.05383       0.0274        0.03506       0.03041       0.04306       0.05128       0.05882       \n",
      "FOR(False omission rate)                                          0.00424       0.00132       0.00719       0.00611       0.00297       0.00349       0.00333       0.00502       0.00555       0.00648       \n",
      "FP(False positive/type 1 error/false alarm)                       8             27            19            20            37            27            14            24            36            35            \n",
      "FPR(Fall-out or false positive rate)                              0.00148       0.00507       0.00352       0.00371       0.00683       0.00495       0.00259       0.00447       0.00665       0.00648       \n",
      "G(G-measure geometric mean of precision and sensitivity)          0.97356       0.97525       0.95065       0.95636       0.95557       0.9579        0.97289       0.95924       0.94389       0.94118       \n",
      "GI(Gini index)                                                    0.95967       0.98454       0.93105       0.94245       0.96577       0.96          0.96701       0.95247       0.94207       0.9347        \n",
      "GM(G-mean geometric mean of specificity and sensitivity)          0.97966       0.99227       0.96503       0.9709        0.98283       0.97988       0.9834        0.97604       0.97078       0.967         \n",
      "IBA(Index of balanced accuracy)                                   0.92386       0.97936       0.87361       0.89541       0.94609       0.93126       0.94018       0.91589       0.90035       0.88613       \n",
      "ICSI(Individual classification success index)                     0.94728       0.95071       0.90158       0.91283       0.91145       0.91585       0.94579       0.91848       0.8878        0.88235       \n",
      "IS(Information score)                                             3.32115       3.09689       3.28319       3.24209       3.26988       3.39598       3.30653       3.20184       3.26778       3.24654       \n",
      "J(Jaccard index)                                                  0.94833       0.9515        0.90569       0.91627       0.91465       0.91916       0.94719       0.92166       0.89372       0.88889       \n",
      "LS(Lift score)                                                    9.99461       8.55574       9.73504       9.46166       9.64565       10.52667      9.89382       9.20132       9.63165       9.49086       \n",
      "MCC(Matthews correlation coefficient)                             0.97072       0.97208       0.94533       0.95146       0.95071       0.95369       0.96993       0.95449       0.9378        0.9347        \n",
      "MCCI(Matthews correlation coefficient interpretation)             Very Strong   Very Strong   Very Strong   Very Strong   Very Strong   Very Strong   Very Strong   Very Strong   Very Strong   Very Strong   \n",
      "MCEN(Modified confusion entropy)                                  0.09266       0.08359       0.15363       0.13813       0.14218       0.1377        0.09429       0.12879       0.17549       0.17042       \n",
      "MK(Markedness)                                                    0.98189       0.95978       0.95982       0.96056       0.93588       0.94742       0.97286       0.95652       0.93354       0.9347        \n",
      "N(Condition negative)                                             5408          5326          5404          5387          5416          5458          5408          5373          5415          5405          \n",
      "NLR(Negative likelihood ratio)                                    0.03891       0.01044       0.06567       0.05403       0.02759       0.03523       0.03048       0.04326       0.05163       0.05921       \n",
      "NLRI(Negative likelihood ratio interpretation)                    Good          Good          Good          Good          Good          Good          Good          Good          Good          Good          \n",
      "NPV(Negative predictive value)                                    0.99576       0.99868       0.99281       0.99389       0.99703       0.99651       0.99667       0.99498       0.99445       0.99352       \n",
      "OC(Overlap coefficient)                                           0.98614       0.98961       0.96701       0.96667       0.9726        0.96494       0.97619       0.96154       0.94872       0.94118       \n",
      "OOC(Otsuka-Ochiai coefficient)                                    0.97356       0.97525       0.95065       0.95636       0.95557       0.9579        0.97289       0.95924       0.94389       0.94118       \n",
      "OP(Optimized precision)                                           0.97576       0.99165       0.95827       0.96536       0.9807        0.97697       0.98053       0.97173       0.96602       0.96128       \n",
      "P(Condition positive or support)                                  592           674           596           613           584           542           592           627           585           595           \n",
      "PLR(Positive likelihood ratio)                                    649.73649     195.21057     265.80961     254.84992     142.36801     195.06177     374.54054     214.23445     142.70299     145.34454     \n",
      "PLRI(Positive likelihood ratio interpretation)                    Good          Good          Good          Good          Good          Good          Good          Good          Good          Good          \n",
      "POP(Population)                                                   6000          6000          6000          6000          6000          6000          6000          6000          6000          6000          \n",
      "PPV(Precision or positive predictive value)                       0.98614       0.9611        0.96701       0.96667       0.93884       0.95091       0.97619       0.96154       0.93909       0.94118       \n",
      "PRE(Prevalence)                                                   0.09867       0.11233       0.09933       0.10217       0.09733       0.09033       0.09867       0.1045        0.0975        0.09917       \n",
      "Q(Yule Q - coefficient of colligation)                            0.99988       0.99989       0.99951       0.99958       0.99961       0.99964       0.99984       0.9996        0.99928       0.99919       \n",
      "QI(Yule Q interpretation)                                         Strong        Strong        Strong        Strong        Strong        Strong        Strong        Strong        Strong        Strong        \n",
      "RACC(Random accuracy)                                             0.00949       0.01299       0.00954       0.01022       0.00981       0.00828       0.00967       0.01087       0.0096        0.00983       \n",
      "RACCU(Random accuracy unbiased)                                   0.00949       0.013         0.00954       0.01022       0.00982       0.00828       0.00967       0.01087       0.0096        0.00983       \n",
      "TN(True negative/correct rejection)                               5400          5299          5385          5367          5379          5431          5394          5349          5379          5370          \n",
      "TNR(Specificity or true negative rate)                            0.99852       0.99493       0.99648       0.99629       0.99317       0.99505       0.99741       0.99553       0.99335       0.99352       \n",
      "TON(Test outcome negative)                                        5423          5306          5424          5400          5395          5450          5412          5376          5409          5405          \n",
      "TOP(Test outcome positive)                                        577           694           576           600           605           550           588           624           591           595           \n",
      "TP(True positive/hit)                                             569           667           557           580           568           523           574           600           555           560           \n",
      "TPR(Sensitivity, recall, hit rate, or true positive rate)         0.96115       0.98961       0.93456       0.94617       0.9726        0.96494       0.96959       0.95694       0.94872       0.94118       \n",
      "Y(Youden index)                                                   0.95967       0.98454       0.93105       0.94245       0.96577       0.96          0.96701       0.95247       0.94207       0.9347        \n",
      "dInd(Distance index)                                              0.03888       0.01156       0.06553       0.05396       0.02824       0.0354        0.03052       0.04329       0.05171       0.05918       \n",
      "sInd(Similarity index)                                            0.97251       0.99183       0.95366       0.96184       0.98003       0.97497       0.97842       0.96939       0.96343       0.95815       \n",
      "\n"
     ]
    },
    {
     "name": "stderr",
     "output_type": "stream",
     "text": [
      "/usr/local/lib/python3.7/dist-packages/pycm/pycm_obj.py:195: RuntimeWarning: The confusion matrix is a high dimension matrix and won't be demonstrated properly.\n",
      "If confusion matrix has too many zeros (sparse matrix) you can set `sparse` flag to True in printing functions otherwise by using save_csv method to save the confusion matrix in csv format you'll have better demonstration.\n",
      "  warn(CLASS_NUMBER_WARNING, RuntimeWarning)\n"
     ]
    }
   ],
   "source": [
    "cm = ConfusionMatrix(actual_vector=y_gt, predict_vector=y_pred) ## Create the confusion matrix from Data. ConfusionMatrix is a class derived from the pycm library\n",
    "print(cm)\n",
    "## the rows of the confusion matrix give the number of the instances in the actual class that were wrongly predicted."
   ]
  },
  {
   "cell_type": "code",
   "execution_count": null,
   "metadata": {
    "colab": {
     "base_uri": "https://localhost:8080/",
     "height": 286
    },
    "executionInfo": {
     "elapsed": 1016,
     "status": "ok",
     "timestamp": 1620055512414,
     "user": {
      "displayName": "Lluis Guasch",
      "photoUrl": "https://lh3.googleusercontent.com/a-/AOh14GgixAK3O--_q3YyU7UAGgU4O9_TVZ2sRmOJ0jGj=s64",
      "userId": "08850588352998994016"
     },
     "user_tz": -60
    },
    "id": "42n2oKEdMUjd",
    "outputId": "37cdaa55-6044-4602-96a7-e66bb92f6143"
   },
   "outputs": [
    {
     "data": {
      "text/plain": [
       "<matplotlib.axes._subplots.AxesSubplot at 0x7f93d5f62590>"
      ]
     },
     "execution_count": 50,
     "metadata": {
      "tags": []
     },
     "output_type": "execute_result"
    },
    {
     "data": {
      "image/png": "[encoded data removed]",
      "text/plain": [
       "<Figure size 432x288 with 2 Axes>"
      ]
     },
     "metadata": {
      "needs_background": "light",
      "tags": []
     },
     "output_type": "display_data"
    }
   ],
   "source": [
    "import seaborn as sns\n",
    "\n",
    "def to_raw_matrix(cm):\n",
    "    plt_cm = []\n",
    "    for i in cm.classes :\n",
    "        row=[]\n",
    "        for j in cm.classes:\n",
    "            row.append(cm.table[i][j])\n",
    "        plt_cm.append(row)\n",
    "    plt_cm = np.array(plt_cm)\n",
    "    return plt_cm\n",
    "\n",
    "rcm = to_raw_matrix(cm) #store the confusion matrix values\n",
    "\n",
    "sns.heatmap(rcm, cmap=\"Blues\", vmin=0, vmax=25)"
   ]
  },
  {
   "cell_type": "markdown",
   "metadata": {
    "id": "2-OG3gAcE2mr"
   },
   "source": [
    "## 1.18: Given that you estimated your hyperparameters, train your model on the full dataset and evaluate on the test set"
   ]
  },
  {
   "cell_type": "code",
   "execution_count": null,
   "metadata": {
    "colab": {
     "base_uri": "https://localhost:8080/",
     "height": 690
    },
    "executionInfo": {
     "elapsed": 135798,
     "status": "ok",
     "timestamp": 1619880956757,
     "user": {
      "displayName": "Lluis Guasch",
      "photoUrl": "https://lh3.googleusercontent.com/a-/AOh14GgixAK3O--_q3YyU7UAGgU4O9_TVZ2sRmOJ0jGj=s64",
      "userId": "08850588352998994016"
     },
     "user_tz": -60
    },
    "id": "90DUV2nWGhQy",
    "outputId": "be7fa08c-adf6-491f-df71-80fb5b100378"
   },
   "outputs": [
    {
     "data": {
      "image/png": "[encoded data removed]",
      "text/plain": [
       "<Figure size 864x576 with 2 Axes>"
      ]
     },
     "metadata": {
      "needs_background": "light",
      "tags": []
     },
     "output_type": "display_data"
    },
    {
     "name": "stdout",
     "output_type": "stream",
     "text": [
      "accuracy\n",
      "\taccuracy         \t (min:    0.873, max:    0.980, cur:    0.980)\n",
      "log loss\n",
      "\tlog loss         \t (min:    0.067, max:    0.471, cur:    0.067)\n",
      "Avg. Test Loss: 0.112  Avg. Test Accuracy: 0.967\n",
      "\n"
     ]
    }
   ],
   "source": [
    "mnist_train = MNIST(\"./\", download=True, train=True)\n",
    "\n",
    "X_train, y_train = apply_normalization(mnist_train.train_data.float()), mnist_train.train_labels\n",
    "mnist_train = TensorDataset(X_train, y_train)\n",
    "train_loader = DataLoader(mnist_train, batch_size=batch_size, shuffle=True, num_workers=4)  # now we define 4 workers to load the mini-batches\n",
    "\n",
    "set_seed(seed)\n",
    "model = SimpleNet().to(device)\n",
    "optimizer = torch.optim.SGD(model.parameters(), lr=lr, momentum=best_momentum)\n",
    "criterion = nn.CrossEntropyLoss()\n",
    "\n",
    "liveloss = PlotLosses()\n",
    "for epoch in range(n_epochs):\n",
    "    logs = {}\n",
    "    train_loss, train_accuracy = train(model, optimizer, criterion, train_loader)\n",
    "\n",
    "    logs['log loss'] = train_loss.item()\n",
    "    logs['accuracy'] = train_accuracy.item()\n",
    "\n",
    "    # test_loss, test_accuracy = validate(model, criterion, test_loader)\n",
    "    # logs['val_' + 'log loss'] = test_loss.item()\n",
    "    # logs['val_' + 'accuracy'] = test_accuracy.item()\n",
    "\n",
    "    liveloss.update(logs)\n",
    "    liveloss.draw()\n",
    "\n",
    "test_loss, test_accuracy = validate(model, criterion, test_loader)    # first time we use the test dataset!\n",
    "print(\"Avg. Test Loss: %1.3f\" % test_loss.item(), \" Avg. Test Accuracy: %1.3f\" % test_accuracy.item())\n",
    "print(\"\")"
   ]
  },
  {
   "cell_type": "markdown",
   "metadata": {
    "id": "QefvYkcIAaWH"
   },
   "source": [
    "## 2.1: Storing and loading models - Pytorch State-Dicts"
   ]
  },
  {
   "cell_type": "markdown",
   "metadata": {
    "id": "6db2OqwdAb7V"
   },
   "source": [
    "Pytorch stores all the parameters of models and optimizers, their weights and biases in an easy to read dictionary called a \"state-dict\".\n",
    "When we store models and optimizers, we store the state-dict.  \n",
    "Together with the model definition we can then restore the model to it's state when we stored it to disk.\n",
    "Let's look at the contents of the state-dict of both our optimizer and our model:"
   ]
  },
  {
   "cell_type": "code",
   "execution_count": null,
   "metadata": {
    "colab": {
     "base_uri": "https://localhost:8080/"
    },
    "executionInfo": {
     "elapsed": 671,
     "status": "ok",
     "timestamp": 1619880963336,
     "user": {
      "displayName": "Lluis Guasch",
      "photoUrl": "https://lh3.googleusercontent.com/a-/AOh14GgixAK3O--_q3YyU7UAGgU4O9_TVZ2sRmOJ0jGj=s64",
      "userId": "08850588352998994016"
     },
     "user_tz": -60
    },
    "id": "YzY_uubq_uqM",
    "outputId": "73fcce4c-321f-4f9c-ca67-ffa2908b57b5"
   },
   "outputs": [
    {
     "name": "stdout",
     "output_type": "stream",
     "text": [
      "Model's state_dict:\n",
      "linear_1.weight \t torch.Size([25, 784])\n",
      "linear_1.bias \t torch.Size([25])\n",
      "linear_2.weight \t torch.Size([10, 25])\n",
      "linear_2.bias \t torch.Size([10])\n",
      "Optimizer's state_dict:\n",
      "state \t {0: {'momentum_buffer': tensor([[ 0.0028,  0.0028,  0.0028,  ...,  0.0028,  0.0028,  0.0028],\n",
      "        [ 0.0008,  0.0008,  0.0008,  ...,  0.0008,  0.0008,  0.0008],\n",
      "        [-0.0025, -0.0025, -0.0025,  ..., -0.0025, -0.0025, -0.0025],\n",
      "        ...,\n",
      "        [ 0.0013,  0.0013,  0.0013,  ...,  0.0013,  0.0013,  0.0013],\n",
      "        [ 0.0031,  0.0031,  0.0031,  ...,  0.0031,  0.0031,  0.0031],\n",
      "        [-0.0026, -0.0026, -0.0026,  ..., -0.0026, -0.0026, -0.0026]],\n",
      "       device='cuda:0')}, 1: {'momentum_buffer': tensor([-0.0066, -0.0019,  0.0058,  0.0157, -0.0059, -0.0051, -0.0023, -0.0076,\n",
      "        -0.0048, -0.0038, -0.0027,  0.0012,  0.0081, -0.0199,  0.0164, -0.0076,\n",
      "        -0.0091,  0.0141, -0.0088,  0.0172,  0.0026, -0.0181, -0.0032, -0.0073,\n",
      "         0.0061], device='cuda:0')}, 2: {'momentum_buffer': tensor([[-1.6053e-02, -7.7031e-02, -1.8011e-02, -2.7682e-02, -6.7186e-03,\n",
      "          1.2550e-03,  1.4819e-04, -5.0671e-02, -5.0889e-04,  5.5411e-03,\n",
      "          8.2967e-04, -9.8276e-03,  4.1483e-04, -2.5447e-04, -5.3419e-02,\n",
      "         -7.2974e-02, -2.3842e-03, -2.7556e-02,  4.0158e-04, -4.9402e-02,\n",
      "         -5.0641e-02,  2.0167e-04,  7.3953e-05,  5.6742e-04, -6.1408e-02],\n",
      "        [ 3.0017e-04, -2.2434e-03, -4.7528e-03,  1.1290e-02,  4.8667e-04,\n",
      "          4.5618e-03,  2.7912e-04,  1.8082e-03,  4.6930e-03,  2.9274e-03,\n",
      "          1.0813e-03,  8.8165e-03,  3.9843e-03,  3.0332e-04,  7.1907e-03,\n",
      "          1.1773e-03,  7.3114e-03,  2.5710e-04,  5.0702e-03,  3.5962e-03,\n",
      "          1.7193e-03, -3.8773e-04,  8.2356e-03,  3.8879e-03, -4.4390e-04],\n",
      "        [-2.4613e-03, -2.7985e-02, -1.1132e-02, -4.1822e-02, -1.6185e-02,\n",
      "         -3.5456e-02, -4.0831e-03, -2.0640e-02, -6.8301e-02, -1.1209e-02,\n",
      "         -2.1127e-03, -7.0884e-02, -3.5902e-02, -1.9605e-02, -9.3682e-02,\n",
      "         -6.9121e-04, -2.2593e-02, -1.7611e-02, -4.2027e-02, -2.4724e-02,\n",
      "         -5.3272e-03, -1.2463e-03, -2.8566e-02, -8.4000e-02, -3.6509e-02],\n",
      "        [-1.7455e-03,  1.9472e-03,  3.8955e-03, -4.7930e-02, -3.8191e-02,\n",
      "         -1.2717e-01,  7.9403e-03,  3.3080e-03, -5.2226e-03, -2.5237e-02,\n",
      "          1.6804e-03,  1.7067e-02,  2.7672e-03, -2.5736e-02, -1.5218e-01,\n",
      "         -1.5666e-02,  2.2214e-03, -1.9962e-02, -9.9083e-02,  8.1168e-03,\n",
      "          1.7708e-03, -2.4967e-02,  3.2899e-03, -2.5994e-02, -1.1951e-01],\n",
      "        [ 1.1940e-03, -3.7454e-03, -2.9443e-02, -1.2089e-01,  5.7581e-03,\n",
      "          4.0582e-03, -2.7174e-02, -3.5043e-02, -2.9839e-02, -4.9472e-02,\n",
      "         -5.0882e-02,  6.7083e-03,  3.7101e-03, -8.0112e-03, -8.5173e-02,\n",
      "          3.6331e-03, -6.3399e-02,  3.9160e-03,  1.9005e-03, -7.0206e-02,\n",
      "         -5.6304e-02,  8.8619e-04, -6.3639e-02,  1.4113e-03, -5.8461e-02],\n",
      "        [ 3.8230e-03,  5.3463e-03, -1.7707e-03,  4.7810e-04,  7.3348e-03,\n",
      "          2.3265e-03, -2.9766e-03, -1.4674e-03,  2.0923e-03, -3.7981e-03,\n",
      "         -3.4121e-04,  5.7741e-04,  3.7210e-04, -3.0190e-03,  2.5880e-03,\n",
      "         -1.4617e-03, -1.8273e-05, -1.1482e-03,  4.4157e-03,  6.1087e-03,\n",
      "          1.2565e-03,  6.3938e-04,  9.9948e-04,  4.9519e-04,  4.5359e-03],\n",
      "        [-1.1252e-03,  4.4984e-03,  5.2192e-03,  5.2450e-03, -2.5794e-03,\n",
      "          1.5189e-04,  8.4839e-03, -6.0420e-03,  6.6255e-03, -1.0571e-02,\n",
      "          1.5352e-03,  2.3206e-03, -3.5288e-03, -3.8789e-03,  1.1463e-02,\n",
      "         -7.2698e-04,  9.3684e-03, -4.7702e-03, -5.7894e-04,  4.0246e-03,\n",
      "          1.2638e-03,  8.0254e-04,  3.9709e-03,  7.2407e-04,  7.3035e-04],\n",
      "        [-1.7118e-03,  2.9023e-02,  1.2546e-02,  1.8272e-02,  6.7416e-05,\n",
      "          9.1534e-03, -8.3307e-04,  8.8848e-03,  3.8510e-02,  4.3693e-03,\n",
      "          8.8842e-04,  2.9863e-02,  1.5655e-02,  6.6741e-04,  4.2922e-02,\n",
      "         -1.8384e-05,  9.1971e-03,  3.3036e-03,  1.7442e-02,  1.7929e-02,\n",
      "          6.0971e-04,  4.9474e-04,  1.1362e-02,  4.8162e-02,  1.0872e-02],\n",
      "        [ 2.1629e-02,  7.2292e-02,  4.1999e-02,  2.0378e-01,  5.5819e-02,\n",
      "          1.4463e-01,  1.8836e-02,  9.7750e-02,  4.8654e-02,  8.6935e-02,\n",
      "          4.6903e-02,  1.4952e-02,  1.3637e-02,  5.9637e-02,  3.2834e-01,\n",
      "          9.0950e-02,  6.0632e-02,  6.4566e-02,  1.1744e-01,  1.1042e-01,\n",
      "          1.0696e-01,  2.7971e-02,  6.3585e-02,  5.7810e-02,  2.6550e-01],\n",
      "        [-3.8500e-03, -2.1023e-03,  1.4493e-03, -7.4742e-04, -5.7912e-03,\n",
      "         -3.5181e-03, -6.2132e-04,  2.1118e-03,  3.2966e-03,  5.1459e-04,\n",
      "          4.1838e-04,  4.0732e-04, -1.1095e-03, -1.0276e-04, -8.0484e-03,\n",
      "         -4.2220e-03, -3.3553e-04, -9.9537e-04, -4.9803e-03, -5.8614e-03,\n",
      "         -1.3036e-03, -4.3947e-03,  6.8883e-04, -3.0644e-03, -5.3006e-03]],\n",
      "       device='cuda:0')}, 3: {'momentum_buffer': tensor([-0.0062,  0.0013, -0.0094, -0.0084, -0.0075,  0.0003,  0.0001,  0.0042,\n",
      "         0.0264, -0.0007], device='cuda:0')}}\n",
      "param_groups \t [{'lr': 0.01, 'momentum': 0.5, 'dampening': 0, 'weight_decay': 0, 'nesterov': False, 'params': [0, 1, 2, 3]}]\n"
     ]
    }
   ],
   "source": [
    "# Print model's state_dict\n",
    "print(\"Model's state_dict:\")\n",
    "for param_tensor in model.state_dict():\n",
    "    print(param_tensor, \"\\t\", model.state_dict()[param_tensor].size())\n",
    "\n",
    "# Print optimizer's state_dict\n",
    "print(\"Optimizer's state_dict:\")\n",
    "for var_name in optimizer.state_dict():\n",
    "    print(var_name, \"\\t\", optimizer.state_dict()[var_name])\n",
    "\n",
    "## print(model) can also be used to print-out the layers of the model sequentially. However, this does not produce a visualization."
   ]
  },
  {
   "cell_type": "markdown",
   "metadata": {
    "id": "EjiWkU_TGJgK"
   },
   "source": [
    "## 2.2: Storing models to disk\n",
    "From colab (and locally) we can store models to disk using ```torch.save``` and passing both a models state_dict() and a path where to store it."
   ]
  },
  {
   "cell_type": "code",
   "execution_count": null,
   "metadata": {
    "id": "gjOcO8oxGJt0"
   },
   "outputs": [],
   "source": [
    "#!mkdir '/content/gdrive/My Drive/models'  ## create the director for storing the model\n",
    "\n",
    "model_save_name = 'simplenet_mnist_classifier.pt' ## .pt and .pth are common file extensions for saving models in pytorch\n",
    "path = F\"/content/gdrive/My Drive/models/{model_save_name}\" \n",
    "torch.save(model.state_dict(), path)\n",
    "\n",
    "optimiser_save_name = 'simplenet_mnist_classifier_optimiser.pt' ## .pt and .pth are common file extensions for saving models in pytorch\n",
    "path = F\"/content/gdrive/My Drive/models/{optimiser_save_name}\" \n",
    "torch.save(model.state_dict(), path)"
   ]
  },
  {
   "cell_type": "markdown",
   "metadata": {
    "id": "_OiqJ0HOF6hq"
   },
   "source": [
    "## 2.3: Loading models from checkpoints\n",
    "Finally, we can restore models from the saved ```state_dict```'s and do a number of things such as:\n",
    "1. Continue training (given we stored the optimizer as well)\n",
    "2. Make predictions from our model\n",
    "3. Perform inspections of our model\n",
    "4. Use our model in ensembles \n",
    "5. ...\n",
    "\n",
    "By default a loaded model is put into ```.train()``` mode. So be careful when using networks that behave different depending on training and test time e.g. dropout regularized networks or batch-normalized networks."
   ]
  },
  {
   "cell_type": "code",
   "execution_count": null,
   "metadata": {
    "colab": {
     "base_uri": "https://localhost:8080/"
    },
    "executionInfo": {
     "elapsed": 1151,
     "status": "ok",
     "timestamp": 1619881132084,
     "user": {
      "displayName": "Lluis Guasch",
      "photoUrl": "https://lh3.googleusercontent.com/a-/AOh14GgixAK3O--_q3YyU7UAGgU4O9_TVZ2sRmOJ0jGj=s64",
      "userId": "08850588352998994016"
     },
     "user_tz": -60
    },
    "id": "8t4FzhqVF6vh",
    "outputId": "04ebc275-55b1-415b-8458-b41fc50e87d2"
   },
   "outputs": [
    {
     "name": "stdout",
     "output_type": "stream",
     "text": [
      "Avg. Test Loss: 0.112  Avg. Test Accuracy: 0.967\n",
      "\n"
     ]
    }
   ],
   "source": [
    "model = SimpleNet().to(device) ## creates an instance of the model\n",
    "model.load_state_dict(torch.load(path)) ## loads the parameters of the model in path. state_dict is a dictionary object that maps each layer in the model to its trainable parameters (weights and biases).\n",
    "model.eval()\n",
    "\n",
    "test_loss, test_accuracy = validate(model, criterion, test_loader)    \n",
    "print(\"Avg. Test Loss: %1.3f\" % test_loss.item(), \" Avg. Test Accuracy: %1.3f\" % test_accuracy.item())\n",
    "print(\"\")"
   ]
  },
  {
   "cell_type": "markdown",
   "metadata": {
    "id": "uhSLXauWHmZ2"
   },
   "source": [
    "We had this before: Avg. Test Loss: 0.112  Avg. Test Accuracy: 0.967\n",
    "\n",
    "Our model performs exactly the same as before storing it to disk."
   ]
  },
  {
   "cell_type": "markdown",
   "metadata": {
    "id": "-L76-AvQ1eq9"
   },
   "source": [
    "[Here](https://pytorch.org/tutorials/beginner/saving_loading_models.html) you can find a document with a more in-depth description on how to save and load PyTorch models"
   ]
  },
  {
   "cell_type": "markdown",
   "metadata": {
    "id": "drtNC55y1vPe"
   },
   "source": [
    "---\n",
    "\n",
    "#Summary of the day:\n",
    "\n",
    "- First network designed to work on MNIST.\n",
    "- `StratifiedShuffleSplit` class generates a validation set.\n",
    "- Hyperparameter optimisation (momentum in today's lecture, but the same concept can be extended to any hyperparameter) with a manual grid search.\n",
    "- Improve performance by retraining full dataset (training + validation) with optimal hyperparameter derived from cross-validation.\n",
    "- Confusion matrix as a tool to better understand the limitations of our models.\n",
    "- Save and load Pytorch models."
   ]
  }
 ],
 "metadata": {
  "accelerator": "GPU",
  "colab": {
   "collapsed_sections": [],
   "name": "Morning-Session-3-MNIST-Neural-Networks-Regularization-Cross-Validation_Solutions.ipynb",
   "provenance": [
    {
     "file_id": "https://github.com/acse-2019/ACSE-8/blob/master/Implementation/practical_3/morning/Morning_Session_3_MNIST_Neural_Networks_Regularization_Cross_Validation_Exercise.ipynb",
     "timestamp": 1618231306494
    }
   ]
  },
  "kernelspec": {
   "display_name": "Python 3",
   "language": "python",
   "name": "python3"
  },
  "language_info": {
   "codemirror_mode": {
    "name": "ipython",
    "version": 3
   },
   "file_extension": ".py",
   "mimetype": "text/x-python",
   "name": "python",
   "nbconvert_exporter": "python",
   "pygments_lexer": "ipython3",
   "version": "3.8.5"
  },
  "widgets": {
   "application/vnd.jupyter.widget-state+json": {
    "0b402331a8604a47934ec7880fd26133": {
     "model_module": "@jupyter-widgets/controls",
     "model_name": "FloatProgressModel",
     "state": {
      "_dom_classes": [],
      "_model_module": "@jupyter-widgets/controls",
      "_model_module_version": "1.5.0",
      "_model_name": "FloatProgressModel",
      "_view_count": null,
      "_view_module": "@jupyter-widgets/controls",
      "_view_module_version": "1.5.0",
      "_view_name": "ProgressView",
      "bar_style": "success",
      "description": "",
      "description_tooltip": null,
      "layout": "IPY_MODEL_c452a49b79c04d12bd5d111eff3dcb7b",
      "max": 9912422,
      "min": 0,
      "orientation": "horizontal",
      "style": "IPY_MODEL_7b4e839883974b9e87f03e913bdea9dd",
      "value": 9912422
     }
    },
    "1b7f3e7a80ba46699d3e464eb4de26a2": {
     "model_module": "@jupyter-widgets/base",
     "model_name": "LayoutModel",
     "state": {
      "_model_module": "@jupyter-widgets/base",
      "_model_module_version": "1.2.0",
      "_model_name": "LayoutModel",
      "_view_count": null,
      "_view_module": "@jupyter-widgets/base",
      "_view_module_version": "1.2.0",
      "_view_name": "LayoutView",
      "align_content": null,
      "align_items": null,
      "align_self": null,
      "border": null,
      "bottom": null,
      "display": null,
      "flex": null,
      "flex_flow": null,
      "grid_area": null,
      "grid_auto_columns": null,
      "grid_auto_flow": null,
      "grid_auto_rows": null,
      "grid_column": null,
      "grid_gap": null,
      "grid_row": null,
      "grid_template_areas": null,
      "grid_template_columns": null,
      "grid_template_rows": null,
      "height": null,
      "justify_content": null,
      "justify_items": null,
      "left": null,
      "margin": null,
      "max_height": null,
      "max_width": null,
      "min_height": null,
      "min_width": null,
      "object_fit": null,
      "object_position": null,
      "order": null,
      "overflow": null,
      "overflow_x": null,
      "overflow_y": null,
      "padding": null,
      "right": null,
      "top": null,
      "visibility": null,
      "width": null
     }
    },
    "1b9b376ad3104dfcad9b44e125645281": {
     "model_module": "@jupyter-widgets/controls",
     "model_name": "ProgressStyleModel",
     "state": {
      "_model_module": "@jupyter-widgets/controls",
      "_model_module_version": "1.5.0",
      "_model_name": "ProgressStyleModel",
      "_view_count": null,
      "_view_module": "@jupyter-widgets/base",
      "_view_module_version": "1.2.0",
      "_view_name": "StyleView",
      "bar_color": null,
      "description_width": "initial"
     }
    },
    "251bad0877f6427785905683a64a315f": {
     "model_module": "@jupyter-widgets/base",
     "model_name": "LayoutModel",
     "state": {
      "_model_module": "@jupyter-widgets/base",
      "_model_module_version": "1.2.0",
      "_model_name": "LayoutModel",
      "_view_count": null,
      "_view_module": "@jupyter-widgets/base",
      "_view_module_version": "1.2.0",
      "_view_name": "LayoutView",
      "align_content": null,
      "align_items": null,
      "align_self": null,
      "border": null,
      "bottom": null,
      "display": null,
      "flex": null,
      "flex_flow": null,
      "grid_area": null,
      "grid_auto_columns": null,
      "grid_auto_flow": null,
      "grid_auto_rows": null,
      "grid_column": null,
      "grid_gap": null,
      "grid_row": null,
      "grid_template_areas": null,
      "grid_template_columns": null,
      "grid_template_rows": null,
      "height": null,
      "justify_content": null,
      "justify_items": null,
      "left": null,
      "margin": null,
      "max_height": null,
      "max_width": null,
      "min_height": null,
      "min_width": null,
      "object_fit": null,
      "object_position": null,
      "order": null,
      "overflow": null,
      "overflow_x": null,
      "overflow_y": null,
      "padding": null,
      "right": null,
      "top": null,
      "visibility": null,
      "width": null
     }
    },
    "2522db19930f49829ce4c284c402a553": {
     "model_module": "@jupyter-widgets/controls",
     "model_name": "HTMLModel",
     "state": {
      "_dom_classes": [],
      "_model_module": "@jupyter-widgets/controls",
      "_model_module_version": "1.5.0",
      "_model_name": "HTMLModel",
      "_view_count": null,
      "_view_module": "@jupyter-widgets/controls",
      "_view_module_version": "1.5.0",
      "_view_name": "HTMLView",
      "description": "",
      "description_tooltip": null,
      "layout": "IPY_MODEL_1b7f3e7a80ba46699d3e464eb4de26a2",
      "placeholder": "​",
      "style": "IPY_MODEL_b6e932826d1242c6b95df2eebfdec308",
      "value": " 29696/? [07:43&lt;00:00, 64.11it/s]"
     }
    },
    "25e064d1a3804ec4846df2edff886644": {
     "model_module": "@jupyter-widgets/base",
     "model_name": "LayoutModel",
     "state": {
      "_model_module": "@jupyter-widgets/base",
      "_model_module_version": "1.2.0",
      "_model_name": "LayoutModel",
      "_view_count": null,
      "_view_module": "@jupyter-widgets/base",
      "_view_module_version": "1.2.0",
      "_view_name": "LayoutView",
      "align_content": null,
      "align_items": null,
      "align_self": null,
      "border": null,
      "bottom": null,
      "display": null,
      "flex": null,
      "flex_flow": null,
      "grid_area": null,
      "grid_auto_columns": null,
      "grid_auto_flow": null,
      "grid_auto_rows": null,
      "grid_column": null,
      "grid_gap": null,
      "grid_row": null,
      "grid_template_areas": null,
      "grid_template_columns": null,
      "grid_template_rows": null,
      "height": null,
      "justify_content": null,
      "justify_items": null,
      "left": null,
      "margin": null,
      "max_height": null,
      "max_width": null,
      "min_height": null,
      "min_width": null,
      "object_fit": null,
      "object_position": null,
      "order": null,
      "overflow": null,
      "overflow_x": null,
      "overflow_y": null,
      "padding": null,
      "right": null,
      "top": null,
      "visibility": null,
      "width": null
     }
    },
    "2eb9e43f7a93410990cab08d3be62c97": {
     "model_module": "@jupyter-widgets/base",
     "model_name": "LayoutModel",
     "state": {
      "_model_module": "@jupyter-widgets/base",
      "_model_module_version": "1.2.0",
      "_model_name": "LayoutModel",
      "_view_count": null,
      "_view_module": "@jupyter-widgets/base",
      "_view_module_version": "1.2.0",
      "_view_name": "LayoutView",
      "align_content": null,
      "align_items": null,
      "align_self": null,
      "border": null,
      "bottom": null,
      "display": null,
      "flex": null,
      "flex_flow": null,
      "grid_area": null,
      "grid_auto_columns": null,
      "grid_auto_flow": null,
      "grid_auto_rows": null,
      "grid_column": null,
      "grid_gap": null,
      "grid_row": null,
      "grid_template_areas": null,
      "grid_template_columns": null,
      "grid_template_rows": null,
      "height": null,
      "justify_content": null,
      "justify_items": null,
      "left": null,
      "margin": null,
      "max_height": null,
      "max_width": null,
      "min_height": null,
      "min_width": null,
      "object_fit": null,
      "object_position": null,
      "order": null,
      "overflow": null,
      "overflow_x": null,
      "overflow_y": null,
      "padding": null,
      "right": null,
      "top": null,
      "visibility": null,
      "width": null
     }
    },
    "335bcdc81f874b6bab1c5261b969d6ed": {
     "model_module": "@jupyter-widgets/controls",
     "model_name": "HBoxModel",
     "state": {
      "_dom_classes": [],
      "_model_module": "@jupyter-widgets/controls",
      "_model_module_version": "1.5.0",
      "_model_name": "HBoxModel",
      "_view_count": null,
      "_view_module": "@jupyter-widgets/controls",
      "_view_module_version": "1.5.0",
      "_view_name": "HBoxView",
      "box_style": "",
      "children": [
       "IPY_MODEL_ba68b534c8964dc0b8918ef4c92f0824",
       "IPY_MODEL_cc2c5715a1a0413e80aa606d869600e1"
      ],
      "layout": "IPY_MODEL_83d127ad79e144f38d935e576f3d18c9"
     }
    },
    "3882a331f77c4ff289003cdff412d36d": {
     "model_module": "@jupyter-widgets/base",
     "model_name": "LayoutModel",
     "state": {
      "_model_module": "@jupyter-widgets/base",
      "_model_module_version": "1.2.0",
      "_model_name": "LayoutModel",
      "_view_count": null,
      "_view_module": "@jupyter-widgets/base",
      "_view_module_version": "1.2.0",
      "_view_name": "LayoutView",
      "align_content": null,
      "align_items": null,
      "align_self": null,
      "border": null,
      "bottom": null,
      "display": null,
      "flex": null,
      "flex_flow": null,
      "grid_area": null,
      "grid_auto_columns": null,
      "grid_auto_flow": null,
      "grid_auto_rows": null,
      "grid_column": null,
      "grid_gap": null,
      "grid_row": null,
      "grid_template_areas": null,
      "grid_template_columns": null,
      "grid_template_rows": null,
      "height": null,
      "justify_content": null,
      "justify_items": null,
      "left": null,
      "margin": null,
      "max_height": null,
      "max_width": null,
      "min_height": null,
      "min_width": null,
      "object_fit": null,
      "object_position": null,
      "order": null,
      "overflow": null,
      "overflow_x": null,
      "overflow_y": null,
      "padding": null,
      "right": null,
      "top": null,
      "visibility": null,
      "width": null
     }
    },
    "5c25dda2c40e4fc6a02296568d5e9ca0": {
     "model_module": "@jupyter-widgets/controls",
     "model_name": "FloatProgressModel",
     "state": {
      "_dom_classes": [],
      "_model_module": "@jupyter-widgets/controls",
      "_model_module_version": "1.5.0",
      "_model_name": "FloatProgressModel",
      "_view_count": null,
      "_view_module": "@jupyter-widgets/controls",
      "_view_module_version": "1.5.0",
      "_view_name": "ProgressView",
      "bar_style": "success",
      "description": "",
      "description_tooltip": null,
      "layout": "IPY_MODEL_2eb9e43f7a93410990cab08d3be62c97",
      "max": 1648877,
      "min": 0,
      "orientation": "horizontal",
      "style": "IPY_MODEL_1b9b376ad3104dfcad9b44e125645281",
      "value": 1648877
     }
    },
    "673efa7e349f41a79af44129946ef33a": {
     "model_module": "@jupyter-widgets/controls",
     "model_name": "DescriptionStyleModel",
     "state": {
      "_model_module": "@jupyter-widgets/controls",
      "_model_module_version": "1.5.0",
      "_model_name": "DescriptionStyleModel",
      "_view_count": null,
      "_view_module": "@jupyter-widgets/base",
      "_view_module_version": "1.2.0",
      "_view_name": "StyleView",
      "description_width": ""
     }
    },
    "6d08752786c648958a13c119be62f188": {
     "model_module": "@jupyter-widgets/base",
     "model_name": "LayoutModel",
     "state": {
      "_model_module": "@jupyter-widgets/base",
      "_model_module_version": "1.2.0",
      "_model_name": "LayoutModel",
      "_view_count": null,
      "_view_module": "@jupyter-widgets/base",
      "_view_module_version": "1.2.0",
      "_view_name": "LayoutView",
      "align_content": null,
      "align_items": null,
      "align_self": null,
      "border": null,
      "bottom": null,
      "display": null,
      "flex": null,
      "flex_flow": null,
      "grid_area": null,
      "grid_auto_columns": null,
      "grid_auto_flow": null,
      "grid_auto_rows": null,
      "grid_column": null,
      "grid_gap": null,
      "grid_row": null,
      "grid_template_areas": null,
      "grid_template_columns": null,
      "grid_template_rows": null,
      "height": null,
      "justify_content": null,
      "justify_items": null,
      "left": null,
      "margin": null,
      "max_height": null,
      "max_width": null,
      "min_height": null,
      "min_width": null,
      "object_fit": null,
      "object_position": null,
      "order": null,
      "overflow": null,
      "overflow_x": null,
      "overflow_y": null,
      "padding": null,
      "right": null,
      "top": null,
      "visibility": null,
      "width": null
     }
    },
    "712065ee34254e81aea32bb31f6b7056": {
     "model_module": "@jupyter-widgets/controls",
     "model_name": "ProgressStyleModel",
     "state": {
      "_model_module": "@jupyter-widgets/controls",
      "_model_module_version": "1.5.0",
      "_model_name": "ProgressStyleModel",
      "_view_count": null,
      "_view_module": "@jupyter-widgets/base",
      "_view_module_version": "1.2.0",
      "_view_name": "StyleView",
      "bar_color": null,
      "description_width": "initial"
     }
    },
    "7462695712b74f95a6a29d4d790f2441": {
     "model_module": "@jupyter-widgets/controls",
     "model_name": "HTMLModel",
     "state": {
      "_dom_classes": [],
      "_model_module": "@jupyter-widgets/controls",
      "_model_module_version": "1.5.0",
      "_model_name": "HTMLModel",
      "_view_count": null,
      "_view_module": "@jupyter-widgets/controls",
      "_view_module_version": "1.5.0",
      "_view_name": "HTMLView",
      "description": "",
      "description_tooltip": null,
      "layout": "IPY_MODEL_922fa24e17c54bc3bfcc91da4d417ed8",
      "placeholder": "​",
      "style": "IPY_MODEL_fdcf7488076e48f18f31fcec05546bdd",
      "value": " 9913344/? [00:02&lt;00:00, 4444892.54it/s]"
     }
    },
    "7b4e839883974b9e87f03e913bdea9dd": {
     "model_module": "@jupyter-widgets/controls",
     "model_name": "ProgressStyleModel",
     "state": {
      "_model_module": "@jupyter-widgets/controls",
      "_model_module_version": "1.5.0",
      "_model_name": "ProgressStyleModel",
      "_view_count": null,
      "_view_module": "@jupyter-widgets/base",
      "_view_module_version": "1.2.0",
      "_view_name": "StyleView",
      "bar_color": null,
      "description_width": "initial"
     }
    },
    "83d127ad79e144f38d935e576f3d18c9": {
     "model_module": "@jupyter-widgets/base",
     "model_name": "LayoutModel",
     "state": {
      "_model_module": "@jupyter-widgets/base",
      "_model_module_version": "1.2.0",
      "_model_name": "LayoutModel",
      "_view_count": null,
      "_view_module": "@jupyter-widgets/base",
      "_view_module_version": "1.2.0",
      "_view_name": "LayoutView",
      "align_content": null,
      "align_items": null,
      "align_self": null,
      "border": null,
      "bottom": null,
      "display": null,
      "flex": null,
      "flex_flow": null,
      "grid_area": null,
      "grid_auto_columns": null,
      "grid_auto_flow": null,
      "grid_auto_rows": null,
      "grid_column": null,
      "grid_gap": null,
      "grid_row": null,
      "grid_template_areas": null,
      "grid_template_columns": null,
      "grid_template_rows": null,
      "height": null,
      "justify_content": null,
      "justify_items": null,
      "left": null,
      "margin": null,
      "max_height": null,
      "max_width": null,
      "min_height": null,
      "min_width": null,
      "object_fit": null,
      "object_position": null,
      "order": null,
      "overflow": null,
      "overflow_x": null,
      "overflow_y": null,
      "padding": null,
      "right": null,
      "top": null,
      "visibility": null,
      "width": null
     }
    },
    "87f2c7da91d5473e856b603754b59759": {
     "model_module": "@jupyter-widgets/base",
     "model_name": "LayoutModel",
     "state": {
      "_model_module": "@jupyter-widgets/base",
      "_model_module_version": "1.2.0",
      "_model_name": "LayoutModel",
      "_view_count": null,
      "_view_module": "@jupyter-widgets/base",
      "_view_module_version": "1.2.0",
      "_view_name": "LayoutView",
      "align_content": null,
      "align_items": null,
      "align_self": null,
      "border": null,
      "bottom": null,
      "display": null,
      "flex": null,
      "flex_flow": null,
      "grid_area": null,
      "grid_auto_columns": null,
      "grid_auto_flow": null,
      "grid_auto_rows": null,
      "grid_column": null,
      "grid_gap": null,
      "grid_row": null,
      "grid_template_areas": null,
      "grid_template_columns": null,
      "grid_template_rows": null,
      "height": null,
      "justify_content": null,
      "justify_items": null,
      "left": null,
      "margin": null,
      "max_height": null,
      "max_width": null,
      "min_height": null,
      "min_width": null,
      "object_fit": null,
      "object_position": null,
      "order": null,
      "overflow": null,
      "overflow_x": null,
      "overflow_y": null,
      "padding": null,
      "right": null,
      "top": null,
      "visibility": null,
      "width": null
     }
    },
    "922fa24e17c54bc3bfcc91da4d417ed8": {
     "model_module": "@jupyter-widgets/base",
     "model_name": "LayoutModel",
     "state": {
      "_model_module": "@jupyter-widgets/base",
      "_model_module_version": "1.2.0",
      "_model_name": "LayoutModel",
      "_view_count": null,
      "_view_module": "@jupyter-widgets/base",
      "_view_module_version": "1.2.0",
      "_view_name": "LayoutView",
      "align_content": null,
      "align_items": null,
      "align_self": null,
      "border": null,
      "bottom": null,
      "display": null,
      "flex": null,
      "flex_flow": null,
      "grid_area": null,
      "grid_auto_columns": null,
      "grid_auto_flow": null,
      "grid_auto_rows": null,
      "grid_column": null,
      "grid_gap": null,
      "grid_row": null,
      "grid_template_areas": null,
      "grid_template_columns": null,
      "grid_template_rows": null,
      "height": null,
      "justify_content": null,
      "justify_items": null,
      "left": null,
      "margin": null,
      "max_height": null,
      "max_width": null,
      "min_height": null,
      "min_width": null,
      "object_fit": null,
      "object_position": null,
      "order": null,
      "overflow": null,
      "overflow_x": null,
      "overflow_y": null,
      "padding": null,
      "right": null,
      "top": null,
      "visibility": null,
      "width": null
     }
    },
    "aeed03dbd38f4260a30bbd60a9ad4f28": {
     "model_module": "@jupyter-widgets/base",
     "model_name": "LayoutModel",
     "state": {
      "_model_module": "@jupyter-widgets/base",
      "_model_module_version": "1.2.0",
      "_model_name": "LayoutModel",
      "_view_count": null,
      "_view_module": "@jupyter-widgets/base",
      "_view_module_version": "1.2.0",
      "_view_name": "LayoutView",
      "align_content": null,
      "align_items": null,
      "align_self": null,
      "border": null,
      "bottom": null,
      "display": null,
      "flex": null,
      "flex_flow": null,
      "grid_area": null,
      "grid_auto_columns": null,
      "grid_auto_flow": null,
      "grid_auto_rows": null,
      "grid_column": null,
      "grid_gap": null,
      "grid_row": null,
      "grid_template_areas": null,
      "grid_template_columns": null,
      "grid_template_rows": null,
      "height": null,
      "justify_content": null,
      "justify_items": null,
      "left": null,
      "margin": null,
      "max_height": null,
      "max_width": null,
      "min_height": null,
      "min_width": null,
      "object_fit": null,
      "object_position": null,
      "order": null,
      "overflow": null,
      "overflow_x": null,
      "overflow_y": null,
      "padding": null,
      "right": null,
      "top": null,
      "visibility": null,
      "width": null
     }
    },
    "b14a02f0789b48a9813d15010e062a76": {
     "model_module": "@jupyter-widgets/controls",
     "model_name": "DescriptionStyleModel",
     "state": {
      "_model_module": "@jupyter-widgets/controls",
      "_model_module_version": "1.5.0",
      "_model_name": "DescriptionStyleModel",
      "_view_count": null,
      "_view_module": "@jupyter-widgets/base",
      "_view_module_version": "1.2.0",
      "_view_name": "StyleView",
      "description_width": ""
     }
    },
    "b1645e0e771c44f790014a6aabc2d57a": {
     "model_module": "@jupyter-widgets/base",
     "model_name": "LayoutModel",
     "state": {
      "_model_module": "@jupyter-widgets/base",
      "_model_module_version": "1.2.0",
      "_model_name": "LayoutModel",
      "_view_count": null,
      "_view_module": "@jupyter-widgets/base",
      "_view_module_version": "1.2.0",
      "_view_name": "LayoutView",
      "align_content": null,
      "align_items": null,
      "align_self": null,
      "border": null,
      "bottom": null,
      "display": null,
      "flex": null,
      "flex_flow": null,
      "grid_area": null,
      "grid_auto_columns": null,
      "grid_auto_flow": null,
      "grid_auto_rows": null,
      "grid_column": null,
      "grid_gap": null,
      "grid_row": null,
      "grid_template_areas": null,
      "grid_template_columns": null,
      "grid_template_rows": null,
      "height": null,
      "justify_content": null,
      "justify_items": null,
      "left": null,
      "margin": null,
      "max_height": null,
      "max_width": null,
      "min_height": null,
      "min_width": null,
      "object_fit": null,
      "object_position": null,
      "order": null,
      "overflow": null,
      "overflow_x": null,
      "overflow_y": null,
      "padding": null,
      "right": null,
      "top": null,
      "visibility": null,
      "width": null
     }
    },
    "b6e932826d1242c6b95df2eebfdec308": {
     "model_module": "@jupyter-widgets/controls",
     "model_name": "DescriptionStyleModel",
     "state": {
      "_model_module": "@jupyter-widgets/controls",
      "_model_module_version": "1.5.0",
      "_model_name": "DescriptionStyleModel",
      "_view_count": null,
      "_view_module": "@jupyter-widgets/base",
      "_view_module_version": "1.2.0",
      "_view_name": "StyleView",
      "description_width": ""
     }
    },
    "b974eda70998447e902ae40b99b5929d": {
     "model_module": "@jupyter-widgets/controls",
     "model_name": "HBoxModel",
     "state": {
      "_dom_classes": [],
      "_model_module": "@jupyter-widgets/controls",
      "_model_module_version": "1.5.0",
      "_model_name": "HBoxModel",
      "_view_count": null,
      "_view_module": "@jupyter-widgets/controls",
      "_view_module_version": "1.5.0",
      "_view_name": "HBoxView",
      "box_style": "",
      "children": [
       "IPY_MODEL_e96924017acb4cbd9d2a601a03239416",
       "IPY_MODEL_2522db19930f49829ce4c284c402a553"
      ],
      "layout": "IPY_MODEL_251bad0877f6427785905683a64a315f"
     }
    },
    "ba68b534c8964dc0b8918ef4c92f0824": {
     "model_module": "@jupyter-widgets/controls",
     "model_name": "FloatProgressModel",
     "state": {
      "_dom_classes": [],
      "_model_module": "@jupyter-widgets/controls",
      "_model_module_version": "1.5.0",
      "_model_name": "FloatProgressModel",
      "_view_count": null,
      "_view_module": "@jupyter-widgets/controls",
      "_view_module_version": "1.5.0",
      "_view_name": "ProgressView",
      "bar_style": "success",
      "description": "",
      "description_tooltip": null,
      "layout": "IPY_MODEL_b1645e0e771c44f790014a6aabc2d57a",
      "max": 4542,
      "min": 0,
      "orientation": "horizontal",
      "style": "IPY_MODEL_712065ee34254e81aea32bb31f6b7056",
      "value": 4542
     }
    },
    "c452a49b79c04d12bd5d111eff3dcb7b": {
     "model_module": "@jupyter-widgets/base",
     "model_name": "LayoutModel",
     "state": {
      "_model_module": "@jupyter-widgets/base",
      "_model_module_version": "1.2.0",
      "_model_name": "LayoutModel",
      "_view_count": null,
      "_view_module": "@jupyter-widgets/base",
      "_view_module_version": "1.2.0",
      "_view_name": "LayoutView",
      "align_content": null,
      "align_items": null,
      "align_self": null,
      "border": null,
      "bottom": null,
      "display": null,
      "flex": null,
      "flex_flow": null,
      "grid_area": null,
      "grid_auto_columns": null,
      "grid_auto_flow": null,
      "grid_auto_rows": null,
      "grid_column": null,
      "grid_gap": null,
      "grid_row": null,
      "grid_template_areas": null,
      "grid_template_columns": null,
      "grid_template_rows": null,
      "height": null,
      "justify_content": null,
      "justify_items": null,
      "left": null,
      "margin": null,
      "max_height": null,
      "max_width": null,
      "min_height": null,
      "min_width": null,
      "object_fit": null,
      "object_position": null,
      "order": null,
      "overflow": null,
      "overflow_x": null,
      "overflow_y": null,
      "padding": null,
      "right": null,
      "top": null,
      "visibility": null,
      "width": null
     }
    },
    "cc2c5715a1a0413e80aa606d869600e1": {
     "model_module": "@jupyter-widgets/controls",
     "model_name": "HTMLModel",
     "state": {
      "_dom_classes": [],
      "_model_module": "@jupyter-widgets/controls",
      "_model_module_version": "1.5.0",
      "_model_name": "HTMLModel",
      "_view_count": null,
      "_view_module": "@jupyter-widgets/controls",
      "_view_module_version": "1.5.0",
      "_view_name": "HTMLView",
      "description": "",
      "description_tooltip": null,
      "layout": "IPY_MODEL_aeed03dbd38f4260a30bbd60a9ad4f28",
      "placeholder": "​",
      "style": "IPY_MODEL_673efa7e349f41a79af44129946ef33a",
      "value": " 5120/? [01:05&lt;00:00, 77.75it/s]"
     }
    },
    "d1628191a58b4f339db086cb673b6db3": {
     "model_module": "@jupyter-widgets/controls",
     "model_name": "HBoxModel",
     "state": {
      "_dom_classes": [],
      "_model_module": "@jupyter-widgets/controls",
      "_model_module_version": "1.5.0",
      "_model_name": "HBoxModel",
      "_view_count": null,
      "_view_module": "@jupyter-widgets/controls",
      "_view_module_version": "1.5.0",
      "_view_name": "HBoxView",
      "box_style": "",
      "children": [
       "IPY_MODEL_0b402331a8604a47934ec7880fd26133",
       "IPY_MODEL_7462695712b74f95a6a29d4d790f2441"
      ],
      "layout": "IPY_MODEL_87f2c7da91d5473e856b603754b59759"
     }
    },
    "e8d68c64466b4ccd93f139f0766c6579": {
     "model_module": "@jupyter-widgets/controls",
     "model_name": "HBoxModel",
     "state": {
      "_dom_classes": [],
      "_model_module": "@jupyter-widgets/controls",
      "_model_module_version": "1.5.0",
      "_model_name": "HBoxModel",
      "_view_count": null,
      "_view_module": "@jupyter-widgets/controls",
      "_view_module_version": "1.5.0",
      "_view_name": "HBoxView",
      "box_style": "",
      "children": [
       "IPY_MODEL_5c25dda2c40e4fc6a02296568d5e9ca0",
       "IPY_MODEL_e9cbff58c6ba4811aac9a1308bc4fbf0"
      ],
      "layout": "IPY_MODEL_6d08752786c648958a13c119be62f188"
     }
    },
    "e96924017acb4cbd9d2a601a03239416": {
     "model_module": "@jupyter-widgets/controls",
     "model_name": "FloatProgressModel",
     "state": {
      "_dom_classes": [],
      "_model_module": "@jupyter-widgets/controls",
      "_model_module_version": "1.5.0",
      "_model_name": "FloatProgressModel",
      "_view_count": null,
      "_view_module": "@jupyter-widgets/controls",
      "_view_module_version": "1.5.0",
      "_view_name": "ProgressView",
      "bar_style": "success",
      "description": "",
      "description_tooltip": null,
      "layout": "IPY_MODEL_25e064d1a3804ec4846df2edff886644",
      "max": 28881,
      "min": 0,
      "orientation": "horizontal",
      "style": "IPY_MODEL_fe08123d020842689a057696d6397d69",
      "value": 28881
     }
    },
    "e9cbff58c6ba4811aac9a1308bc4fbf0": {
     "model_module": "@jupyter-widgets/controls",
     "model_name": "HTMLModel",
     "state": {
      "_dom_classes": [],
      "_model_module": "@jupyter-widgets/controls",
      "_model_module_version": "1.5.0",
      "_model_name": "HTMLModel",
      "_view_count": null,
      "_view_module": "@jupyter-widgets/controls",
      "_view_module_version": "1.5.0",
      "_view_name": "HTMLView",
      "description": "",
      "description_tooltip": null,
      "layout": "IPY_MODEL_3882a331f77c4ff289003cdff412d36d",
      "placeholder": "​",
      "style": "IPY_MODEL_b14a02f0789b48a9813d15010e062a76",
      "value": " 1649664/? [01:06&lt;00:00, 24647.40it/s]"
     }
    },
    "fdcf7488076e48f18f31fcec05546bdd": {
     "model_module": "@jupyter-widgets/controls",
     "model_name": "DescriptionStyleModel",
     "state": {
      "_model_module": "@jupyter-widgets/controls",
      "_model_module_version": "1.5.0",
      "_model_name": "DescriptionStyleModel",
      "_view_count": null,
      "_view_module": "@jupyter-widgets/base",
      "_view_module_version": "1.2.0",
      "_view_name": "StyleView",
      "description_width": ""
     }
    },
    "fe08123d020842689a057696d6397d69": {
     "model_module": "@jupyter-widgets/controls",
     "model_name": "ProgressStyleModel",
     "state": {
      "_model_module": "@jupyter-widgets/controls",
      "_model_module_version": "1.5.0",
      "_model_name": "ProgressStyleModel",
      "_view_count": null,
      "_view_module": "@jupyter-widgets/base",
      "_view_module_version": "1.2.0",
      "_view_name": "StyleView",
      "bar_color": null,
      "description_width": "initial"
     }
    }
   }
  }
 },
 "nbformat": 4,
 "nbformat_minor": 1
}
